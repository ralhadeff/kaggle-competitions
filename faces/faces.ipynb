{
 "cells": [
  {
   "cell_type": "code",
   "execution_count": 1,
   "metadata": {},
   "outputs": [],
   "source": [
    "import pandas as pd\n",
    "import numpy as np\n",
    "import matplotlib.pyplot as plt\n",
    "import glob"
   ]
  },
  {
   "cell_type": "code",
   "execution_count": 2,
   "metadata": {},
   "outputs": [
    {
     "data": {
      "text/html": [
       "<div>\n",
       "<style scoped>\n",
       "    .dataframe tbody tr th:only-of-type {\n",
       "        vertical-align: middle;\n",
       "    }\n",
       "\n",
       "    .dataframe tbody tr th {\n",
       "        vertical-align: top;\n",
       "    }\n",
       "\n",
       "    .dataframe thead th {\n",
       "        text-align: right;\n",
       "    }\n",
       "</style>\n",
       "<table border=\"1\" class=\"dataframe\">\n",
       "  <thead>\n",
       "    <tr style=\"text-align: right;\">\n",
       "      <th></th>\n",
       "      <th>p1</th>\n",
       "      <th>p2</th>\n",
       "    </tr>\n",
       "  </thead>\n",
       "  <tbody>\n",
       "    <tr>\n",
       "      <th>0</th>\n",
       "      <td>F0002/MID1</td>\n",
       "      <td>F0002/MID3</td>\n",
       "    </tr>\n",
       "    <tr>\n",
       "      <th>1</th>\n",
       "      <td>F0002/MID2</td>\n",
       "      <td>F0002/MID3</td>\n",
       "    </tr>\n",
       "    <tr>\n",
       "      <th>2</th>\n",
       "      <td>F0005/MID1</td>\n",
       "      <td>F0005/MID2</td>\n",
       "    </tr>\n",
       "    <tr>\n",
       "      <th>3</th>\n",
       "      <td>F0005/MID3</td>\n",
       "      <td>F0005/MID2</td>\n",
       "    </tr>\n",
       "    <tr>\n",
       "      <th>4</th>\n",
       "      <td>F0009/MID1</td>\n",
       "      <td>F0009/MID4</td>\n",
       "    </tr>\n",
       "  </tbody>\n",
       "</table>\n",
       "</div>"
      ],
      "text/plain": [
       "           p1          p2\n",
       "0  F0002/MID1  F0002/MID3\n",
       "1  F0002/MID2  F0002/MID3\n",
       "2  F0005/MID1  F0005/MID2\n",
       "3  F0005/MID3  F0005/MID2\n",
       "4  F0009/MID1  F0009/MID4"
      ]
     },
     "execution_count": 2,
     "metadata": {},
     "output_type": "execute_result"
    }
   ],
   "source": [
    "relationships = pd.read_csv('train_relationships.csv')\n",
    "relationships.head()"
   ]
  },
  {
   "cell_type": "code",
   "execution_count": 3,
   "metadata": {},
   "outputs": [
    {
     "data": {
      "text/plain": [
       "(224, 224, 3)"
      ]
     },
     "execution_count": 3,
     "metadata": {},
     "output_type": "execute_result"
    }
   ],
   "source": [
    "plt.imread('train/F0002/MID1/P00012_face2.jpg').shape"
   ]
  },
  {
   "cell_type": "code",
   "execution_count": 4,
   "metadata": {},
   "outputs": [
    {
     "name": "stderr",
     "output_type": "stream",
     "text": [
      "Using TensorFlow backend.\n"
     ]
    }
   ],
   "source": [
    "from keras.models import Model\n",
    "from keras.layers import Convolution2D, Flatten\n",
    "from keras.layers import Dense, Input, Dropout, concatenate"
   ]
  },
  {
   "cell_type": "code",
   "execution_count": 13,
   "metadata": {},
   "outputs": [
    {
     "name": "stdout",
     "output_type": "stream",
     "text": [
      "__________________________________________________________________________________________________\n",
      "Layer (type)                    Output Shape         Param #     Connected to                     \n",
      "==================================================================================================\n",
      "input_3 (InputLayer)            (None, 224, 224, 3)  0                                            \n",
      "__________________________________________________________________________________________________\n",
      "input_4 (InputLayer)            (None, 224, 224, 3)  0                                            \n",
      "__________________________________________________________________________________________________\n",
      "conv2d_11 (Conv2D)              (None, 111, 111, 32) 896         input_3[0][0]                    \n",
      "__________________________________________________________________________________________________\n",
      "conv2d_16 (Conv2D)              (None, 111, 111, 32) 896         input_4[0][0]                    \n",
      "__________________________________________________________________________________________________\n",
      "conv2d_12 (Conv2D)              (None, 55, 55, 64)   18496       conv2d_11[0][0]                  \n",
      "__________________________________________________________________________________________________\n",
      "conv2d_17 (Conv2D)              (None, 55, 55, 64)   18496       conv2d_16[0][0]                  \n",
      "__________________________________________________________________________________________________\n",
      "conv2d_13 (Conv2D)              (None, 27, 27, 128)  73856       conv2d_12[0][0]                  \n",
      "__________________________________________________________________________________________________\n",
      "conv2d_18 (Conv2D)              (None, 27, 27, 128)  73856       conv2d_17[0][0]                  \n",
      "__________________________________________________________________________________________________\n",
      "conv2d_14 (Conv2D)              (None, 12, 12, 256)  819456      conv2d_13[0][0]                  \n",
      "__________________________________________________________________________________________________\n",
      "conv2d_19 (Conv2D)              (None, 12, 12, 256)  819456      conv2d_18[0][0]                  \n",
      "__________________________________________________________________________________________________\n",
      "conv2d_15 (Conv2D)              (None, 4, 4, 512)    3277312     conv2d_14[0][0]                  \n",
      "__________________________________________________________________________________________________\n",
      "conv2d_20 (Conv2D)              (None, 4, 4, 512)    3277312     conv2d_19[0][0]                  \n",
      "__________________________________________________________________________________________________\n",
      "flatten_3 (Flatten)             (None, 8192)         0           conv2d_15[0][0]                  \n",
      "__________________________________________________________________________________________________\n",
      "flatten_4 (Flatten)             (None, 8192)         0           conv2d_20[0][0]                  \n",
      "__________________________________________________________________________________________________\n",
      "dropout_3 (Dropout)             (None, 8192)         0           flatten_3[0][0]                  \n",
      "__________________________________________________________________________________________________\n",
      "dropout_4 (Dropout)             (None, 8192)         0           flatten_4[0][0]                  \n",
      "__________________________________________________________________________________________________\n",
      "dense_4 (Dense)                 (None, 64)           524352      dropout_3[0][0]                  \n",
      "__________________________________________________________________________________________________\n",
      "dense_5 (Dense)                 (None, 64)           524352      dropout_4[0][0]                  \n",
      "__________________________________________________________________________________________________\n",
      "concatenate_2 (Concatenate)     (None, 128)          0           dense_4[0][0]                    \n",
      "                                                                 dense_5[0][0]                    \n",
      "__________________________________________________________________________________________________\n",
      "dense_6 (Dense)                 (None, 1)            129         concatenate_2[0][0]              \n",
      "==================================================================================================\n",
      "Total params: 9,428,865\n",
      "Trainable params: 9,428,865\n",
      "Non-trainable params: 0\n",
      "__________________________________________________________________________________________________\n"
     ]
    }
   ],
   "source": [
    "inp1 = Input(shape = (224,224,3))\n",
    "x = Convolution2D(filters=32, kernel_size=(3, 3), strides=(2, 2), activation='relu')(inp1)\n",
    "x = Convolution2D(filters=64, kernel_size=(3, 3), strides=(2, 2), activation='relu')(x)\n",
    "x = Convolution2D(filters=128, kernel_size=(3, 3), strides=(2, 2), activation='relu')(x)\n",
    "x = Convolution2D(filters=256, kernel_size=(5, 5), strides=(2, 2), activation='relu')(x)\n",
    "x = Convolution2D(filters=512, kernel_size=(5, 5), strides=(2, 2), activation='relu')(x)\n",
    "x = Flatten()(x)\n",
    "x = Dropout(rate=0.5)(x)\n",
    "x1 = Dense(64,activation='relu')(x)\n",
    "\n",
    "inp2 = Input(shape = (224,224,3))\n",
    "x = Convolution2D(filters=32, kernel_size=(3, 3), strides=(2, 2), activation='relu')(inp2)\n",
    "x = Convolution2D(filters=64, kernel_size=(3, 3), strides=(2, 2), activation='relu')(x)\n",
    "x = Convolution2D(filters=128, kernel_size=(3, 3), strides=(2, 2), activation='relu')(x)\n",
    "x = Convolution2D(filters=256, kernel_size=(5, 5), strides=(2, 2), activation='relu')(x)\n",
    "x = Convolution2D(filters=512, kernel_size=(5, 5), strides=(2, 2), activation='relu')(x)\n",
    "x = Flatten()(x)\n",
    "x = Dropout(rate=0.5)(x)\n",
    "x2 = Dense(64,activation='relu')(x)\n",
    "\n",
    "x = concatenate([x1,x2])\n",
    "output = (Dense(1,activation='sigmoid'))(x)\n",
    "\n",
    "model = Model(inputs=[inp1,inp2],outputs=output)\n",
    "model.compile(optimizer='adam',loss='binary_crossentropy')\n",
    "model.summary()"
   ]
  },
  {
   "cell_type": "code",
   "execution_count": 6,
   "metadata": {},
   "outputs": [],
   "source": [
    "def prepare_pair(str1,str2):\n",
    "    # return the images provided current string path as arrays\n",
    "    a = plt.imread(str1)\n",
    "    b = plt.imread(str2)\n",
    "    return (a,b)\n",
    "\n",
    "def make_pairs(str1,str2):\n",
    "    # prepare a list of all image pairs for two folders\n",
    "    l1 = glob.glob('train/'+str1+'/*')\n",
    "    l2 = glob.glob('train/'+str2+'/*')\n",
    "    if (len(l1)>len(l2)):\n",
    "        l1,l2 = l2,l1\n",
    "    output = []\n",
    "    for i in range(len(l1)):\n",
    "        for j in range(i,len(l2)):\n",
    "            output.append((l1[i],l2[j]))\n",
    "    return output\n",
    "\n",
    "def generate_batch(i,j=None):\n",
    "    # make a batch ready for training\n",
    "    # i for a single entry from the pairs dataframe\n",
    "    # i,j for two individuals that are not related\n",
    "    if (j is None):\n",
    "        related = True\n",
    "        pairs = make_pairs(*list(relationships.iloc[i]))\n",
    "    else:\n",
    "        related = False\n",
    "        pairs = make_pairs(i,j)\n",
    "    size = len(pairs)\n",
    "    X1 = np.zeros((size,224,224,3))\n",
    "    X2 = np.zeros((size,224,224,3))\n",
    "    if (related):\n",
    "        y = np.ones((size),dtype=int)\n",
    "    else:\n",
    "        y = np.zeros((size),dtype=int)\n",
    "    i = 0\n",
    "    for pair in pairs:\n",
    "        X1[i],X2[i] = prepare_pair(*pair)\n",
    "        i+=1\n",
    "    X1/=255.\n",
    "    X2/=255.\n",
    "    return X1, X2, y"
   ]
  },
  {
   "cell_type": "code",
   "execution_count": 7,
   "metadata": {},
   "outputs": [
    {
     "data": {
      "text/plain": [
       "((7, 224, 224, 3), (7, 224, 224, 3), (7,))"
      ]
     },
     "execution_count": 7,
     "metadata": {},
     "output_type": "execute_result"
    }
   ],
   "source": [
    "# related\n",
    "a,b,c = generate_batch(222)\n",
    "a.shape,b.shape,c.shape"
   ]
  },
  {
   "cell_type": "code",
   "execution_count": 8,
   "metadata": {},
   "outputs": [
    {
     "data": {
      "text/plain": [
       "((18, 224, 224, 3), (18, 224, 224, 3), (18,))"
      ]
     },
     "execution_count": 8,
     "metadata": {},
     "output_type": "execute_result"
    }
   ],
   "source": [
    "# not related\n",
    "a,b,c = generate_batch(relationships.iloc[3][0],relationships.iloc[123][1])\n",
    "a.shape,b.shape,c.shape"
   ]
  },
  {
   "cell_type": "code",
   "execution_count": 9,
   "metadata": {},
   "outputs": [
    {
     "data": {
      "text/plain": [
       "datetime.datetime(2019, 6, 11, 10, 20, 24, 483764)"
      ]
     },
     "execution_count": 9,
     "metadata": {},
     "output_type": "execute_result"
    }
   ],
   "source": [
    "import datetime\n",
    "datetime.datetime.now()"
   ]
  },
  {
   "cell_type": "code",
   "execution_count": 10,
   "metadata": {},
   "outputs": [
    {
     "data": {
      "text/plain": [
       "10"
      ]
     },
     "execution_count": 10,
     "metadata": {},
     "output_type": "execute_result"
    }
   ],
   "source": [
    "datetime.datetime.now().hour"
   ]
  },
  {
   "cell_type": "code",
   "execution_count": 11,
   "metadata": {},
   "outputs": [
    {
     "name": "stdout",
     "output_type": "stream",
     "text": [
      "Epoch: 0\n",
      "WARNING:tensorflow:From /home/raphael/.local/lib/python3.6/site-packages/tensorflow/python/ops/math_ops.py:3066: to_int32 (from tensorflow.python.ops.math_ops) is deprecated and will be removed in a future version.\n",
      "Instructions for updating:\n",
      "Use tf.cast instead.\n",
      "Epoch: 100\n",
      "Epoch: 200\n"
     ]
    }
   ],
   "source": [
    "# training\n",
    "total_related = 0\n",
    "total_unrelated = 0\n",
    "\n",
    "iteration = 0\n",
    "\n",
    "for iteration in range(300):\n",
    "    if (iteration%100==0):\n",
    "        print('Epoch:',iteration)\n",
    "    if (total_related-total_unrelated<=0):\n",
    "        # one batch on related unless there is imbalance\n",
    "        i = np.random.randint(len(relationships))\n",
    "        X1, X2, y = generate_batch(i)\n",
    "        total_related+=len(y)\n",
    "        #print('\\trelated',len(X1))\n",
    "        #model.train_on_batch([X1,X2],y)\n",
    "    if (total_related-total_unrelated>=0):\n",
    "        # one batch on unrelated unless there is imbalance\n",
    "        i = np.random.randint(len(relationships))\n",
    "        j = i\n",
    "        while (j==i):\n",
    "            j = np.random.randint(len(relationships))\n",
    "        a = relationships.iloc[i][np.random.randint(2)]\n",
    "        b = relationships.iloc[j][np.random.randint(2)]\n",
    "        aX1, aX2, ay = generate_batch(a,b)\n",
    "        total_unrelated+=len(y)\n",
    "        #print('\\tunrelated',len(X2))\n",
    "        #model.train_on_batch([X1,X2],y)\n",
    "    \n",
    "    model.train_on_batch([])"
   ]
  },
  {
   "cell_type": "code",
   "execution_count": 12,
   "metadata": {},
   "outputs": [
    {
     "name": "stdout",
     "output_type": "stream",
     "text": [
      "Epoch: 0\n",
      "\trelated 36 1.0\n",
      "\tunrelated 3 0.0\n",
      "Epoch: 1\n",
      "\tunrelated 1 0.0\n",
      "Epoch: 2\n",
      "\trelated 2 1.0\n",
      "\tunrelated 18 0.0\n",
      "Epoch: 3\n",
      "\trelated 41 1.0\n",
      "\tunrelated 42 0.0\n",
      "Epoch: 4\n",
      "\trelated 14 1.0\n",
      "\tunrelated 5 0.0\n",
      "Epoch: 5\n",
      "\trelated 22 1.0\n",
      "\tunrelated 42 0.0\n",
      "Epoch: 6\n",
      "\trelated 21 1.0\n",
      "Epoch: 7\n",
      "\trelated 27 1.0\n",
      "\tunrelated 20 0.0\n",
      "Epoch: 8\n",
      "\trelated 6 1.0\n",
      "\tunrelated 21 0.0\n",
      "Epoch: 9\n",
      "\trelated 5 1.0\n",
      "\tunrelated 15 0.0\n"
     ]
    }
   ],
   "source": [
    "# evaluation\n",
    "for epoch in range(10):\n",
    "    print('Epoch:',epoch)\n",
    "    # one batch on related\n",
    "    i = np.random.randint(len(relationships))\n",
    "    X1, X2, y = generate_batch(i)\n",
    "    if (len(y)>0):\n",
    "        p = model.predict([X1,X2])\n",
    "        p[p>0.5]=1\n",
    "        p[p<=0.5]=0\n",
    "        print('\\trelated',len(X1),(y==p).mean())\n",
    "    # one batch on unrelated\n",
    "    i = np.random.randint(len(relationships))\n",
    "    j = i\n",
    "    while (j==i):\n",
    "        j = np.random.randint(len(relationships))\n",
    "    a = relationships.iloc[i][np.random.randint(2)]\n",
    "    b = relationships.iloc[j][np.random.randint(2)]\n",
    "    X1, X2, y = generate_batch(a,b)\n",
    "    if (len(y)>0):\n",
    "        p = model.predict([X1,X2])\n",
    "        p[p>0.5]=1\n",
    "        p[p<=0.5]=0\n",
    "        print('\\tunrelated',len(X1),(y==p).mean())"
   ]
  },
  {
   "cell_type": "code",
   "execution_count": null,
   "metadata": {},
   "outputs": [],
   "source": []
  }
 ],
 "metadata": {
  "kernelspec": {
   "display_name": "Python 3",
   "language": "python",
   "name": "python3"
  },
  "language_info": {
   "codemirror_mode": {
    "name": "ipython",
    "version": 3
   },
   "file_extension": ".py",
   "mimetype": "text/x-python",
   "name": "python",
   "nbconvert_exporter": "python",
   "pygments_lexer": "ipython3",
   "version": "3.6.8"
  }
 },
 "nbformat": 4,
 "nbformat_minor": 2
}
