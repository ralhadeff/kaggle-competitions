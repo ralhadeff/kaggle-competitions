{
 "cells": [
  {
   "cell_type": "code",
   "execution_count": 36,
   "metadata": {},
   "outputs": [],
   "source": [
    "import pandas as pd\n",
    "import numpy as np\n",
    "import matplotlib.pyplot as plt\n",
    "import glob"
   ]
  },
  {
   "cell_type": "raw",
   "metadata": {},
   "source": [
    "relationships = pd.read_csv('train_relationships.csv')\n",
    "relationships.head()"
   ]
  },
  {
   "cell_type": "code",
   "execution_count": 38,
   "metadata": {},
   "outputs": [
    {
     "data": {
      "text/plain": [
       "(224, 224, 3)"
      ]
     },
     "execution_count": 38,
     "metadata": {},
     "output_type": "execute_result"
    }
   ],
   "source": [
    "plt.imread('train/F0002/MID1/P00012_face2.jpg').shape"
   ]
  },
  {
   "cell_type": "code",
   "execution_count": 39,
   "metadata": {},
   "outputs": [],
   "source": [
    "from keras.models import Model\n",
    "from keras.layers import Convolution2D, Flatten\n",
    "from keras.layers import Dense, Input, Dropout, concatenate"
   ]
  },
  {
   "cell_type": "code",
   "execution_count": 129,
   "metadata": {},
   "outputs": [
    {
     "name": "stdout",
     "output_type": "stream",
     "text": [
      "__________________________________________________________________________________________________\n",
      "Layer (type)                    Output Shape         Param #     Connected to                     \n",
      "==================================================================================================\n",
      "input_35 (InputLayer)           (None, 224, 224, 3)  0                                            \n",
      "__________________________________________________________________________________________________\n",
      "input_36 (InputLayer)           (None, 224, 224, 3)  0                                            \n",
      "__________________________________________________________________________________________________\n",
      "conv2d_167 (Conv2D)             (None, 111, 111, 32) 896         input_35[0][0]                   \n",
      "__________________________________________________________________________________________________\n",
      "conv2d_172 (Conv2D)             (None, 111, 111, 32) 896         input_36[0][0]                   \n",
      "__________________________________________________________________________________________________\n",
      "conv2d_168 (Conv2D)             (None, 55, 55, 64)   18496       conv2d_167[0][0]                 \n",
      "__________________________________________________________________________________________________\n",
      "conv2d_173 (Conv2D)             (None, 55, 55, 64)   18496       conv2d_172[0][0]                 \n",
      "__________________________________________________________________________________________________\n",
      "conv2d_169 (Conv2D)             (None, 27, 27, 128)  73856       conv2d_168[0][0]                 \n",
      "__________________________________________________________________________________________________\n",
      "conv2d_174 (Conv2D)             (None, 27, 27, 128)  73856       conv2d_173[0][0]                 \n",
      "__________________________________________________________________________________________________\n",
      "conv2d_170 (Conv2D)             (None, 12, 12, 256)  819456      conv2d_169[0][0]                 \n",
      "__________________________________________________________________________________________________\n",
      "conv2d_175 (Conv2D)             (None, 12, 12, 256)  819456      conv2d_174[0][0]                 \n",
      "__________________________________________________________________________________________________\n",
      "conv2d_171 (Conv2D)             (None, 4, 4, 512)    3277312     conv2d_170[0][0]                 \n",
      "__________________________________________________________________________________________________\n",
      "conv2d_176 (Conv2D)             (None, 4, 4, 512)    3277312     conv2d_175[0][0]                 \n",
      "__________________________________________________________________________________________________\n",
      "flatten_35 (Flatten)            (None, 8192)         0           conv2d_171[0][0]                 \n",
      "__________________________________________________________________________________________________\n",
      "flatten_36 (Flatten)            (None, 8192)         0           conv2d_176[0][0]                 \n",
      "__________________________________________________________________________________________________\n",
      "dropout_21 (Dropout)            (None, 8192)         0           flatten_35[0][0]                 \n",
      "__________________________________________________________________________________________________\n",
      "dropout_22 (Dropout)            (None, 8192)         0           flatten_36[0][0]                 \n",
      "__________________________________________________________________________________________________\n",
      "dense_60 (Dense)                (None, 64)           524352      dropout_21[0][0]                 \n",
      "__________________________________________________________________________________________________\n",
      "dense_61 (Dense)                (None, 64)           524352      dropout_22[0][0]                 \n",
      "__________________________________________________________________________________________________\n",
      "concatenate_10 (Concatenate)    (None, 128)          0           dense_60[0][0]                   \n",
      "                                                                 dense_61[0][0]                   \n",
      "__________________________________________________________________________________________________\n",
      "dense_62 (Dense)                (None, 1)            129         concatenate_10[0][0]             \n",
      "==================================================================================================\n",
      "Total params: 9,428,865\n",
      "Trainable params: 9,428,865\n",
      "Non-trainable params: 0\n",
      "__________________________________________________________________________________________________\n"
     ]
    }
   ],
   "source": [
    "inp1 = Input(shape = (224,224,3))\n",
    "x = Convolution2D(filters=32, kernel_size=(3, 3), strides=(2, 2), activation='relu')(inp1)\n",
    "x = Convolution2D(filters=64, kernel_size=(3, 3), strides=(2, 2), activation='relu')(x)\n",
    "x = Convolution2D(filters=128, kernel_size=(3, 3), strides=(2, 2), activation='relu')(x)\n",
    "x = Convolution2D(filters=256, kernel_size=(5, 5), strides=(2, 2), activation='relu')(x)\n",
    "x = Convolution2D(filters=512, kernel_size=(5, 5), strides=(2, 2), activation='relu')(x)\n",
    "x = Flatten()(x)\n",
    "x = Dropout(rate=0.5)(x)\n",
    "x1 = Dense(64,activation='relu')(x)\n",
    "\n",
    "inp2 = Input(shape = (224,224,3))\n",
    "x = Convolution2D(filters=32, kernel_size=(3, 3), strides=(2, 2), activation='relu')(inp2)\n",
    "x = Convolution2D(filters=64, kernel_size=(3, 3), strides=(2, 2), activation='relu')(x)\n",
    "x = Convolution2D(filters=128, kernel_size=(3, 3), strides=(2, 2), activation='relu')(x)\n",
    "x = Convolution2D(filters=256, kernel_size=(5, 5), strides=(2, 2), activation='relu')(x)\n",
    "x = Convolution2D(filters=512, kernel_size=(5, 5), strides=(2, 2), activation='relu')(x)\n",
    "x = Flatten()(x)\n",
    "x = Dropout(rate=0.5)(x)\n",
    "x2 = Dense(64,activation='relu')(x)\n",
    "\n",
    "x = concatenate([x1,x2])\n",
    "output = (Dense(1,activation='sigmoid'))(x)\n",
    "\n",
    "model = Model(inputs=[inp1,inp2],outputs=output)\n",
    "model.compile(optimizer='adam',loss='binary_crossentropy')\n",
    "model.summary()"
   ]
  },
  {
   "cell_type": "code",
   "execution_count": 130,
   "metadata": {},
   "outputs": [],
   "source": [
    "def prepare_pair(str1,str2):\n",
    "    # return the images provided current string path as arrays\n",
    "    a = plt.imread(str1)\n",
    "    b = plt.imread(str2)\n",
    "    return (a,b)\n",
    "\n",
    "def make_pairs(str1,str2):\n",
    "    # prepare a list of all image pairs for two folders\n",
    "    l1 = glob.glob('train/'+str1+'/*')\n",
    "    l2 = glob.glob('train/'+str2+'/*')\n",
    "    if (len(l1)>len(l2)):\n",
    "        l1,l2 = l2,l1\n",
    "    output = []\n",
    "    for i in range(len(l1)):\n",
    "        for j in range(i,len(l2)):\n",
    "            output.append((l1[i],l2[j]))\n",
    "    return output\n",
    "\n",
    "def generate_batch(i,j=None):\n",
    "    # make a batch ready for training\n",
    "    # i for a single entry from the pairs dataframe\n",
    "    # i,j for two individuals that are not related\n",
    "    if (j is None):\n",
    "        related = True\n",
    "        pairs = make_pairs(*list(relationships.iloc[i]))\n",
    "    else:\n",
    "        related = False\n",
    "        pairs = make_pairs(i,j)\n",
    "    size = len(pairs)\n",
    "    X1 = np.zeros((size,224,224,3))\n",
    "    X2 = np.zeros((size,224,224,3))\n",
    "    if (related):\n",
    "        y = np.ones((size),dtype=int)\n",
    "    else:\n",
    "        y = np.zeros((size),dtype=int)\n",
    "    i = 0\n",
    "    for pair in pairs:\n",
    "        X1[i],X2[i] = prepare_pair(*pair)\n",
    "        i+=1\n",
    "    X1/=255.\n",
    "    X2/=255.\n",
    "    return X1, X2, y"
   ]
  },
  {
   "cell_type": "code",
   "execution_count": 131,
   "metadata": {},
   "outputs": [
    {
     "data": {
      "text/plain": [
       "((7, 224, 224, 3), (7, 224, 224, 3), (7,))"
      ]
     },
     "execution_count": 131,
     "metadata": {},
     "output_type": "execute_result"
    }
   ],
   "source": [
    "# related\n",
    "a,b,c = generate_batch(222)\n",
    "a.shape,b.shape,c.shape"
   ]
  },
  {
   "cell_type": "code",
   "execution_count": 132,
   "metadata": {},
   "outputs": [
    {
     "data": {
      "text/plain": [
       "((18, 224, 224, 3), (18, 224, 224, 3), (18,))"
      ]
     },
     "execution_count": 132,
     "metadata": {},
     "output_type": "execute_result"
    }
   ],
   "source": [
    "# not related\n",
    "a,b,c = generate_batch(relationships.iloc[3][0],relationships.iloc[123][1])\n",
    "a.shape,b.shape,c.shape"
   ]
  },
  {
   "cell_type": "code",
   "execution_count": null,
   "metadata": {},
   "outputs": [
    {
     "name": "stdout",
     "output_type": "stream",
     "text": [
      "Epoch: 0\n",
      "\trelated 6\n",
      "\tunrelated 5\n",
      "Epoch: 1\n",
      "\trelated 3\n",
      "\tunrelated 9\n",
      "Epoch: 2\n",
      "\trelated 0\n",
      "\tunrelated 15\n",
      "Epoch: 3\n",
      "\trelated 36\n",
      "\tunrelated 7\n",
      "Epoch: 4\n",
      "\trelated 17\n",
      "\tunrelated 119\n",
      "Epoch: 5\n",
      "\trelated 3\n",
      "\tunrelated 5\n",
      "Epoch: 6\n",
      "\trelated 30\n",
      "\tunrelated 56\n",
      "Epoch: 7\n",
      "\trelated 2\n",
      "\tunrelated 13\n",
      "Epoch: 8\n",
      "\trelated 4\n",
      "\tunrelated 1\n",
      "Epoch: 9\n",
      "\trelated 7\n",
      "\tunrelated 6\n",
      "Epoch: 10\n",
      "\trelated 10\n",
      "\tunrelated 27\n",
      "Epoch: 11\n",
      "\trelated 5\n",
      "\tunrelated 6\n",
      "Epoch: 12\n",
      "\trelated 15\n",
      "\tunrelated 7\n",
      "Epoch: 13\n",
      "\trelated 7\n",
      "\tunrelated 35\n",
      "Epoch: 14\n",
      "\trelated 1\n",
      "\tunrelated 7\n",
      "Epoch: 15\n",
      "\trelated 8\n",
      "\tunrelated 126\n",
      "Epoch: 16\n",
      "\trelated 4\n",
      "\tunrelated 19\n",
      "Epoch: 17\n",
      "\trelated 33\n",
      "\tunrelated 54\n",
      "Epoch: 18\n",
      "\trelated 35\n",
      "\tunrelated 39\n",
      "Epoch: 19\n",
      "\trelated 10\n",
      "\tunrelated 8\n",
      "Epoch: 20\n",
      "\trelated 51\n",
      "\tunrelated 45\n",
      "Epoch: 21\n",
      "\trelated 30\n",
      "\tunrelated 0\n",
      "Epoch: 22\n",
      "\trelated 0\n",
      "\tunrelated 261\n",
      "Epoch: 23\n",
      "\trelated 27\n",
      "\tunrelated 68\n",
      "Epoch: 24\n",
      "\trelated 0\n",
      "\tunrelated 17\n",
      "Epoch: 25\n",
      "\trelated 10\n",
      "\tunrelated 5\n",
      "Epoch: 26\n",
      "\trelated 27\n",
      "\tunrelated 21\n",
      "Epoch: 27\n",
      "\trelated 0\n",
      "\tunrelated 2\n",
      "Epoch: 28\n",
      "\trelated 2\n",
      "\tunrelated 2\n",
      "Epoch: 29\n",
      "\trelated 3\n",
      "\tunrelated 6\n",
      "Epoch: 30\n",
      "\trelated 39\n",
      "\tunrelated 27\n",
      "Epoch: 31\n",
      "\trelated 25\n"
     ]
    }
   ],
   "source": [
    "# training\n",
    "for epoch in range(100):\n",
    "    print('Epoch:',epoch)\n",
    "    # one batch on related\n",
    "    i = np.random.randint(len(relationships))\n",
    "    X1, X2, y = generate_batch(i)\n",
    "    print('\\trelated',len(X1))\n",
    "    model.train_on_batch([X1,X2],y)\n",
    "    # one batch on unrelated\n",
    "    i = np.random.randint(len(relationships))\n",
    "    j = i\n",
    "    while (j==i):\n",
    "        j = np.random.randint(len(relationships))\n",
    "    a = relationships.iloc[i][np.random.randint(2)]\n",
    "    b = relationships.iloc[j][np.random.randint(2)]\n",
    "    X1, X2, y = generate_batch(a,b)\n",
    "    print('\\tunrelated',len(X2))\n",
    "    model.train_on_batch([X1,X2],y)"
   ]
  },
  {
   "cell_type": "code",
   "execution_count": 138,
   "metadata": {},
   "outputs": [
    {
     "name": "stdout",
     "output_type": "stream",
     "text": [
      "Epoch: 0\n",
      "\trelated 9 1.0\n",
      "\tunrelated 4 0.0\n",
      "Epoch: 1\n",
      "\trelated 268 1.0\n",
      "\tunrelated 34 0.08823529411764706\n",
      "Epoch: 2\n",
      "\trelated 21 1.0\n",
      "\tunrelated 5 0.0\n",
      "Epoch: 3\n",
      "\trelated 24 1.0\n",
      "\tunrelated 1 0.0\n",
      "Epoch: 4\n",
      "\trelated 3 1.0\n",
      "\tunrelated 45 0.0\n",
      "Epoch: 5\n",
      "\tunrelated 6 0.0\n",
      "Epoch: 6\n",
      "\trelated 14 1.0\n",
      "\tunrelated 6 0.0\n",
      "Epoch: 7\n",
      "\trelated 55 1.0\n",
      "\tunrelated 175 0.017142857142857144\n",
      "Epoch: 8\n",
      "\trelated 4 1.0\n",
      "\tunrelated 12 0.0\n",
      "Epoch: 9\n",
      "\trelated 1 1.0\n",
      "\tunrelated 9 0.0\n"
     ]
    }
   ],
   "source": [
    "# evaluation\n",
    "for epoch in range(10):\n",
    "    print('Epoch:',epoch)\n",
    "    # one batch on related\n",
    "    i = np.random.randint(len(relationships))\n",
    "    X1, X2, y = generate_batch(i)\n",
    "    if (len(y)>0):\n",
    "        p = model.predict([X1,X2])\n",
    "        p[p>0.5]=1\n",
    "        p[p<=0.5]=0\n",
    "        print('\\trelated',len(X1),(y==p).mean())\n",
    "    # one batch on unrelated\n",
    "    i = np.random.randint(len(relationships))\n",
    "    j = i\n",
    "    while (j==i):\n",
    "        j = np.random.randint(len(relationships))\n",
    "    a = relationships.iloc[i][np.random.randint(2)]\n",
    "    b = relationships.iloc[j][np.random.randint(2)]\n",
    "    X1, X2, y = generate_batch(a,b)\n",
    "    if (len(y)>0):\n",
    "        p = model.predict([X1,X2])\n",
    "        p[p>0.5]=1\n",
    "        p[p<=0.5]=0\n",
    "        print('\\tunrelated',len(X1),(y==p).mean())"
   ]
  },
  {
   "cell_type": "code",
   "execution_count": null,
   "metadata": {},
   "outputs": [],
   "source": []
  }
 ],
 "metadata": {
  "kernelspec": {
   "display_name": "Python 3",
   "language": "python",
   "name": "python3"
  },
  "language_info": {
   "codemirror_mode": {
    "name": "ipython",
    "version": 3
   },
   "file_extension": ".py",
   "mimetype": "text/x-python",
   "name": "python",
   "nbconvert_exporter": "python",
   "pygments_lexer": "ipython3",
   "version": "3.6.8"
  }
 },
 "nbformat": 4,
 "nbformat_minor": 2
}
