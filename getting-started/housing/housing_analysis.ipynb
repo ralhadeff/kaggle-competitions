{
 "cells": [
  {
   "cell_type": "code",
   "execution_count": 1,
   "metadata": {},
   "outputs": [],
   "source": [
    "import numpy as np\n",
    "import pandas as pd\n",
    "import matplotlib.pyplot as plt\n",
    "import seaborn as sns"
   ]
  },
  {
   "cell_type": "code",
   "execution_count": 2,
   "metadata": {},
   "outputs": [],
   "source": [
    "data = pd.read_csv('train.csv')\n",
    "test = pd.read_csv('test.csv')"
   ]
  },
  {
   "cell_type": "code",
   "execution_count": 3,
   "metadata": {},
   "outputs": [],
   "source": [
    "from sklearn.ensemble import RandomForestRegressor\n",
    "from sklearn.linear_model import LinearRegression\n",
    "from sklearn.ensemble import AdaBoostRegressor\n",
    "from sklearn.svm import SVR"
   ]
  },
  {
   "cell_type": "code",
   "execution_count": 4,
   "metadata": {},
   "outputs": [],
   "source": [
    "\"\"\"\n",
    "Feature Tester\n",
    "\"\"\"\n",
    "\n",
    "import numpy as np\n",
    "import pandas as pd\n",
    "import matplotlib.pyplot as plt\n",
    "import seaborn as sns\n",
    "from sklearn.model_selection import train_test_split\n",
    "from sklearn.model_selection import cross_val_score\n",
    "from sklearn.preprocessing import StandardScaler\n",
    "\n",
    "class FeatureTester():\n",
    "        \n",
    "    def __init__(self, data, test_size=0.2, random_seed='random', cv=5, precision=4):\n",
    "        \"\"\"\n",
    "        Initialize the feature tester, provide data as a pandas dataframe, including the y column\n",
    "        \"\"\"\n",
    "        self.data = data\n",
    "        # features to use, and type of feature\n",
    "        self.features = []\n",
    "        # features not to use\n",
    "        self.dont_use = []\n",
    "        # list of estimators and their names\n",
    "        self.estimators = []\n",
    "        self.names = []\n",
    "        # random seem to train_test_split\n",
    "        if (random_seed=='random'):\n",
    "            self.random_seed = np.random.randint(0,1000)\n",
    "        # test size (in train_test_split)\n",
    "        self.test_size = test_size\n",
    "        # number of CV iterations\n",
    "        self.cv = cv\n",
    "        # number of decimal points to show\n",
    "        self.precision = precision\n",
    "        # previous scores for comparison\n",
    "        self.previous = None\n",
    "        # feature scaler\n",
    "        self.scaler = StandardScaler()\n",
    "        \n",
    "    def set_y(self,column):\n",
    "        \"\"\"Mark the y column (by name)\"\"\"\n",
    "        self.y = column\n",
    "    \n",
    "    def add_feature(self,feature,dtype='numerical',arg='auto'):\n",
    "        \"\"\"\n",
    "        Add feature to the regression\n",
    "            default is numerical\n",
    "            \n",
    "            ordinal can be specified in dtype, if so, a conversion dictionary might be required\n",
    "            \n",
    "            categorical can be specified in dtype, if so, feature will be converted to dummy columns\n",
    "                by default omitting NaN or the least frequest label\n",
    "                (otherwise, dummy to omit can be specified by name)\n",
    "        \"\"\"\n",
    "        if (dtype=='numerical'):\n",
    "            # check that there are no missing values\n",
    "            if (data[feature].isnull().sum()>0):\n",
    "                if (arg is None):\n",
    "                    raise ValueError('This feature has missing values, add missing values manually\\\n",
    "                                     or specify a default value')\n",
    "                else:\n",
    "                    # arg is the default value\n",
    "                    self.features.append((feature,dtype,arg))\n",
    "            else:\n",
    "                # add as is\n",
    "                self.features.append((feature,dtype))\n",
    "        elif(dtype=='ordinal'):\n",
    "            # add converted with optional dictionary\n",
    "            self.features.append((feature,dtype,arg))\n",
    "        elif(dtype=='categorical'):\n",
    "            # add converted to dummies\n",
    "            self.features.append((feature,dtype,arg))  \n",
    "    \n",
    "    def print_features(self,type_filter=None,return_tuple=False):\n",
    "        \"\"\"Return list of features in a concise representation\"\"\"\n",
    "        if (type_filter) == None:\n",
    "            return [feature[0] for feature in self.features]\n",
    "        elif (return_tuple):\n",
    "            return [feature for feature in self.features if feature[1]==type_filter]\n",
    "        else:\n",
    "            return [feature[0] for feature in self.features if feature[1]==type_filter]\n",
    "    \n",
    "    def find_feature_index(self,feature):\n",
    "        \"\"\"Find the index of a feature by name\"\"\"\n",
    "        i = 0\n",
    "        for f in self.features:\n",
    "            if (f[0] == feature):\n",
    "                break\n",
    "            i+=1\n",
    "        return i\n",
    "\n",
    "    def modify_feature(self,feature,dtype,arg=None):\n",
    "        \"\"\"Modify a feature and score it\"\"\"\n",
    "        i = self.find_feature_index(feature)\n",
    "        if (arg is None):\n",
    "            if (dtype=='numerical'):\n",
    "                if (arg is None):\n",
    "                    if (data[feature].isnull().sum()>0):\n",
    "                        raise ValueError('This feature has missing values, add missing values manually\\\n",
    "                                     or specify a default value')\n",
    "                    self.features[i] = (feature,dtype)\n",
    "                else:\n",
    "                    self.features[i] = (feature,dtype,arg)\n",
    "            else:\n",
    "                self.features[i] = (feature,dtype,'auto')\n",
    "        else:\n",
    "            self.features[i] = (feature,dtype,arg)\n",
    "        return self.score_feature(feature)\n",
    "    \n",
    "    def remove_feature(self,feature):\n",
    "        \"\"\"Move the last added feature(s) to the No pile\n",
    "        \"\"\"\n",
    "        i = self.find_feature_index(feature)\n",
    "        removed = self.features.pop(i)\n",
    "        self.dont_use.append(removed[0])\n",
    "        # run fit again to correct self.previous\n",
    "        self.fit()\n",
    "    \n",
    "    def add_estimator(self,estimator,name):\n",
    "        \"\"\"Add a named estimator to perform regression with\"\"\"\n",
    "        self.estimators.append(estimator)\n",
    "        self.names.append(name)\n",
    "    \n",
    "    def fit(self,compare=True,skip=None):\n",
    "        \"\"\"\n",
    "        Fit the selected features and return scores\n",
    "            compare will also print the different in the score from the previous fit\n",
    "            skip allows user to skip a single feature (for recomparing etc)\n",
    "        \"\"\"\n",
    "        X, y = self.build_data(skip)\n",
    "        # scale\n",
    "        X = self.scaler.fit_transform(X)\n",
    "        # fit and score\n",
    "        X_train, X_test, y_train, y_test = train_test_split(X, y, \n",
    "                            test_size=self.test_size, random_state=self.random_seed)\n",
    "        scores = []\n",
    "        for estimator in self.estimators:\n",
    "            scores.append( cross_val_score(estimator,X_train,y_train,cv=5).mean() )\n",
    "        if (compare and self.previous is not None):\n",
    "            diff = np.asarray(scores) - np.asarray(self.previous)\n",
    "            self.previous = scores\n",
    "            scores_diff = np.round(np.concatenate((scores,diff)),self.precision)\n",
    "            return np.concatenate((self.names,scores_diff)).reshape(3,len(scores)).T\n",
    "        self.previous = scores\n",
    "        return np.concatenate((self.names,np.round(scores,self.precision))).reshape(2,len(scores)).T\n",
    "    \n",
    "    def score_feature(self,feature):\n",
    "        \"\"\"Check the difference is scoring with and without a feature\"\"\"\n",
    "        self.fit(skip=feature)\n",
    "        return self.fit(True)\n",
    "    \n",
    "    def score_all_features(self):\n",
    "        \"\"\"Score all features, and return a report\"\"\"\n",
    "        # here I will use reverse of the score, to save time\n",
    "        scores = self.fit()\n",
    "        names = scores[:,0]\n",
    "        scores = scores[:,1].astype(float)\n",
    "        for feature in self.features:\n",
    "            print(feature[0])\n",
    "            current = self.fit(False,skip=feature[0])[:,1].astype(float)\n",
    "            diff = np.round(scores-current,self.precision)\n",
    "            print(np.concatenate((names,diff))\n",
    "                           .reshape(2,len(self.estimators)).T)\n",
    "    \n",
    "    def sanity_check(self):\n",
    "        \"\"\"Make sure there is nothing that makes not sense or that raises red flags\"\"\"\n",
    "        features = self.print_features()\n",
    "        duplicates = set([f for f in features if features.count(f) > 1])\n",
    "        if (len(duplicates)>0):\n",
    "            print('Warning, you have duplicates')\n",
    "            print(duplicates)\n",
    "        yes_and_no = set([f for f in features if f in self.dont_use])\n",
    "        if (len(yes_and_no)>0):\n",
    "            print('Warning, you have features both in use and in dont_use')\n",
    "            print(yes_and_no)\n",
    "        missing_features = []\n",
    "        for f in self.data.columns:\n",
    "            if (f not in features and f not in self.dont_use and f!=self.y):\n",
    "                missing_features.append(f)\n",
    "        if (len(missing_features)>0):\n",
    "            print('Note, there are features in the dataset that were not tested')\n",
    "            print(missing_features)\n",
    "        \n",
    "    def build_data(self,skip=None):\n",
    "        # add numerical features\n",
    "        numerical = self.print_features('numerical',True)\n",
    "        X = np.array([])\n",
    "        # for correct reshape\n",
    "        skip_num = False\n",
    "        for feature in numerical:\n",
    "            if (feature[0]!=skip):\n",
    "                if (len(feature)==2):\n",
    "                    x = self.data[feature[0]]\n",
    "                else:\n",
    "                    if (feature[2]=='mean'):\n",
    "                        fill = data[feature[0]].mean()\n",
    "                    else:\n",
    "                        fill = feature[2]\n",
    "                    x = self.data[feature[0]].fillna(fill)\n",
    "                X = np.concatenate((X,x))\n",
    "            else:\n",
    "                skip_num = True\n",
    "        if (skip_num):\n",
    "            X = X.reshape(len(numerical)-1,len(data)).T\n",
    "        else:\n",
    "            X = X.reshape(len(numerical),len(data)).T\n",
    "        # add ordinal features\n",
    "        ordinal = self.print_features('ordinal',True)\n",
    "        for feature in ordinal:\n",
    "            if (feature[0]!=skip):\n",
    "                if (feature[2] == 'auto'):\n",
    "                    X = np.hstack((X,self.data[feature[0]][:,None]))\n",
    "                else:\n",
    "                    column = self.data.fillna('nan')[feature[0]].map(feature[2])\n",
    "                    X = np.hstack((X,column[:,None]))\n",
    "        # add categorical features\n",
    "        categorical = self.print_features('categorical',True)\n",
    "        for feature in categorical:\n",
    "            if (feature[0]!=skip):\n",
    "                if (feature[2]=='auto'):\n",
    "                    dummies = make_dummy(data,feature[0])\n",
    "                else:\n",
    "                    if (type(feature[2]) is str):\n",
    "                        dummies = make_dummy(data,feature[0],omit=feature[2])\n",
    "                    else:\n",
    "                        dummies = make_dummy(data,feature[0],binning=feature[2])\n",
    "                X = np.hstack((X,dummies))\n",
    "        # y \n",
    "        y = data[self.y]\n",
    "        return X, y \n",
    "\n",
    "def get_dict(df,column):\n",
    "    \"\"\"\n",
    "    Return an empty dictionary for user to fill\n",
    "        this should make ordinal and categorical binning easier\n",
    "    \"\"\"\n",
    "    return dict([(f,0) for f in df[column].unique()])\n",
    "\n",
    "def get_list(df,column):\n",
    "    return df[column].unique()\n",
    "\n",
    "def observe_feature(df,column,y):\n",
    "    n = df[column].nunique()\n",
    "    if (n>=20):\n",
    "        sns.scatterplot(x=column,y=y,data=df)\n",
    "    if (n<20):\n",
    "        print(data[column].value_counts())\n",
    "        sns.boxplot(x=column,y=y,data=data.fillna('nan'))\n",
    "        plt.show()\n",
    "            \n",
    "def make_dummy(df, column,omit=None,binning=None):\n",
    "    \"\"\"\n",
    "    Take a column name and make a dummy DataFrame from it\n",
    "        If there are Null values, do not omit one (null will be the 0's)\n",
    "        otherwise, remove the one will the least counts,\n",
    "        return the dataFrame\n",
    "            optional - omit the specified label\n",
    "        Another option is binning - provided by a list of lists, where each inner list is one bin\n",
    "    \"\"\"\n",
    "    nulls = df[column].isnull().sum()\n",
    "    rarest = df[column].value_counts().index[-1]\n",
    "    dummies = pd.get_dummies(df[column])\n",
    "    if (binning is not None):\n",
    "        for ls in binning:\n",
    "            name = ''\n",
    "            for col in ls:\n",
    "                name += col + '_'\n",
    "            dummies[name] = dummies[ls].sum(axis=1)\n",
    "            dummies.drop(ls,axis=1,inplace=True)\n",
    "    if (nulls>0):\n",
    "        if (omit is not None):\n",
    "            raise ValueError('NaN values are present, omit cannot be specified')\n",
    "        return dummies\n",
    "    elif (omit is None):\n",
    "        return dummies.drop(rarest,axis=1)\n",
    "    else:\n",
    "        return dummmies.drop(omit,axis=1)"
   ]
  },
  {
   "cell_type": "raw",
   "metadata": {},
   "source": [
    "TODO:\n",
    "    printout feature to column number (for X) list\n",
    "    add transformed features (log, 1/x, x**2 etc)\n",
    "    improve the scaling\n",
    "    add restore feature"
   ]
  },
  {
   "cell_type": "code",
   "execution_count": 139,
   "metadata": {},
   "outputs": [
    {
     "data": {
      "text/plain": [
       "array([['Linear', '0.702'],\n",
       "       ['Forest', '0.7526'],\n",
       "       ['Ada', '0.7159']], dtype='<U32')"
      ]
     },
     "execution_count": 139,
     "metadata": {},
     "output_type": "execute_result"
    }
   ],
   "source": [
    "ft = FeatureTester(data)\n",
    "ft.random_seed = 22\n",
    "ft.set_y('SalePrice')\n",
    "ft.add_estimator(LinearRegression(),'Linear')\n",
    "ft.add_estimator(RandomForestRegressor(10),'Forest')\n",
    "ft.add_estimator(AdaBoostRegressor(),'Ada')\n",
    "#ft.add_estimator(SVR(gamma='auto'),'svm')\n",
    "ft.add_feature('LotArea')\n",
    "#ft.add_feature('LotFrontage','numerical',0) \n",
    "ft.add_feature('OverallQual') # try transform\n",
    "ft.add_feature('MasVnrArea','numerical',0)\n",
    "ft.add_feature('BsmtFinSF1')\n",
    "#ft.add_feature('TotalBsmtSF')\n",
    "ft.add_feature('1stFlrSF')\n",
    "\n",
    "ft.fit()"
   ]
  },
  {
   "cell_type": "code",
   "execution_count": 140,
   "metadata": {},
   "outputs": [
    {
     "data": {
      "text/plain": [
       "array([['Linear', '0.6989', '-0.003'],\n",
       "       ['Forest', '0.7738', '0.0212'],\n",
       "       ['Ada', '0.6993', '-0.0166']], dtype='<U32')"
      ]
     },
     "execution_count": 140,
     "metadata": {},
     "output_type": "execute_result"
    }
   ],
   "source": [
    "ft.add_feature('TotalBsmtSF')\n",
    "ft.fit()"
   ]
  },
  {
   "cell_type": "code",
   "execution_count": 141,
   "metadata": {},
   "outputs": [
    {
     "data": {
      "text/plain": [
       "array([['Linear', '0.6928', '-0.0062'],\n",
       "       ['Forest', '0.7393', '-0.0345'],\n",
       "       ['Ada', '0.6918', '-0.0075']], dtype='<U32')"
      ]
     },
     "execution_count": 141,
     "metadata": {},
     "output_type": "execute_result"
    }
   ],
   "source": [
    "ft.add_feature('LotFrontage',arg='mean')\n",
    "\n",
    "ft.fit()"
   ]
  },
  {
   "cell_type": "code",
   "execution_count": 125,
   "metadata": {},
   "outputs": [
    {
     "name": "stdout",
     "output_type": "stream",
     "text": [
      "LotArea\n",
      "[['Linear' '0.0078']\n",
      " ['Forest' '0.033']\n",
      " ['Ada' '0.0014']]\n",
      "OverallQual\n",
      "[['Linear' '0.2613']\n",
      " ['Forest' '0.2335']\n",
      " ['Ada' '0.2347']]\n",
      "MasVnrArea\n",
      "[['Linear' '0.0094']\n",
      " ['Forest' '0.0095']\n",
      " ['Ada' '-0.0052']]\n",
      "BsmtFinSF1\n",
      "[['Linear' '0.0029']\n",
      " ['Forest' '0.0109']\n",
      " ['Ada' '0.0047']]\n",
      "TotalBsmtSF\n",
      "[['Linear' '-0.0031']\n",
      " ['Forest' '0.0137']\n",
      " ['Ada' '-0.0086']]\n",
      "1stFlrSF\n",
      "[['Linear' '0.0097']\n",
      " ['Forest' '0.027']\n",
      " ['Ada' '0.0031']]\n"
     ]
    }
   ],
   "source": [
    "ft.score_all_features()"
   ]
  },
  {
   "cell_type": "code",
   "execution_count": 5,
   "metadata": {},
   "outputs": [],
   "source": [
    "ft = FeatureTester(data)\n",
    "ft.set_y('SalePrice')\n",
    "ft.add_estimator(LinearRegression(),'Linear')\n",
    "ft.add_estimator(RandomForestRegressor(10),'Forest')\n",
    "ft.add_estimator(AdaBoostRegressor(),'Ada')\n",
    "ft.add_estimator(SVR(gamma='auto'),'svm')\n",
    "#ft.add_feature('LotArea')\n",
    "#ft.add_feature('LotFrontage','numerical',0)\n",
    "#ft.add_feature('MasVnrArea','numerical',0)\n",
    "#ft.add_feature('BsmtFinSF1')\n",
    "#ft.add_feature('TotalBsmtSF')\n",
    "ft.add_feature('1stFlrSF')\n",
    "ft.add_feature('2ndFlrSF')\n",
    "ft.add_feature('GrLivArea')\n",
    "ft.add_feature('GarageArea')\n",
    "ft.add_feature('WoodDeckSF')\n",
    "ft.add_feature('OpenPorchSF')\n",
    "ft.add_feature('ScreenPorch')\n",
    "ft.add_feature('LotShape','ordinal',{'Reg':1,'IR1':2,'IR2':3,'IR3':3})\n",
    "ft.add_feature('MSZoning','categorical')\n",
    "ft.add_feature('PoolArea','ordinal',{0: 0, 512: 1, 648: 1, 576: 1, 555: 1, 480: 1, 519: 1, 738: 1})\n",
    "ft.add_feature('BedroomAbvGr','ordinal',{3: 3, 4: 4, 1: 1, 2: 2, 0: 0, 5: 4, 6: 4, 8: 4})\n",
    "ft.add_feature('BsmtFinType1','categorical')\n",
    "ft.add_feature('BsmtFinType2','categorical')\n",
    "ft.add_feature('HalfBath','categorical')\n",
    "ft.add_feature('MiscFeature','categorical')\n",
    "ft.add_feature('MSSubClass','categorical')\n",
    "ft.add_feature('Alley','categorical')\n",
    "ft.add_feature('Condition1','categorical')\n",
    "ft.add_feature('Condition2','categorical')\n",
    "ft.add_feature('BldgType','categorical')\n",
    "ft.add_feature('HouseStyle','categorical')\n",
    "ft.add_feature('RoofMatl','categorical')\n",
    "ft.add_feature('Exterior1st','categorical')\n",
    "ft.add_feature('Exterior2nd','categorical')\n",
    "ft.add_feature('MasVnrType','categorical')\n",
    "ft.add_feature('ExterQual','categorical')\n",
    "ft.add_feature('ExterCond','categorical')\n",
    "ft.add_feature('Foundation','categorical')\n",
    "ft.add_feature('BsmtQual','categorical')\n",
    "ft.add_feature('CentralAir','categorical')\n",
    "ft.add_feature('Electrical','categorical')\n",
    "ft.add_feature('GarageType','categorical')\n",
    "ft.add_feature('GarageFinish','categorical')\n",
    "ft.add_feature('PoolQC','categorical')\n",
    "ft.add_feature('Fence','categorical',[['MnPrv', 'GdWo','MnWw'],['GdPrv']])\n",
    "ft.add_feature('SaleType','categorical')\n",
    "ft.add_feature('SaleCondition','categorical')\n",
    "ft.add_feature('Functional','categorical',[['Typ'],['Min1','Min2'],['Maj1'],['Mod'],['Maj2']])\n",
    "ft.add_feature('Heating','categorical', [['GasA'], ['GasW','OthW'], ['Grav', 'Wall']])\n",
    "ft.add_feature('LandContour','ordinal',{'Lvl': 1, 'Bnk': 0, 'Low': 2, 'HLS': 3})\n",
    "ft.add_feature('OverallCond','ordinal',{5: 5, 8: 5, 6: 5, 7: 5, 4: 4, 2: 2, 3: 3, 9: 5, 1: 1})\n",
    "ft.add_feature('OverallQual') # needs a transformation\n",
    "ft.add_feature('BsmtCond','ordinal',{'TA': 2, 'Gd': 3, 'Fa': 1, 'Po': 0,'nan':0})\n",
    "ft.add_feature('BsmtExposure','ordinal',{'No': 0, 'Gd': 3, 'Mn': 1, 'Av': 2,'nan':0})\n",
    "ft.add_feature('HeatingQC','ordinal',{'Ex': 4, 'Gd': 3, 'TA': 2, 'Fa': 1, 'Po': 0})\n",
    "ft.add_feature('BsmtFullBath')\n",
    "ft.add_feature('FullBath')\n",
    "ft.add_feature('KitchenAbvGr')\n",
    "ft.add_feature('KitchenQual','ordinal',{'Gd': 2, 'TA': 1, 'Ex': 3, 'Fa': 0})\n",
    "ft.add_feature('TotRmsAbvGrd') # maybe transform\n",
    "ft.add_feature('Fireplaces')\n",
    "ft.add_feature('FireplaceQu','ordinal',{'Ex': 4, 'Gd': 3, 'TA': 2, 'Fa': 1, 'Po': 0,'nan':0})\n",
    "ft.add_feature('GarageCars') # maybe transform or truncate\n",
    "ft.add_feature('GarageQual','ordinal',{'Ex': 4, 'Gd': 3, 'TA': 2, 'Fa': 1, 'Po': 0,'nan':0})\n",
    "ft.add_feature('GarageCond','ordinal',{'Ex': 4, 'Gd': 3, 'TA': 2, 'Fa': 1, 'Po': 0,'nan':0})\n",
    "ft.add_feature('PavedDrive','categorical')\n",
    "ft.add_feature('LowQualFinSF') #?\n",
    "ft.add_feature('EnclosedPorch') #?\n",
    "ft.add_feature('3SsnPorch') #?\n",
    "ft.add_feature('MiscVal') #? maybe only as a flag\n",
    "ft.add_feature('Neighborhood','categorical')\n",
    "ft.add_feature('YearBuilt') # transform\n",
    "ft.add_feature('YearRemodAdd') # transform\n",
    "ft.add_feature('BsmtFinSF2') # transform\n",
    "ft.add_feature('BsmtUnfSF') # transform\n",
    "ft.add_feature('GarageYrBlt',arg='mean') # transform"
   ]
  },
  {
   "cell_type": "raw",
   "metadata": {},
   "source": [
    "Street: Option 2, with a different feature for size of paved vs size of gravel, seems better\n",
    "LotConfig\n",
    "LandSlope\n",
    "RoofStyle"
   ]
  },
  {
   "cell_type": "code",
   "execution_count": 6,
   "metadata": {},
   "outputs": [
    {
     "data": {
      "text/plain": [
       "array([['Linear', '-1.999465500068702e+25'],\n",
       "       ['Forest', '0.8106'],\n",
       "       ['Ada', '0.7825'],\n",
       "       ['svm', '-0.0607']], dtype='<U32')"
      ]
     },
     "execution_count": 6,
     "metadata": {},
     "output_type": "execute_result"
    }
   ],
   "source": [
    "ft.fit()"
   ]
  },
  {
   "cell_type": "code",
   "execution_count": 7,
   "metadata": {},
   "outputs": [
    {
     "name": "stdout",
     "output_type": "stream",
     "text": [
      "LotArea\n",
      "[['Linear' '1.3211013719294515e+25']\n",
      " ['Forest' '0.0041']\n",
      " ['Ada' '0.005']\n",
      " ['svm' '0.0']]\n",
      "LotFrontage\n",
      "[['Linear' '-9.327920127608294e+24']\n",
      " ['Forest' '-0.0125']\n",
      " ['Ada' '-0.0069']\n",
      " ['svm' '0.0']]\n",
      "MasVnrArea\n",
      "[['Linear' '4.836628692133386e+24']\n",
      " ['Forest' '-0.0123']\n",
      " ['Ada' '-0.0054']\n",
      " ['svm' '0.0']]\n",
      "BsmtFinSF1\n",
      "[['Linear' '4.1618475560042296e+24']\n",
      " ['Forest' '-0.0206']\n",
      " ['Ada' '0.0011']\n",
      " ['svm' '0.0']]\n",
      "TotalBsmtSF\n",
      "[['Linear' '7.033666823860104e+25']\n",
      " ['Forest' '0.0065']\n",
      " ['Ada' '0.0084']\n",
      " ['svm' '0.0']]\n",
      "1stFlrSF\n",
      "[['Linear' '-4.92608898804364e+24']\n",
      " ['Forest' '-0.001']\n",
      " ['Ada' '-0.0054']\n",
      " ['svm' '0.0']]\n",
      "2ndFlrSF\n",
      "[['Linear' '1.2454979673172895e+25']\n",
      " ['Forest' '-0.0179']\n",
      " ['Ada' '0.0088']\n",
      " ['svm' '0.0']]\n",
      "GrLivArea\n",
      "[['Linear' '7.413137604683513e+25']\n",
      " ['Forest' '-0.0094']\n",
      " ['Ada' '0.0057']\n",
      " ['svm' '0.0']]\n",
      "GarageArea\n",
      "[['Linear' '1.9104804511854982e+25']\n",
      " ['Forest' '-0.0075']\n",
      " ['Ada' '0.0055']\n",
      " ['svm' '0.0']]\n",
      "WoodDeckSF\n",
      "[['Linear' '4.138306280989557e+24']\n",
      " ['Forest' '-0.016']\n",
      " ['Ada' '-0.0006']\n",
      " ['svm' '0.0']]\n",
      "OpenPorchSF\n",
      "[['Linear' '2.690190323432874e+25']\n",
      " ['Forest' '0.0014']\n",
      " ['Ada' '-0.0026']\n",
      " ['svm' '0.0']]\n",
      "ScreenPorch\n",
      "[['Linear' '4.493584377733959e+25']\n",
      " ['Forest' '-0.0015']\n",
      " ['Ada' '-0.0003']\n",
      " ['svm' '0.0']]\n",
      "LotShape\n",
      "[['Linear' '9.22283331724416e+25']\n",
      " ['Forest' '-0.0187']\n",
      " ['Ada' '0.0028']\n",
      " ['svm' '0.0']]\n",
      "MSZoning\n",
      "[['Linear' '2.0106362201424365e+25']\n",
      " ['Forest' '-0.0155']\n",
      " ['Ada' '0.0005']\n",
      " ['svm' '0.0']]\n",
      "PoolArea\n",
      "[['Linear' '2.6883791178958894e+25']\n",
      " ['Forest' '-0.0202']\n",
      " ['Ada' '-0.0034']\n",
      " ['svm' '0.0']]\n",
      "BedroomAbvGr\n",
      "[['Linear' '3.46764116073939e+25']\n",
      " ['Forest' '0.0162']\n",
      " ['Ada' '0.0031']\n",
      " ['svm' '0.0']]\n",
      "BsmtFinType1\n",
      "[['Linear' '2.3284406952963693e+25']\n",
      " ['Forest' '-0.0158']\n",
      " ['Ada' '-0.0059']\n",
      " ['svm' '0.0']]\n",
      "BsmtFinType2\n",
      "[['Linear' '3.156261973848242e+25']\n",
      " ['Forest' '0.0065']\n",
      " ['Ada' '0.0062']\n",
      " ['svm' '-0.0001']]\n",
      "HalfBath\n",
      "[['Linear' '4.067334844713269e+25']\n",
      " ['Forest' '-0.0031']\n",
      " ['Ada' '0.0057']\n",
      " ['svm' '0.0']]\n",
      "MiscFeature\n",
      "[['Linear' '2.624239709699762e+25']\n",
      " ['Forest' '-0.0175']\n",
      " ['Ada' '-0.003']\n",
      " ['svm' '0.0']]\n",
      "MSSubClass\n",
      "[['Linear' '9.444229845830146e+24']\n",
      " ['Forest' '-0.0091']\n",
      " ['Ada' '0.0019']\n",
      " ['svm' '0.0']]\n",
      "Alley\n",
      "[['Linear' '9.433549260360204e+24']\n",
      " ['Forest' '0.0012']\n",
      " ['Ada' '-0.0036']\n",
      " ['svm' '0.0']]\n",
      "Condition1\n",
      "[['Linear' '-1.5290242648378438e+24']\n",
      " ['Forest' '-0.0127']\n",
      " ['Ada' '0.0116']\n",
      " ['svm' '-0.0001']]\n",
      "Condition2\n",
      "[['Linear' '3.6989332977325723e+25']\n",
      " ['Forest' '-0.0092']\n",
      " ['Ada' '-0.0054']\n",
      " ['svm' '0.0']]\n",
      "BldgType\n",
      "[['Linear' '1.591869886390378e+24']\n",
      " ['Forest' '-0.0106']\n",
      " ['Ada' '-0.0011']\n",
      " ['svm' '0.0']]\n",
      "HouseStyle\n",
      "[['Linear' '4.884782447189042e+25']\n",
      " ['Forest' '-0.024']\n",
      " ['Ada' '-0.0039']\n",
      " ['svm' '0.0']]\n",
      "RoofMatl\n",
      "[['Linear' '3.470878914179934e+25']\n",
      " ['Forest' '-0.0043']\n",
      " ['Ada' '-0.0013']\n",
      " ['svm' '0.0']]\n",
      "Exterior1st\n",
      "[['Linear' '3.2934774078055535e+25']\n",
      " ['Forest' '-0.0239']\n",
      " ['Ada' '-0.0035']\n",
      " ['svm' '0.0']]\n",
      "Exterior2nd\n",
      "[['Linear' '-8.413692448794015e+24']\n",
      " ['Forest' '-0.0182']\n",
      " ['Ada' '0.0063']\n",
      " ['svm' '-0.0001']]\n",
      "MasVnrType\n",
      "[['Linear' '-1.3961700823042953e+25']\n",
      " ['Forest' '-0.0105']\n",
      " ['Ada' '0.0005']\n",
      " ['svm' '0.0']]\n",
      "ExterQual\n",
      "[['Linear' '1.2800878140579634e+26']\n",
      " ['Forest' '-0.0135']\n",
      " ['Ada' '-0.0021']\n",
      " ['svm' '0.0']]\n",
      "ExterCond\n",
      "[['Linear' '1.3687309825473341e+25']\n",
      " ['Forest' '-0.0134']\n",
      " ['Ada' '-0.0028']\n",
      " ['svm' '0.0']]\n",
      "Foundation\n",
      "[['Linear' '2.8170214477033447e+25']\n",
      " ['Forest' '-0.024']\n",
      " ['Ada' '0.0031']\n",
      " ['svm' '0.0']]\n",
      "BsmtQual\n",
      "[['Linear' '-6.380615437228255e+24']\n",
      " ['Forest' '-0.0015']\n",
      " ['Ada' '-0.0015']\n",
      " ['svm' '0.0']]\n",
      "CentralAir\n",
      "[['Linear' '3.3431793055793553e+25']\n",
      " ['Forest' '-0.009']\n",
      " ['Ada' '0.0018']\n",
      " ['svm' '0.0']]\n",
      "Electrical\n",
      "[['Linear' '1.399342074419697e+25']\n",
      " ['Forest' '-0.0038']\n",
      " ['Ada' '0.0018']\n",
      " ['svm' '0.0']]\n",
      "GarageType\n",
      "[['Linear' '-8.009653271863867e+24']\n",
      " ['Forest' '0.0091']\n",
      " ['Ada' '0.0051']\n",
      " ['svm' '0.0']]\n",
      "GarageFinish\n",
      "[['Linear' '6.5411937427897215e+25']\n",
      " ['Forest' '-0.0128']\n",
      " ['Ada' '0.0008']\n",
      " ['svm' '0.0']]\n",
      "PoolQC\n",
      "[['Linear' '3.353937068889898e+25']\n",
      " ['Forest' '-0.0019']\n",
      " ['Ada' '0.005']\n",
      " ['svm' '0.0']]\n",
      "Fence\n",
      "[['Linear' '5.5388111804118214e+25']\n",
      " ['Forest' '-0.0103']\n",
      " ['Ada' '-0.0031']\n",
      " ['svm' '0.0']]\n",
      "SaleType\n",
      "[['Linear' '8.841485343170672e+24']\n",
      " ['Forest' '-0.0142']\n",
      " ['Ada' '-0.0024']\n",
      " ['svm' '-0.0001']]\n",
      "SaleCondition\n",
      "[['Linear' '-7.809053412948489e+24']\n",
      " ['Forest' '-0.008']\n",
      " ['Ada' '0.0']\n",
      " ['svm' '-0.0001']]\n",
      "Functional\n",
      "[['Linear' '-2.3780293856165522e+24']\n",
      " ['Forest' '-0.0108']\n",
      " ['Ada' '-0.0004']\n",
      " ['svm' '0.0']]\n",
      "Heating\n",
      "[['Linear' '3.438051451606912e+25']\n",
      " ['Forest' '-0.0244']\n",
      " ['Ada' '0.0067']\n",
      " ['svm' '0.0']]\n",
      "LandContour\n",
      "[['Linear' '2.0454302563548634e+25']\n",
      " ['Forest' '-0.0042']\n",
      " ['Ada' '0.0014']\n",
      " ['svm' '0.0']]\n",
      "OverallCond\n",
      "[['Linear' '-3.488260151539596e+24']\n",
      " ['Forest' '-0.0003']\n",
      " ['Ada' '0.0042']\n",
      " ['svm' '0.0']]\n",
      "OverallQual\n",
      "[['Linear' '3.4757646736328214e+25']\n",
      " ['Forest' '-0.02']\n",
      " ['Ada' '0.0407']\n",
      " ['svm' '0.0']]\n",
      "BsmtCond\n",
      "[['Linear' '4.050543944486143e+25']\n",
      " ['Forest' '-0.0103']\n",
      " ['Ada' '0.0018']\n",
      " ['svm' '0.0']]\n",
      "BsmtExposure\n",
      "[['Linear' '3.3254932172580423e+25']\n",
      " ['Forest' '0.0023']\n",
      " ['Ada' '-0.0021']\n",
      " ['svm' '0.0']]\n",
      "HeatingQC\n",
      "[['Linear' '2.5188525149506452e+25']\n",
      " ['Forest' '-0.0142']\n",
      " ['Ada' '-0.0016']\n",
      " ['svm' '0.0']]\n",
      "BsmtFullBath\n",
      "[['Linear' '1.289025777436519e+25']\n",
      " ['Forest' '-0.0068']\n",
      " ['Ada' '-0.0035']\n",
      " ['svm' '0.0']]\n",
      "FullBath\n",
      "[['Linear' '4.3472315575816085e+24']\n",
      " ['Forest' '-0.0176']\n",
      " ['Ada' '0.0008']\n",
      " ['svm' '0.0']]\n",
      "KitchenAbvGr\n",
      "[['Linear' '9.254579138131768e+25']\n",
      " ['Forest' '-0.0154']\n",
      " ['Ada' '-0.0007']\n",
      " ['svm' '0.0']]\n",
      "KitchenQual\n",
      "[['Linear' '6.211053484294406e+25']\n",
      " ['Forest' '-0.0067']\n",
      " ['Ada' '0.0035']\n",
      " ['svm' '0.0']]\n",
      "TotRmsAbvGrd\n",
      "[['Linear' '6.933312822939944e+25']\n",
      " ['Forest' '0.0005']\n",
      " ['Ada' '0.0073']\n",
      " ['svm' '0.0']]\n",
      "Fireplaces\n",
      "[['Linear' '5.549439818966062e+25']\n",
      " ['Forest' '0.0026']\n",
      " ['Ada' '-0.0031']\n",
      " ['svm' '0.0']]\n",
      "FireplaceQu\n",
      "[['Linear' '4.02869356229936e+25']\n",
      " ['Forest' '-0.023']\n",
      " ['Ada' '0.0016']\n",
      " ['svm' '0.0']]\n",
      "GarageCars\n",
      "[['Linear' '1.7754710294195868e+25']\n",
      " ['Forest' '-0.0174']\n",
      " ['Ada' '0.0028']\n",
      " ['svm' '0.0']]\n",
      "GarageQual\n",
      "[['Linear' '2.254875091690641e+25']\n",
      " ['Forest' '-0.0011']\n",
      " ['Ada' '0.0044']\n",
      " ['svm' '0.0']]\n",
      "GarageCond\n",
      "[['Linear' '6.124678092612174e+24']\n",
      " ['Forest' '-0.0024']\n",
      " ['Ada' '0.0033']\n",
      " ['svm' '0.0']]\n",
      "PavedDrive\n",
      "[['Linear' '-8.129269379594216e+24']\n",
      " ['Forest' '-0.0234']\n",
      " ['Ada' '0.0003']\n",
      " ['svm' '0.0']]\n",
      "LowQualFinSF\n",
      "[['Linear' '1.8553067947692625e+25']\n",
      " ['Forest' '-0.014']\n",
      " ['Ada' '0.0032']\n",
      " ['svm' '0.0']]\n",
      "EnclosedPorch\n",
      "[['Linear' '8.822185273908904e+24']\n",
      " ['Forest' '-0.0016']\n",
      " ['Ada' '-0.0041']\n",
      " ['svm' '0.0']]\n",
      "3SsnPorch\n",
      "[['Linear' '8.987149347735545e+25']\n",
      " ['Forest' '-0.0073']\n",
      " ['Ada' '-0.0006']\n",
      " ['svm' '0.0']]\n",
      "MiscVal\n",
      "[['Linear' '7.0459623530073875e+25']\n",
      " ['Forest' '0.0116']\n",
      " ['Ada' '0.0061']\n",
      " ['svm' '0.0']]\n",
      "Neighborhood\n",
      "[['Linear' '-1.2376772651803608e+25']\n",
      " ['Forest' '-0.0058']\n",
      " ['Ada' '0.0064']\n",
      " ['svm' '-0.0001']]\n",
      "YearBuilt\n",
      "[['Linear' '4.2849999180939757e+24']\n",
      " ['Forest' '-0.0119']\n",
      " ['Ada' '-0.0015']\n",
      " ['svm' '0.0']]\n",
      "YearRemodAdd\n",
      "[['Linear' '6.2029669332551855e+25']\n",
      " ['Forest' '-0.0187']\n",
      " ['Ada' '-0.0019']\n",
      " ['svm' '0.0']]\n",
      "BsmtFinSF2\n",
      "[['Linear' '1.2977829376498228e+25']\n",
      " ['Forest' '0.0059']\n",
      " ['Ada' '0.004']\n",
      " ['svm' '0.0']]\n",
      "BsmtUnfSF\n",
      "[['Linear' '6.894192874986978e+24']\n",
      " ['Forest' '-0.0124']\n",
      " ['Ada' '0.0012']\n",
      " ['svm' '0.0']]\n",
      "GarageYrBlt\n",
      "[['Linear' '2.4184639073461155e+25']\n",
      " ['Forest' '-0.0134']\n",
      " ['Ada' '-0.0033']\n",
      " ['svm' '0.0']]\n"
     ]
    }
   ],
   "source": [
    "ft.score_all_features()"
   ]
  },
  {
   "cell_type": "code",
   "execution_count": 10,
   "metadata": {},
   "outputs": [],
   "source": [
    "#Based on the first iteration: to remove:\n",
    "\n",
    "remove = ['GarageYrBlt',\n",
    "'YearRemodAdd',\n",
    "'YearBuilt','3SsnPorch',\n",
    "'EnclosedPorch',\n",
    "'KitchenAbvGr',\n",
    "'BsmtFullBath',\n",
    "'HeatingQC',\n",
    "'Functional',\n",
    "'LotFrontage',\n",
    "'MasVnrArea',\n",
    "'1stFlrSF',\n",
    "'WoodDeckSF',\n",
    "'ScreenPorch',\n",
    "'PoolArea',\n",
    "'BsmtFinType1',\n",
    "'MiscFeature',\n",
    "'Condition2',\n",
    "'BldgType',\n",
    "'HouseStyle',\n",
    "'RoofMatl',\n",
    "'Exterior1st',\n",
    "'ExterQual',\n",
    "'ExterCond',\n",
    "'BsmtQual',\n",
    "'Fence',\n",
    "'SaleType',\n",
    "'SaleCondition']"
   ]
  },
  {
   "cell_type": "code",
   "execution_count": 11,
   "metadata": {},
   "outputs": [],
   "source": [
    "for i in remove:\n",
    "    ft.remove_feature(i)"
   ]
  },
  {
   "cell_type": "code",
   "execution_count": 13,
   "metadata": {},
   "outputs": [
    {
     "data": {
      "text/plain": [
       "array([['Linear', '-7.021793508005481e+24', '0.0'],\n",
       "       ['Forest', '0.7985', '-0.001'],\n",
       "       ['Ada', '0.7885', '0.0019'],\n",
       "       ['svm', '-0.0607', '0.0']], dtype='<U32')"
      ]
     },
     "execution_count": 13,
     "metadata": {},
     "output_type": "execute_result"
    }
   ],
   "source": [
    "ft.fit()"
   ]
  },
  {
   "cell_type": "code",
   "execution_count": 14,
   "metadata": {},
   "outputs": [
    {
     "data": {
      "text/plain": [
       "['LotArea',\n",
       " 'BsmtFinSF1',\n",
       " 'TotalBsmtSF',\n",
       " '2ndFlrSF',\n",
       " 'GrLivArea',\n",
       " 'GarageArea',\n",
       " 'OpenPorchSF',\n",
       " 'LotShape',\n",
       " 'MSZoning',\n",
       " 'BedroomAbvGr',\n",
       " 'BsmtFinType2',\n",
       " 'HalfBath',\n",
       " 'MSSubClass',\n",
       " 'Alley',\n",
       " 'Condition1',\n",
       " 'Exterior2nd',\n",
       " 'MasVnrType',\n",
       " 'Foundation',\n",
       " 'CentralAir',\n",
       " 'Electrical',\n",
       " 'GarageType',\n",
       " 'GarageFinish',\n",
       " 'PoolQC',\n",
       " 'Heating',\n",
       " 'LandContour',\n",
       " 'OverallCond',\n",
       " 'OverallQual',\n",
       " 'BsmtCond',\n",
       " 'BsmtExposure',\n",
       " 'FullBath',\n",
       " 'KitchenQual',\n",
       " 'TotRmsAbvGrd',\n",
       " 'Fireplaces',\n",
       " 'FireplaceQu',\n",
       " 'GarageCars',\n",
       " 'GarageQual',\n",
       " 'GarageCond',\n",
       " 'PavedDrive',\n",
       " 'LowQualFinSF',\n",
       " 'MiscVal',\n",
       " 'Neighborhood',\n",
       " 'BsmtFinSF2',\n",
       " 'BsmtUnfSF']"
      ]
     },
     "execution_count": 14,
     "metadata": {},
     "output_type": "execute_result"
    }
   ],
   "source": [
    "ft.print_features()"
   ]
  },
  {
   "cell_type": "code",
   "execution_count": 15,
   "metadata": {},
   "outputs": [
    {
     "data": {
      "text/plain": [
       "array([['Linear', '-7.021793508005481e+24', '2.8432551020362584e+25'],\n",
       "       ['Forest', '0.8151', '-0.0004'],\n",
       "       ['Ada', '0.782', '0.0014'],\n",
       "       ['svm', '-0.0607', '-0.0']], dtype='<U32')"
      ]
     },
     "execution_count": 15,
     "metadata": {},
     "output_type": "execute_result"
    }
   ],
   "source": [
    "ft.score_feature('BsmtUnfSF')"
   ]
  },
  {
   "cell_type": "code",
   "execution_count": 16,
   "metadata": {},
   "outputs": [
    {
     "data": {
      "text/plain": [
       "LinearRegression(copy_X=True, fit_intercept=True, n_jobs=None,\n",
       "         normalize=False)"
      ]
     },
     "execution_count": 16,
     "metadata": {},
     "output_type": "execute_result"
    }
   ],
   "source": [
    "ft.estimators.pop(0)"
   ]
  },
  {
   "cell_type": "code",
   "execution_count": 17,
   "metadata": {},
   "outputs": [
    {
     "data": {
      "text/plain": [
       "SVR(C=1.0, cache_size=200, coef0=0.0, degree=3, epsilon=0.1, gamma='auto',\n",
       "  kernel='rbf', max_iter=-1, shrinking=True, tol=0.001, verbose=False)"
      ]
     },
     "execution_count": 17,
     "metadata": {},
     "output_type": "execute_result"
    }
   ],
   "source": [
    "ft.estimators.pop(2)"
   ]
  },
  {
   "cell_type": "code",
   "execution_count": 22,
   "metadata": {},
   "outputs": [],
   "source": [
    "ft.previous = None"
   ]
  },
  {
   "cell_type": "code",
   "execution_count": null,
   "metadata": {},
   "outputs": [],
   "source": [
    "ft.names.pop(0)"
   ]
  },
  {
   "cell_type": "code",
   "execution_count": 27,
   "metadata": {},
   "outputs": [
    {
     "data": {
      "text/plain": [
       "'svm'"
      ]
     },
     "execution_count": 27,
     "metadata": {},
     "output_type": "execute_result"
    }
   ],
   "source": [
    "ft.names.pop(2)"
   ]
  },
  {
   "cell_type": "code",
   "execution_count": 29,
   "metadata": {},
   "outputs": [
    {
     "name": "stdout",
     "output_type": "stream",
     "text": [
      "LotArea\n",
      "[['Forest' '-0.0072']\n",
      " ['Ada' '0.0025']]\n",
      "BsmtFinSF1\n",
      "[['Forest' '-0.0019']\n",
      " ['Ada' '-0.0074']]\n",
      "TotalBsmtSF\n",
      "[['Forest' '-0.0028']\n",
      " ['Ada' '-0.0098']]\n",
      "2ndFlrSF\n",
      "[['Forest' '0.0024']\n",
      " ['Ada' '-0.0011']]\n",
      "GrLivArea\n",
      "[['Forest' '0.0059']\n",
      " ['Ada' '0.003']]\n",
      "GarageArea\n",
      "[['Forest' '0.0071']\n",
      " ['Ada' '-0.006']]\n",
      "OpenPorchSF\n",
      "[['Forest' '-0.0203']\n",
      " ['Ada' '-0.0059']]\n",
      "LotShape\n",
      "[['Forest' '0.0059']\n",
      " ['Ada' '-0.0008']]\n",
      "MSZoning\n",
      "[['Forest' '-0.0123']\n",
      " ['Ada' '-0.0084']]\n",
      "BedroomAbvGr\n",
      "[['Forest' '-0.0193']\n",
      " ['Ada' '-0.0072']]\n",
      "BsmtFinType2\n",
      "[['Forest' '-0.0043']\n",
      " ['Ada' '-0.0123']]\n",
      "HalfBath\n",
      "[['Forest' '0.0015']\n",
      " ['Ada' '-0.0098']]\n",
      "MSSubClass\n",
      "[['Forest' '-0.0223']\n",
      " ['Ada' '-0.0036']]\n",
      "Alley\n",
      "[['Forest' '0.0082']\n",
      " ['Ada' '-0.0062']]\n",
      "Condition1\n",
      "[['Forest' '-0.0065']\n",
      " ['Ada' '-0.0123']]\n",
      "Exterior2nd\n",
      "[['Forest' '-0.0104']\n",
      " ['Ada' '-0.0081']]\n",
      "MasVnrType\n",
      "[['Forest' '-0.0071']\n",
      " ['Ada' '-0.0054']]\n",
      "Foundation\n",
      "[['Forest' '-0.007']\n",
      " ['Ada' '-0.0082']]\n",
      "CentralAir\n",
      "[['Forest' '-0.0107']\n",
      " ['Ada' '-0.0043']]\n",
      "Electrical\n",
      "[['Forest' '0.0007']\n",
      " ['Ada' '-0.0059']]\n",
      "GarageType\n",
      "[['Forest' '-0.0127']\n",
      " ['Ada' '-0.0056']]\n",
      "GarageFinish\n",
      "[['Forest' '0.0032']\n",
      " ['Ada' '-0.0079']]\n",
      "PoolQC\n",
      "[['Forest' '0.0']\n",
      " ['Ada' '-0.0071']]\n",
      "Heating\n",
      "[['Forest' '-0.015']\n",
      " ['Ada' '-0.0027']]\n",
      "LandContour\n",
      "[['Forest' '0.0182']\n",
      " ['Ada' '-0.0006']]\n",
      "OverallCond\n",
      "[['Forest' '0.0017']\n",
      " ['Ada' '-0.0098']]\n",
      "OverallQual\n",
      "[['Forest' '0.0095']\n",
      " ['Ada' '0.0196']]\n",
      "BsmtCond\n",
      "[['Forest' '-0.0011']\n",
      " ['Ada' '-0.0111']]\n",
      "BsmtExposure\n",
      "[['Forest' '0.0073']\n",
      " ['Ada' '-0.0041']]\n",
      "FullBath\n",
      "[['Forest' '-0.0156']\n",
      " ['Ada' '-0.0054']]\n",
      "KitchenQual\n",
      "[['Forest' '0.0076']\n",
      " ['Ada' '-0.01']]\n",
      "TotRmsAbvGrd\n",
      "[['Forest' '0.0102']\n",
      " ['Ada' '-0.0134']]\n",
      "Fireplaces\n",
      "[['Forest' '0.0039']\n",
      " ['Ada' '-0.0108']]\n",
      "FireplaceQu\n",
      "[['Forest' '-0.0055']\n",
      " ['Ada' '-0.0107']]\n",
      "GarageCars\n",
      "[['Forest' '-0.0068']\n",
      " ['Ada' '-0.0046']]\n",
      "GarageQual\n",
      "[['Forest' '-0.0038']\n",
      " ['Ada' '-0.0005']]\n",
      "GarageCond\n",
      "[['Forest' '0.011']\n",
      " ['Ada' '-0.0058']]\n",
      "PavedDrive\n",
      "[['Forest' '-0.0047']\n",
      " ['Ada' '-0.0115']]\n",
      "LowQualFinSF\n",
      "[['Forest' '-0.0168']\n",
      " ['Ada' '-0.0066']]\n",
      "MiscVal\n",
      "[['Forest' '-0.0061']\n",
      " ['Ada' '-0.007']]\n",
      "Neighborhood\n",
      "[['Forest' '-0.0081']\n",
      " ['Ada' '-0.0051']]\n",
      "BsmtFinSF2\n",
      "[['Forest' '-0.011']\n",
      " ['Ada' '-0.0065']]\n",
      "BsmtUnfSF\n",
      "[['Forest' '-0.0004']\n",
      " ['Ada' '-0.0069']]\n"
     ]
    }
   ],
   "source": [
    "ft.score_all_features()"
   ]
  },
  {
   "cell_type": "code",
   "execution_count": 30,
   "metadata": {},
   "outputs": [],
   "source": [
    "remove = ['BsmtFinSF1','TotalBsmtSF','OpenPorchSF','MSZoning','BedroomAbvGr','BsmtFinType2',\n",
    "          'MSSubClass','Condition1','Exterior2nd','MasVnrType','Foundation','CentralAir','GarageType',\n",
    "          'Heating','BsmtCond','FullBath','FireplaceQu','GarageCars','GarageQual','PavedDrive',\n",
    "          'LowQualFinSF','MiscVal','Neighborhood','BsmtFinSF2','BsmtUnfSF'   ]"
   ]
  },
  {
   "cell_type": "code",
   "execution_count": 31,
   "metadata": {},
   "outputs": [],
   "source": [
    "for i in remove:\n",
    "    ft.remove_feature(i)"
   ]
  },
  {
   "cell_type": "code",
   "execution_count": 32,
   "metadata": {},
   "outputs": [
    {
     "data": {
      "text/plain": [
       "array([['Forest', '0.7665', '0.0024'],\n",
       "       ['Ada', '0.7626', '0.0053']], dtype='<U32')"
      ]
     },
     "execution_count": 32,
     "metadata": {},
     "output_type": "execute_result"
    }
   ],
   "source": [
    "ft.fit()"
   ]
  },
  {
   "cell_type": "code",
   "execution_count": 41,
   "metadata": {},
   "outputs": [
    {
     "data": {
      "text/plain": [
       "[('LotArea', 'numerical'),\n",
       " ('2ndFlrSF', 'numerical'),\n",
       " ('GrLivArea', 'numerical'),\n",
       " ('GarageArea', 'numerical'),\n",
       " ('OverallQual', 'numerical'),\n",
       " ('TotRmsAbvGrd', 'numerical'),\n",
       " ('Fireplaces', 'numerical')]"
      ]
     },
     "execution_count": 41,
     "metadata": {},
     "output_type": "execute_result"
    }
   ],
   "source": [
    "ft.print_features(type_filter='numerical',return_tuple=True)"
   ]
  },
  {
   "cell_type": "code",
   "execution_count": 70,
   "metadata": {},
   "outputs": [
    {
     "data": {
      "text/plain": [
       "array([['Forest', '0.7851', '0.0421'],\n",
       "       ['Ada', '0.7609', '0.0643']], dtype='<U32')"
      ]
     },
     "execution_count": 70,
     "metadata": {},
     "output_type": "execute_result"
    }
   ],
   "source": [
    "ft.modify_feature('OverallQual','numerical')\n",
    "ft.score_feature('OverallQual')"
   ]
  },
  {
   "cell_type": "code",
   "execution_count": 69,
   "metadata": {},
   "outputs": [
    {
     "data": {
      "text/plain": [
       "array([['Forest', '0.7568', '0.0151'],\n",
       "       ['Ada', '0.7177', '0.0338']], dtype='<U32')"
      ]
     },
     "execution_count": 69,
     "metadata": {},
     "output_type": "execute_result"
    }
   ],
   "source": [
    "ft.modify_feature('OverallQual','categorical')\n",
    "ft.score_feature('OverallQual')"
   ]
  },
  {
   "cell_type": "code",
   "execution_count": 64,
   "metadata": {},
   "outputs": [
    {
     "data": {
      "text/plain": [
       "array([['Forest', '0.7933', '0.0531'],\n",
       "       ['Ada', '0.7513', '0.0632']], dtype='<U32')"
      ]
     },
     "execution_count": 64,
     "metadata": {},
     "output_type": "execute_result"
    }
   ],
   "source": [
    "ft.modify_feature('OverallQual','ordinal',{7: 4.5, 6: 3.5, 8: 5.8, 5: 2.7, 9: 7.4, 4: 2.1, 10: 10, 3: 1.7, 1: 1, 2: 1.3})\n",
    "ft.score_feature('OverallQual')"
   ]
  },
  {
   "cell_type": "code",
   "execution_count": 67,
   "metadata": {},
   "outputs": [
    {
     "data": {
      "text/plain": [
       "array([['Forest', '0.769', '0.0461'],\n",
       "       ['Ada', '0.7533', '0.0653']], dtype='<U32')"
      ]
     },
     "execution_count": 67,
     "metadata": {},
     "output_type": "execute_result"
    }
   ],
   "source": [
    "ft.modify_feature('OverallQual','ordinal',{7: 49, 6: 36, 8: 64, 5: 25, 9: 81, 4: 16, 10: 100, 3: 9, 1: 1, 2: 4})\n",
    "ft.score_feature('OverallQual')"
   ]
  },
  {
   "cell_type": "code",
   "execution_count": 63,
   "metadata": {},
   "outputs": [
    {
     "data": {
      "text/plain": [
       "array([1.  , 1.28, 1.65, 2.12, 2.72, 3.49, 4.48, 5.75, 7.39, 9.49])"
      ]
     },
     "execution_count": 63,
     "metadata": {},
     "output_type": "execute_result"
    }
   ],
   "source": [
    "xx = np.arange(10)\n",
    "np.round(np.exp(xx/4),2)"
   ]
  },
  {
   "cell_type": "code",
   "execution_count": 48,
   "metadata": {},
   "outputs": [
    {
     "name": "stdout",
     "output_type": "stream",
     "text": [
      "5     397\n",
      "6     374\n",
      "7     319\n",
      "8     168\n",
      "4     116\n",
      "9      43\n",
      "3      20\n",
      "10     18\n",
      "2       3\n",
      "1       2\n",
      "Name: OverallQual, dtype: int64\n"
     ]
    },
    {
     "data": {
      "image/png": "[encoded data removed]",
      "text/plain": [
       "<Figure size 432x288 with 1 Axes>"
      ]
     },
     "metadata": {
      "needs_background": "light"
     },
     "output_type": "display_data"
    }
   ],
   "source": [
    "observe_feature(data,'OverallQual','SalePrice')"
   ]
  },
  {
   "cell_type": "code",
   "execution_count": 71,
   "metadata": {},
   "outputs": [
    {
     "name": "stdout",
     "output_type": "stream",
     "text": [
      "LotArea\n",
      "[['Forest' '-0.0004']\n",
      " ['Ada' '0.0144']]\n",
      "2ndFlrSF\n",
      "[['Forest' '0.0154']\n",
      " ['Ada' '0.0121']]\n",
      "GrLivArea\n",
      "[['Forest' '0.0237']\n",
      " ['Ada' '0.0101']]\n",
      "GarageArea\n",
      "[['Forest' '0.0213']\n",
      " ['Ada' '-0.0034']]\n",
      "LotShape\n",
      "[['Forest' '-0.0063']\n",
      " ['Ada' '0.0093']]\n",
      "HalfBath\n",
      "[['Forest' '0.0175']\n",
      " ['Ada' '-0.0011']]\n",
      "Alley\n",
      "[['Forest' '-0.0113']\n",
      " ['Ada' '0.0014']]\n",
      "Electrical\n",
      "[['Forest' '0.0225']\n",
      " ['Ada' '-0.0075']]\n",
      "GarageFinish\n",
      "[['Forest' '0.0161']\n",
      " ['Ada' '0.0041']]\n",
      "PoolQC\n",
      "[['Forest' '0.0295']\n",
      " ['Ada' '0.0017']]\n",
      "LandContour\n",
      "[['Forest' '0.0054']\n",
      " ['Ada' '0.0153']]\n",
      "OverallCond\n",
      "[['Forest' '0.0067']\n",
      " ['Ada' '-0.0022']]\n",
      "OverallQual\n",
      "[['Forest' '0.0352']\n",
      " ['Ada' '0.0635']]\n",
      "BsmtExposure\n",
      "[['Forest' '0.0067']\n",
      " ['Ada' '-0.0018']]\n",
      "KitchenQual\n",
      "[['Forest' '0.0212']\n",
      " ['Ada' '0.0056']]\n",
      "TotRmsAbvGrd\n",
      "[['Forest' '-0.011']\n",
      " ['Ada' '0.0093']]\n",
      "Fireplaces\n",
      "[['Forest' '0.031']\n",
      " ['Ada' '-0.0002']]\n",
      "GarageCond\n",
      "[['Forest' '0.0138']\n",
      " ['Ada' '0.0075']]\n"
     ]
    }
   ],
   "source": [
    "ft.score_all_features()"
   ]
  },
  {
   "cell_type": "code",
   "execution_count": 72,
   "metadata": {},
   "outputs": [
    {
     "ename": "ValueError",
     "evalue": "cannot reshape array of size 8760 into shape (7,1460)",
     "output_type": "error",
     "traceback": [
      "\u001b[0;31m---------------------------------------------------------------------------\u001b[0m",
      "\u001b[0;31mValueError\u001b[0m                                Traceback (most recent call last)",
      "\u001b[0;32m<ipython-input-72-4b6625adcc10>\u001b[0m in \u001b[0;36m<module>\u001b[0;34m\u001b[0m\n\u001b[1;32m      1\u001b[0m \u001b[0mft\u001b[0m\u001b[0;34m.\u001b[0m\u001b[0madd_feature\u001b[0m\u001b[0;34m(\u001b[0m\u001b[0;34m'LotArea'\u001b[0m\u001b[0;34m)\u001b[0m\u001b[0;34m\u001b[0m\u001b[0;34m\u001b[0m\u001b[0m\n\u001b[0;32m----> 2\u001b[0;31m \u001b[0mft\u001b[0m\u001b[0;34m.\u001b[0m\u001b[0mscore_feature\u001b[0m\u001b[0;34m(\u001b[0m\u001b[0;34m'LotArea'\u001b[0m\u001b[0;34m)\u001b[0m\u001b[0;34m\u001b[0m\u001b[0;34m\u001b[0m\u001b[0m\n\u001b[0m",
      "\u001b[0;32m<ipython-input-4-b96e0cee3e58>\u001b[0m in \u001b[0;36mscore_feature\u001b[0;34m(self, feature)\u001b[0m\n\u001b[1;32m    148\u001b[0m     \u001b[0;32mdef\u001b[0m \u001b[0mscore_feature\u001b[0m\u001b[0;34m(\u001b[0m\u001b[0mself\u001b[0m\u001b[0;34m,\u001b[0m\u001b[0mfeature\u001b[0m\u001b[0;34m)\u001b[0m\u001b[0;34m:\u001b[0m\u001b[0;34m\u001b[0m\u001b[0;34m\u001b[0m\u001b[0m\n\u001b[1;32m    149\u001b[0m         \u001b[0;34m\"\"\"Check the difference is scoring with and without a feature\"\"\"\u001b[0m\u001b[0;34m\u001b[0m\u001b[0;34m\u001b[0m\u001b[0m\n\u001b[0;32m--> 150\u001b[0;31m         \u001b[0mself\u001b[0m\u001b[0;34m.\u001b[0m\u001b[0mfit\u001b[0m\u001b[0;34m(\u001b[0m\u001b[0mskip\u001b[0m\u001b[0;34m=\u001b[0m\u001b[0mfeature\u001b[0m\u001b[0;34m)\u001b[0m\u001b[0;34m\u001b[0m\u001b[0;34m\u001b[0m\u001b[0m\n\u001b[0m\u001b[1;32m    151\u001b[0m         \u001b[0;32mreturn\u001b[0m \u001b[0mself\u001b[0m\u001b[0;34m.\u001b[0m\u001b[0mfit\u001b[0m\u001b[0;34m(\u001b[0m\u001b[0;32mTrue\u001b[0m\u001b[0;34m)\u001b[0m\u001b[0;34m\u001b[0m\u001b[0;34m\u001b[0m\u001b[0m\n\u001b[1;32m    152\u001b[0m \u001b[0;34m\u001b[0m\u001b[0m\n",
      "\u001b[0;32m<ipython-input-4-b96e0cee3e58>\u001b[0m in \u001b[0;36mfit\u001b[0;34m(self, compare, skip)\u001b[0m\n\u001b[1;32m    129\u001b[0m             \u001b[0mskip\u001b[0m \u001b[0mallows\u001b[0m \u001b[0muser\u001b[0m \u001b[0mto\u001b[0m \u001b[0mskip\u001b[0m \u001b[0ma\u001b[0m \u001b[0msingle\u001b[0m \u001b[0mfeature\u001b[0m \u001b[0;34m(\u001b[0m\u001b[0;32mfor\u001b[0m \u001b[0mrecomparing\u001b[0m \u001b[0metc\u001b[0m\u001b[0;34m)\u001b[0m\u001b[0;34m\u001b[0m\u001b[0;34m\u001b[0m\u001b[0m\n\u001b[1;32m    130\u001b[0m         \"\"\"\n\u001b[0;32m--> 131\u001b[0;31m         \u001b[0mX\u001b[0m\u001b[0;34m,\u001b[0m \u001b[0my\u001b[0m \u001b[0;34m=\u001b[0m \u001b[0mself\u001b[0m\u001b[0;34m.\u001b[0m\u001b[0mbuild_data\u001b[0m\u001b[0;34m(\u001b[0m\u001b[0mskip\u001b[0m\u001b[0;34m)\u001b[0m\u001b[0;34m\u001b[0m\u001b[0;34m\u001b[0m\u001b[0m\n\u001b[0m\u001b[1;32m    132\u001b[0m         \u001b[0;31m# scale\u001b[0m\u001b[0;34m\u001b[0m\u001b[0;34m\u001b[0m\u001b[0;34m\u001b[0m\u001b[0m\n\u001b[1;32m    133\u001b[0m         \u001b[0mX\u001b[0m \u001b[0;34m=\u001b[0m \u001b[0mself\u001b[0m\u001b[0;34m.\u001b[0m\u001b[0mscaler\u001b[0m\u001b[0;34m.\u001b[0m\u001b[0mfit_transform\u001b[0m\u001b[0;34m(\u001b[0m\u001b[0mX\u001b[0m\u001b[0;34m)\u001b[0m\u001b[0;34m\u001b[0m\u001b[0;34m\u001b[0m\u001b[0m\n",
      "\u001b[0;32m<ipython-input-4-b96e0cee3e58>\u001b[0m in \u001b[0;36mbuild_data\u001b[0;34m(self, skip)\u001b[0m\n\u001b[1;32m    203\u001b[0m                 \u001b[0mskip_num\u001b[0m \u001b[0;34m=\u001b[0m \u001b[0;32mTrue\u001b[0m\u001b[0;34m\u001b[0m\u001b[0;34m\u001b[0m\u001b[0m\n\u001b[1;32m    204\u001b[0m         \u001b[0;32mif\u001b[0m \u001b[0;34m(\u001b[0m\u001b[0mskip_num\u001b[0m\u001b[0;34m)\u001b[0m\u001b[0;34m:\u001b[0m\u001b[0;34m\u001b[0m\u001b[0;34m\u001b[0m\u001b[0m\n\u001b[0;32m--> 205\u001b[0;31m             \u001b[0mX\u001b[0m \u001b[0;34m=\u001b[0m \u001b[0mX\u001b[0m\u001b[0;34m.\u001b[0m\u001b[0mreshape\u001b[0m\u001b[0;34m(\u001b[0m\u001b[0mlen\u001b[0m\u001b[0;34m(\u001b[0m\u001b[0mnumerical\u001b[0m\u001b[0;34m)\u001b[0m\u001b[0;34m-\u001b[0m\u001b[0;36m1\u001b[0m\u001b[0;34m,\u001b[0m\u001b[0mlen\u001b[0m\u001b[0;34m(\u001b[0m\u001b[0mdata\u001b[0m\u001b[0;34m)\u001b[0m\u001b[0;34m)\u001b[0m\u001b[0;34m.\u001b[0m\u001b[0mT\u001b[0m\u001b[0;34m\u001b[0m\u001b[0;34m\u001b[0m\u001b[0m\n\u001b[0m\u001b[1;32m    206\u001b[0m         \u001b[0;32melse\u001b[0m\u001b[0;34m:\u001b[0m\u001b[0;34m\u001b[0m\u001b[0;34m\u001b[0m\u001b[0m\n\u001b[1;32m    207\u001b[0m             \u001b[0mX\u001b[0m \u001b[0;34m=\u001b[0m \u001b[0mX\u001b[0m\u001b[0;34m.\u001b[0m\u001b[0mreshape\u001b[0m\u001b[0;34m(\u001b[0m\u001b[0mlen\u001b[0m\u001b[0;34m(\u001b[0m\u001b[0mnumerical\u001b[0m\u001b[0;34m)\u001b[0m\u001b[0;34m,\u001b[0m\u001b[0mlen\u001b[0m\u001b[0;34m(\u001b[0m\u001b[0mdata\u001b[0m\u001b[0;34m)\u001b[0m\u001b[0;34m)\u001b[0m\u001b[0;34m.\u001b[0m\u001b[0mT\u001b[0m\u001b[0;34m\u001b[0m\u001b[0;34m\u001b[0m\u001b[0m\n",
      "\u001b[0;31mValueError\u001b[0m: cannot reshape array of size 8760 into shape (7,1460)"
     ]
    }
   ],
   "source": [
    "ft.add_feature('LotArea')\n",
    "ft.score_feature('LotArea')"
   ]
  },
  {
   "cell_type": "code",
   "execution_count": 73,
   "metadata": {},
   "outputs": [
    {
     "data": {
      "text/plain": [
       "array([['Forest', '0.7691', '0.0032'],\n",
       "       ['Ada', '0.7563', '0.0065']], dtype='<U32')"
      ]
     },
     "execution_count": 73,
     "metadata": {},
     "output_type": "execute_result"
    }
   ],
   "source": [
    "ft.fit()"
   ]
  },
  {
   "cell_type": "code",
   "execution_count": 76,
   "metadata": {},
   "outputs": [],
   "source": [
    "ft.remove_feature('LotArea')"
   ]
  },
  {
   "cell_type": "code",
   "execution_count": 79,
   "metadata": {},
   "outputs": [
    {
     "data": {
      "text/plain": [
       "array([['Forest', '0.7772', '-0.0107'],\n",
       "       ['Ada', '0.7442', '-0.0148']], dtype='<U32')"
      ]
     },
     "execution_count": 79,
     "metadata": {},
     "output_type": "execute_result"
    }
   ],
   "source": [
    "ft.score_feature('LotArea')"
   ]
  },
  {
   "cell_type": "code",
   "execution_count": null,
   "metadata": {},
   "outputs": [],
   "source": []
  }
 ],
 "metadata": {
  "kernelspec": {
   "display_name": "Python 3",
   "language": "python",
   "name": "python3"
  },
  "language_info": {
   "codemirror_mode": {
    "name": "ipython",
    "version": 3
   },
   "file_extension": ".py",
   "mimetype": "text/x-python",
   "name": "python",
   "nbconvert_exporter": "python",
   "pygments_lexer": "ipython3",
   "version": "3.6.7"
  }
 },
 "nbformat": 4,
 "nbformat_minor": 2
}
