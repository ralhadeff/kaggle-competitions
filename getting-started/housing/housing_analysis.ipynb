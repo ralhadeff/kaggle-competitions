{
 "cells": [
  {
   "cell_type": "code",
   "execution_count": 1,
   "metadata": {},
   "outputs": [],
   "source": [
    "import numpy as np\n",
    "import pandas as pd\n",
    "import matplotlib.pyplot as plt\n",
    "import seaborn as sns"
   ]
  },
  {
   "cell_type": "code",
   "execution_count": 2,
   "metadata": {},
   "outputs": [],
   "source": [
    "data = pd.read_csv('train.csv')\n",
    "test = pd.read_csv('test.csv')"
   ]
  },
  {
   "cell_type": "code",
   "execution_count": 3,
   "metadata": {},
   "outputs": [],
   "source": [
    "# transform year-something to how many years have elapsed\n",
    "data['garageAge'] = data['GarageYrBlt'].map(lambda x: min(60,2018-x))\n",
    "data['remodelAge'] = data['YearRemodAdd'].map(lambda x: min(100,2018-x))\n",
    "data['BldAge'] = data['YearBuilt'].map(lambda x: min(120,2018-x))\n",
    "# transform neighborhoods to ordinal, with the average of each neighborhood as the value\n",
    "neighborshoods = (data.groupby('Neighborhood').mean()['SalePrice']).to_dict()\n",
    "\n",
    "# test:\n",
    "# transform year-something to how many years have elapsed\n",
    "test['garageAge'] = test['GarageYrBlt'].map(lambda x: min(60,2018-x))\n",
    "test['remodelAge'] = test['YearRemodAdd'].map(lambda x: min(100,2018-x))\n",
    "test['BldAge'] = test['YearBuilt'].map(lambda x: min(120,2018-x))\n",
    "# 150 only appears in the test set (once), arbitrarily change to something so that the code runs\n",
    "test.loc[test['MSSubClass']==150,'MSSubClass'] = 20\n",
    "# one NaN value to fix\n",
    "test.loc[660,'BsmtFinSF1'] = 0"
   ]
  },
  {
   "cell_type": "code",
   "execution_count": 4,
   "metadata": {},
   "outputs": [],
   "source": [
    "from sklearn.ensemble import RandomForestRegressor\n",
    "from sklearn.linear_model import LinearRegression\n",
    "from sklearn.ensemble import AdaBoostRegressor, GradientBoostingRegressor\n",
    "from sklearn.svm import SVR"
   ]
  },
  {
   "cell_type": "code",
   "execution_count": 5,
   "metadata": {},
   "outputs": [],
   "source": [
    "from feature_tester import FeatureTester, observe_feature, get_dict, get_list"
   ]
  },
  {
   "cell_type": "markdown",
   "metadata": {},
   "source": [
    "After having tried different things, I decided to systematically add features one by one, each time checking if they add (at least 0.001) and whether other features, after the addition, are no longer contributing (because of co-depenedence)"
   ]
  },
  {
   "cell_type": "code",
   "execution_count": 6,
   "metadata": {},
   "outputs": [
    {
     "data": {
      "text/plain": [
       "array([['Linear', '0.809'],\n",
       "       ['Forest', '0.872'],\n",
       "       ['Ada   ', '0.826'],\n",
       "       ['GBoost', '0.893']], dtype='<U32')"
      ]
     },
     "execution_count": 6,
     "metadata": {},
     "output_type": "execute_result"
    }
   ],
   "source": [
    "ft = FeatureTester(data,random_seed=22,precision=3)\n",
    "ft.set_y('SalePrice')\n",
    "ft.add_estimator(LinearRegression(),'Linear')\n",
    "ft.add_estimator(RandomForestRegressor(10),'Forest')\n",
    "ft.add_estimator(AdaBoostRegressor(),'Ada   ')\n",
    "ft.add_estimator(GradientBoostingRegressor(),'GBoost')\n",
    "\n",
    "ft.add_feature('OverallQual') \n",
    "ft.add_feature('BsmtFinSF1')\n",
    "ft.add_feature('GrLivArea')\n",
    "ft.add_feature('MSSubClass','categorical')\n",
    "ft.add_feature('ExterQual','categorical')\n",
    "ft.add_feature('LandContour','ordinal',{'Lvl': 1, 'Bnk': 0, 'Low': 2, 'HLS': 3})\n",
    "ft.add_feature('BsmtExposure','ordinal',{'No': 0, 'Gd': 3, 'Mn': 1, 'Av': 2,'nan':0})\n",
    "ft.add_feature('FireplaceQu','ordinal',{'Ex': 4, 'Gd': 3, 'TA': 2, 'Fa': 1, 'Po': 0,'nan':0})\n",
    "ft.add_feature('remodelAge') \n",
    "ft.add_feature('BldAge')\n",
    "ft.add_feature('Neighborhood','ordinal',neighborshoods)\n",
    "\n",
    "ft.fit()"
   ]
  },
  {
   "cell_type": "code",
   "execution_count": 7,
   "metadata": {},
   "outputs": [
    {
     "name": "stdout",
     "output_type": "stream",
     "text": [
      "OverallQual\n",
      "[['Linear' '0.015']\n",
      " ['Forest' '-0.016']\n",
      " ['Ada   ' '0.017']\n",
      " ['GBoost' '0.011']]\n",
      "BsmtFinSF1\n",
      "[['Linear' '-0.004']\n",
      " ['Forest' '0.008']\n",
      " ['Ada   ' '0.024']\n",
      " ['GBoost' '0.017']]\n",
      "GrLivArea\n",
      "[['Linear' '0.029']\n",
      " ['Forest' '0.044']\n",
      " ['Ada   ' '0.065']\n",
      " ['GBoost' '0.052']]\n",
      "MSSubClass\n",
      "[['Linear' '0.012']\n",
      " ['Forest' '-0.013']\n",
      " ['Ada   ' '-0.002']\n",
      " ['GBoost' '0.004']]\n",
      "ExterQual\n",
      "[['Linear' '0.008']\n",
      " ['Forest' '0.003']\n",
      " ['Ada   ' '0.0']\n",
      " ['GBoost' '0.005']]\n",
      "LandContour\n",
      "[['Linear' '0.0']\n",
      " ['Forest' '-0.006']\n",
      " ['Ada   ' '0.0']\n",
      " ['GBoost' '0.003']]\n",
      "BsmtExposure\n",
      "[['Linear' '0.007']\n",
      " ['Forest' '0.002']\n",
      " ['Ada   ' '-0.004']\n",
      " ['GBoost' '0.005']]\n",
      "FireplaceQu\n",
      "[['Linear' '0.002']\n",
      " ['Forest' '-0.012']\n",
      " ['Ada   ' '0.004']\n",
      " ['GBoost' '0.006']]\n",
      "remodelAge\n",
      "[['Linear' '0.001']\n",
      " ['Forest' '0.006']\n",
      " ['Ada   ' '0.002']\n",
      " ['GBoost' '0.012']]\n",
      "BldAge\n",
      "[['Linear' '0.0']\n",
      " ['Forest' '-0.003']\n",
      " ['Ada   ' '-0.003']\n",
      " ['GBoost' '0.011']]\n",
      "Neighborhood\n",
      "[['Linear' '0.029']\n",
      " ['Forest' '0.02']\n",
      " ['Ada   ' '0.013']\n",
      " ['GBoost' '0.024']]\n"
     ]
    }
   ],
   "source": [
    "ft.score_all_features()"
   ]
  },
  {
   "cell_type": "code",
   "execution_count": 7,
   "metadata": {},
   "outputs": [
    {
     "data": {
      "text/plain": [
       "array([['Linear', '0.86'],\n",
       "       ['Forest', '0.882'],\n",
       "       ['Ada   ', '0.794'],\n",
       "       ['GBoost', '0.902']], dtype='<U32')"
      ]
     },
     "execution_count": 7,
     "metadata": {},
     "output_type": "execute_result"
    }
   ],
   "source": [
    "ft.score_test_set()"
   ]
  },
  {
   "cell_type": "code",
   "execution_count": 8,
   "metadata": {},
   "outputs": [],
   "source": [
    "pred = np.array(ft.predict(test))"
   ]
  },
  {
   "cell_type": "code",
   "execution_count": 9,
   "metadata": {},
   "outputs": [
    {
     "data": {
      "text/plain": [
       "(4, 1459)"
      ]
     },
     "execution_count": 9,
     "metadata": {},
     "output_type": "execute_result"
    }
   ],
   "source": [
    "pred.shape"
   ]
  },
  {
   "cell_type": "code",
   "execution_count": 10,
   "metadata": {},
   "outputs": [
    {
     "data": {
      "text/plain": [
       "(1459,)"
      ]
     },
     "execution_count": 10,
     "metadata": {},
     "output_type": "execute_result"
    }
   ],
   "source": [
    "pred.mean(axis=0).shape"
   ]
  },
  {
   "cell_type": "code",
   "execution_count": 11,
   "metadata": {},
   "outputs": [
    {
     "data": {
      "text/plain": [
       "RangeIndex(start=0, stop=1459, step=1)"
      ]
     },
     "execution_count": 11,
     "metadata": {},
     "output_type": "execute_result"
    }
   ],
   "source": [
    "test.index"
   ]
  },
  {
   "cell_type": "code",
   "execution_count": 17,
   "metadata": {},
   "outputs": [
    {
     "data": {
      "text/html": [
       "<div>\n",
       "<style scoped>\n",
       "    .dataframe tbody tr th:only-of-type {\n",
       "        vertical-align: middle;\n",
       "    }\n",
       "\n",
       "    .dataframe tbody tr th {\n",
       "        vertical-align: top;\n",
       "    }\n",
       "\n",
       "    .dataframe thead th {\n",
       "        text-align: right;\n",
       "    }\n",
       "</style>\n",
       "<table border=\"1\" class=\"dataframe\">\n",
       "  <thead>\n",
       "    <tr style=\"text-align: right;\">\n",
       "      <th></th>\n",
       "      <th>MSSubClass</th>\n",
       "      <th>MSZoning</th>\n",
       "      <th>LotFrontage</th>\n",
       "      <th>LotArea</th>\n",
       "      <th>Street</th>\n",
       "      <th>Alley</th>\n",
       "      <th>LotShape</th>\n",
       "      <th>LandContour</th>\n",
       "      <th>Utilities</th>\n",
       "      <th>LotConfig</th>\n",
       "      <th>...</th>\n",
       "      <th>MiscFeature</th>\n",
       "      <th>MiscVal</th>\n",
       "      <th>MoSold</th>\n",
       "      <th>YrSold</th>\n",
       "      <th>SaleType</th>\n",
       "      <th>SaleCondition</th>\n",
       "      <th>garageAge</th>\n",
       "      <th>remodelAge</th>\n",
       "      <th>BldAge</th>\n",
       "      <th>SalePrice</th>\n",
       "    </tr>\n",
       "    <tr>\n",
       "      <th>Id</th>\n",
       "      <th></th>\n",
       "      <th></th>\n",
       "      <th></th>\n",
       "      <th></th>\n",
       "      <th></th>\n",
       "      <th></th>\n",
       "      <th></th>\n",
       "      <th></th>\n",
       "      <th></th>\n",
       "      <th></th>\n",
       "      <th></th>\n",
       "      <th></th>\n",
       "      <th></th>\n",
       "      <th></th>\n",
       "      <th></th>\n",
       "      <th></th>\n",
       "      <th></th>\n",
       "      <th></th>\n",
       "      <th></th>\n",
       "      <th></th>\n",
       "      <th></th>\n",
       "    </tr>\n",
       "  </thead>\n",
       "  <tbody>\n",
       "    <tr>\n",
       "      <th>1461</th>\n",
       "      <td>20</td>\n",
       "      <td>RH</td>\n",
       "      <td>80.0</td>\n",
       "      <td>11622</td>\n",
       "      <td>Pave</td>\n",
       "      <td>NaN</td>\n",
       "      <td>Reg</td>\n",
       "      <td>Lvl</td>\n",
       "      <td>AllPub</td>\n",
       "      <td>Inside</td>\n",
       "      <td>...</td>\n",
       "      <td>NaN</td>\n",
       "      <td>0</td>\n",
       "      <td>6</td>\n",
       "      <td>2010</td>\n",
       "      <td>WD</td>\n",
       "      <td>Normal</td>\n",
       "      <td>57.0</td>\n",
       "      <td>57</td>\n",
       "      <td>57</td>\n",
       "      <td>120258.498054</td>\n",
       "    </tr>\n",
       "    <tr>\n",
       "      <th>1462</th>\n",
       "      <td>20</td>\n",
       "      <td>RL</td>\n",
       "      <td>81.0</td>\n",
       "      <td>14267</td>\n",
       "      <td>Pave</td>\n",
       "      <td>NaN</td>\n",
       "      <td>IR1</td>\n",
       "      <td>Lvl</td>\n",
       "      <td>AllPub</td>\n",
       "      <td>Corner</td>\n",
       "      <td>...</td>\n",
       "      <td>Gar2</td>\n",
       "      <td>12500</td>\n",
       "      <td>6</td>\n",
       "      <td>2010</td>\n",
       "      <td>WD</td>\n",
       "      <td>Normal</td>\n",
       "      <td>60.0</td>\n",
       "      <td>60</td>\n",
       "      <td>60</td>\n",
       "      <td>142396.173525</td>\n",
       "    </tr>\n",
       "    <tr>\n",
       "      <th>1463</th>\n",
       "      <td>60</td>\n",
       "      <td>RL</td>\n",
       "      <td>74.0</td>\n",
       "      <td>13830</td>\n",
       "      <td>Pave</td>\n",
       "      <td>NaN</td>\n",
       "      <td>IR1</td>\n",
       "      <td>Lvl</td>\n",
       "      <td>AllPub</td>\n",
       "      <td>Inside</td>\n",
       "      <td>...</td>\n",
       "      <td>NaN</td>\n",
       "      <td>0</td>\n",
       "      <td>3</td>\n",
       "      <td>2010</td>\n",
       "      <td>WD</td>\n",
       "      <td>Normal</td>\n",
       "      <td>21.0</td>\n",
       "      <td>20</td>\n",
       "      <td>21</td>\n",
       "      <td>189182.221319</td>\n",
       "    </tr>\n",
       "    <tr>\n",
       "      <th>1464</th>\n",
       "      <td>60</td>\n",
       "      <td>RL</td>\n",
       "      <td>78.0</td>\n",
       "      <td>9978</td>\n",
       "      <td>Pave</td>\n",
       "      <td>NaN</td>\n",
       "      <td>IR1</td>\n",
       "      <td>Lvl</td>\n",
       "      <td>AllPub</td>\n",
       "      <td>Inside</td>\n",
       "      <td>...</td>\n",
       "      <td>NaN</td>\n",
       "      <td>0</td>\n",
       "      <td>6</td>\n",
       "      <td>2010</td>\n",
       "      <td>WD</td>\n",
       "      <td>Normal</td>\n",
       "      <td>20.0</td>\n",
       "      <td>20</td>\n",
       "      <td>20</td>\n",
       "      <td>190457.904352</td>\n",
       "    </tr>\n",
       "    <tr>\n",
       "      <th>1465</th>\n",
       "      <td>120</td>\n",
       "      <td>RL</td>\n",
       "      <td>43.0</td>\n",
       "      <td>5005</td>\n",
       "      <td>Pave</td>\n",
       "      <td>NaN</td>\n",
       "      <td>IR1</td>\n",
       "      <td>HLS</td>\n",
       "      <td>AllPub</td>\n",
       "      <td>Inside</td>\n",
       "      <td>...</td>\n",
       "      <td>NaN</td>\n",
       "      <td>0</td>\n",
       "      <td>1</td>\n",
       "      <td>2010</td>\n",
       "      <td>WD</td>\n",
       "      <td>Normal</td>\n",
       "      <td>26.0</td>\n",
       "      <td>26</td>\n",
       "      <td>26</td>\n",
       "      <td>213328.490139</td>\n",
       "    </tr>\n",
       "  </tbody>\n",
       "</table>\n",
       "<p>5 rows × 83 columns</p>\n",
       "</div>"
      ],
      "text/plain": [
       "      MSSubClass MSZoning  LotFrontage  LotArea Street Alley LotShape  \\\n",
       "Id                                                                      \n",
       "1461          20       RH         80.0    11622   Pave   NaN      Reg   \n",
       "1462          20       RL         81.0    14267   Pave   NaN      IR1   \n",
       "1463          60       RL         74.0    13830   Pave   NaN      IR1   \n",
       "1464          60       RL         78.0     9978   Pave   NaN      IR1   \n",
       "1465         120       RL         43.0     5005   Pave   NaN      IR1   \n",
       "\n",
       "     LandContour Utilities LotConfig      ...       MiscFeature MiscVal  \\\n",
       "Id                                        ...                             \n",
       "1461         Lvl    AllPub    Inside      ...               NaN       0   \n",
       "1462         Lvl    AllPub    Corner      ...              Gar2   12500   \n",
       "1463         Lvl    AllPub    Inside      ...               NaN       0   \n",
       "1464         Lvl    AllPub    Inside      ...               NaN       0   \n",
       "1465         HLS    AllPub    Inside      ...               NaN       0   \n",
       "\n",
       "     MoSold YrSold SaleType SaleCondition  garageAge  remodelAge  BldAge  \\\n",
       "Id                                                                         \n",
       "1461      6   2010       WD        Normal       57.0          57      57   \n",
       "1462      6   2010       WD        Normal       60.0          60      60   \n",
       "1463      3   2010       WD        Normal       21.0          20      21   \n",
       "1464      6   2010       WD        Normal       20.0          20      20   \n",
       "1465      1   2010       WD        Normal       26.0          26      26   \n",
       "\n",
       "          SalePrice  \n",
       "Id                   \n",
       "1461  120258.498054  \n",
       "1462  142396.173525  \n",
       "1463  189182.221319  \n",
       "1464  190457.904352  \n",
       "1465  213328.490139  \n",
       "\n",
       "[5 rows x 83 columns]"
      ]
     },
     "execution_count": 17,
     "metadata": {},
     "output_type": "execute_result"
    }
   ],
   "source": [
    "test['SalePrice'] = pred.mean(axis=0)\n",
    "test.set_index('Id').head()"
   ]
  },
  {
   "cell_type": "code",
   "execution_count": 19,
   "metadata": {},
   "outputs": [],
   "source": [
    "test[['Id','SalePrice']].set_index('Id').to_csv('predictions.csv')"
   ]
  },
  {
   "cell_type": "code",
   "execution_count": 24,
   "metadata": {},
   "outputs": [
    {
     "data": {
      "text/plain": [
       "array([113351.80801632, 154611.96805396, 178457.78772965, ...,\n",
       "       160638.35629915, 131216.06599873, 222903.63349892])"
      ]
     },
     "execution_count": 24,
     "metadata": {},
     "output_type": "execute_result"
    }
   ],
   "source": [
    "pred[0]"
   ]
  },
  {
   "cell_type": "code",
   "execution_count": 25,
   "metadata": {},
   "outputs": [],
   "source": [
    "# try Gboost only\n",
    "test['SalePrice'] = pred[3]\n",
    "test[['Id','SalePrice']].set_index('Id').to_csv('gboost.csv')"
   ]
  },
  {
   "cell_type": "code",
   "execution_count": null,
   "metadata": {},
   "outputs": [],
   "source": []
  }
 ],
 "metadata": {
  "kernelspec": {
   "display_name": "Python 3",
   "language": "python",
   "name": "python3"
  },
  "language_info": {
   "codemirror_mode": {
    "name": "ipython",
    "version": 3
   },
   "file_extension": ".py",
   "mimetype": "text/x-python",
   "name": "python",
   "nbconvert_exporter": "python",
   "pygments_lexer": "ipython3",
   "version": "3.6.7"
  }
 },
 "nbformat": 4,
 "nbformat_minor": 2
}
