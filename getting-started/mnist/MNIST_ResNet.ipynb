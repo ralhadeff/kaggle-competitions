{
 "cells": [
  {
   "cell_type": "markdown",
   "metadata": {},
   "source": [
    "# MNIST - CNN"
   ]
  },
  {
   "cell_type": "code",
   "execution_count": 1,
   "metadata": {},
   "outputs": [],
   "source": [
    "import numpy as np\n",
    "import matplotlib.pyplot as plt"
   ]
  },
  {
   "cell_type": "code",
   "execution_count": 2,
   "metadata": {},
   "outputs": [
    {
     "data": {
      "text/plain": [
       "(42000, 785)"
      ]
     },
     "execution_count": 2,
     "metadata": {},
     "output_type": "execute_result"
    }
   ],
   "source": [
    "data = np.genfromtxt('train.csv', delimiter=',',skip_header=1)\n",
    "data.shape"
   ]
  },
  {
   "cell_type": "markdown",
   "metadata": {},
   "source": [
    "**Extra preparation of data for the ResNet (must be chromatic and minimum size is 32x32)**"
   ]
  },
  {
   "cell_type": "code",
   "execution_count": 3,
   "metadata": {},
   "outputs": [],
   "source": [
    "# normalize X\n",
    "X = data[:,1:]/255\n",
    "X = X.reshape(-1,28,28)\n",
    "# pad with zeros\n",
    "pad = np.zeros((len(X),2,28))\n",
    "X = np.hstack([pad,X,pad])\n",
    "pad = np.zeros((len(X),32,2))\n",
    "X = np.dstack([pad,X,pad])"
   ]
  },
  {
   "cell_type": "code",
   "execution_count": 4,
   "metadata": {},
   "outputs": [
    {
     "data": {
      "text/plain": [
       "((42000, 32, 32, 3), (42000, 10))"
      ]
     },
     "execution_count": 4,
     "metadata": {},
     "output_type": "execute_result"
    }
   ],
   "source": [
    "# normalize X\n",
    "X = data[:,1:]/255\n",
    "X = X.reshape(-1,28,28)\n",
    "# pad with zeros\n",
    "pad = np.zeros((len(X),2,28))\n",
    "X = np.hstack([pad,X,pad])\n",
    "pad = np.zeros((len(X),32,2))\n",
    "X = np.dstack([pad,X,pad])\n",
    "# make X chromatic (cheap trick that seems to be good enough here)\n",
    "X = np.stack([X,X,X],axis=3)\n",
    "# one hot encode y\n",
    "y = np.zeros(shape=(len(X),10),dtype=int)\n",
    "y[np.arange(len(data)),data[:,0].astype(int)] = 1\n",
    "X.shape,y.shape"
   ]
  },
  {
   "cell_type": "code",
   "execution_count": 5,
   "metadata": {},
   "outputs": [
    {
     "data": {
      "image/png": "[encoded data removed]",
      "text/plain": [
       "<Figure size 432x288 with 1 Axes>"
      ]
     },
     "metadata": {
      "needs_background": "light"
     },
     "output_type": "display_data"
    },
    {
     "data": {
      "text/plain": [
       "(2, array([0, 0, 1, 0, 0, 0, 0, 0, 0, 0]))"
      ]
     },
     "execution_count": 5,
     "metadata": {},
     "output_type": "execute_result"
    }
   ],
   "source": [
    "# sample image\n",
    "i = np.random.randint(len(X))\n",
    "plt.imshow(X[i])\n",
    "plt.show()\n",
    "np.argmax(y[i]),y[i]"
   ]
  },
  {
   "cell_type": "code",
   "execution_count": 6,
   "metadata": {},
   "outputs": [],
   "source": [
    "# train/test split\n",
    "mask = np.zeros(shape=len(X),dtype=bool)\n",
    "mask[np.random.choice(np.arange(len(X)),size=int(0.8*len(X)),replace=False)] = 1\n",
    "X_train = X[mask]\n",
    "X_test = X[~mask]\n",
    "y_train = y[mask]\n",
    "y_test = y[~mask]"
   ]
  },
  {
   "cell_type": "code",
   "execution_count": 8,
   "metadata": {},
   "outputs": [
    {
     "data": {
      "text/plain": [
       "array([3284, 3751, 3370, 3510, 3258, 3001, 3329, 3509, 3293, 3295])"
      ]
     },
     "execution_count": 8,
     "metadata": {},
     "output_type": "execute_result"
    }
   ],
   "source": [
    "# check balance\n",
    "np.unique(np.argmax(y_train,axis=1),return_counts=True)[1]"
   ]
  },
  {
   "cell_type": "code",
   "execution_count": 9,
   "metadata": {},
   "outputs": [
    {
     "data": {
      "text/plain": [
       "array([848, 933, 807, 841, 814, 794, 808, 892, 770, 893])"
      ]
     },
     "execution_count": 9,
     "metadata": {},
     "output_type": "execute_result"
    }
   ],
   "source": [
    "np.unique(np.argmax(y_test,axis=1),return_counts=True)[1]"
   ]
  },
  {
   "cell_type": "markdown",
   "metadata": {},
   "source": [
    "### ResNet-based model"
   ]
  },
  {
   "cell_type": "code",
   "execution_count": 10,
   "metadata": {},
   "outputs": [],
   "source": [
    "from keras.models import Model\n",
    "from keras.layers import Dense, Flatten, Dropout\n",
    "from keras.applications.resnet50 import ResNet50"
   ]
  },
  {
   "cell_type": "code",
   "execution_count": 11,
   "metadata": {},
   "outputs": [
    {
     "name": "stderr",
     "output_type": "stream",
     "text": [
      "/home/raphael/Software/anaconda3/lib/python3.6/site-packages/keras_applications/resnet50.py:265: UserWarning: The output shape of `ResNet50(include_top=False)` has been changed since Keras 2.2.0.\n",
      "  warnings.warn('The output shape of `ResNet50(include_top=False)` '\n"
     ]
    },
    {
     "name": "stdout",
     "output_type": "stream",
     "text": [
      "Downloading data from https://github.com/fchollet/deep-learning-models/releases/download/v0.2/resnet50_weights_tf_dim_ordering_tf_kernels_notop.h5\n",
      "94658560/94653016 [==============================] - 11s 0us/step\n"
     ]
    }
   ],
   "source": [
    "resnet = ResNet50(input_shape=(32,32,3),include_top=False)\n",
    "# do not train the pre-trained ResNet\n",
    "for layer in resnet.layers:\n",
    "    layer.trainable = False"
   ]
  },
  {
   "cell_type": "code",
   "execution_count": 13,
   "metadata": {},
   "outputs": [],
   "source": [
    "# add output layer\n",
    "dense = Dense(256, activation='relu')(Flatten()(resnet.output))\n",
    "drop = Dropout(rate=0.5)(dense)\n",
    "output = Dense(10, activation='softmax')(drop)\n",
    "\n",
    "model = Model(inputs=resnet.input, outputs=output)\n",
    "model.compile(optimizer='adam', loss='binary_crossentropy',\n",
    "              metrics=['accuracy'])"
   ]
  },
  {
   "cell_type": "markdown",
   "metadata": {},
   "source": [
    "### Training"
   ]
  },
  {
   "cell_type": "code",
   "execution_count": 14,
   "metadata": {},
   "outputs": [
    {
     "name": "stdout",
     "output_type": "stream",
     "text": [
      "Epoch 1/10\n",
      "33600/33600 [==============================] - 379s 11ms/step - loss: 0.1600 - acc: 0.9425\n",
      "Epoch 2/10\n",
      "33600/33600 [==============================] - 333s 10ms/step - loss: 0.1267 - acc: 0.9539\n",
      "Epoch 3/10\n",
      "33600/33600 [==============================] - 338s 10ms/step - loss: 0.1155 - acc: 0.9578\n",
      "Epoch 4/10\n",
      "33600/33600 [==============================] - 390s 12ms/step - loss: 0.1106 - acc: 0.9592\n",
      "Epoch 5/10\n",
      "33600/33600 [==============================] - 364s 11ms/step - loss: 0.1089 - acc: 0.9601\n",
      "Epoch 6/10\n",
      "33600/33600 [==============================] - 333s 10ms/step - loss: 0.1068 - acc: 0.9610\n",
      "Epoch 7/10\n",
      "33600/33600 [==============================] - 333s 10ms/step - loss: 0.1051 - acc: 0.9620\n",
      "Epoch 8/10\n",
      "33600/33600 [==============================] - 333s 10ms/step - loss: 0.1029 - acc: 0.9628\n",
      "Epoch 9/10\n",
      "33600/33600 [==============================] - 378s 11ms/step - loss: 0.1024 - acc: 0.9628\n",
      "Epoch 10/10\n",
      "33600/33600 [==============================] - 356s 11ms/step - loss: 0.1007 - acc: 0.9632\n"
     ]
    },
    {
     "data": {
      "text/plain": [
       "<keras.callbacks.History at 0x7fe8dd1c3ba8>"
      ]
     },
     "execution_count": 14,
     "metadata": {},
     "output_type": "execute_result"
    }
   ],
   "source": [
    "model.fit(X_train,y_train,epochs=10)"
   ]
  },
  {
   "cell_type": "markdown",
   "metadata": {},
   "source": [
    "### Scoring"
   ]
  },
  {
   "cell_type": "code",
   "execution_count": 15,
   "metadata": {},
   "outputs": [
    {
     "name": "stdout",
     "output_type": "stream",
     "text": [
      "33600/33600 [==============================] - 291s 9ms/step\n"
     ]
    },
    {
     "data": {
      "text/plain": [
       "[1.1457686288016182, 0.8208869635491144]"
      ]
     },
     "execution_count": 15,
     "metadata": {},
     "output_type": "execute_result"
    }
   ],
   "source": [
    "model.evaluate(X_train,y_train)"
   ]
  },
  {
   "cell_type": "code",
   "execution_count": 16,
   "metadata": {},
   "outputs": [
    {
     "name": "stdout",
     "output_type": "stream",
     "text": [
      "8400/8400 [==============================] - 67s 8ms/step\n"
     ]
    },
    {
     "data": {
      "text/plain": [
       "[1.136466794013977, 0.8212381516184125]"
      ]
     },
     "execution_count": 16,
     "metadata": {},
     "output_type": "execute_result"
    }
   ],
   "source": [
    "model.evaluate(X_test,y_test)"
   ]
  },
  {
   "cell_type": "markdown",
   "metadata": {},
   "source": [
    "That is rather strange"
   ]
  },
  {
   "cell_type": "code",
   "execution_count": 17,
   "metadata": {},
   "outputs": [],
   "source": [
    "# alternative\n",
    "from keras.applications.inception_v3 import InceptionV3"
   ]
  }
 ],
 "metadata": {
  "kernelspec": {
   "display_name": "Python 3",
   "language": "python",
   "name": "python3"
  },
  "language_info": {
   "codemirror_mode": {
    "name": "ipython",
    "version": 3
   },
   "file_extension": ".py",
   "mimetype": "text/x-python",
   "name": "python",
   "nbconvert_exporter": "python",
   "pygments_lexer": "ipython3",
   "version": "3.6.7"
  }
 },
 "nbformat": 4,
 "nbformat_minor": 2
}
