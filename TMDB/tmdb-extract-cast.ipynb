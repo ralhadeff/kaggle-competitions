{
 "cells": [
  {
   "cell_type": "markdown",
   "metadata": {},
   "source": [
    "# Kaggle - TMDB "
   ]
  },
  {
   "cell_type": "markdown",
   "metadata": {},
   "source": [
    "### Extract tables - cast"
   ]
  },
  {
   "cell_type": "code",
   "execution_count": 1,
   "metadata": {},
   "outputs": [],
   "source": [
    "import numpy as np\n",
    "import pandas as pd\n",
    "import matplotlib.pyplot as plt\n",
    "import seaborn as sns\n",
    "import ast\n",
    "import math"
   ]
  },
  {
   "cell_type": "code",
   "execution_count": 2,
   "metadata": {},
   "outputs": [],
   "source": [
    "MILLION = 1000000"
   ]
  },
  {
   "cell_type": "code",
   "execution_count": 3,
   "metadata": {},
   "outputs": [],
   "source": [
    "train = pd.read_csv('train.csv')"
   ]
  },
  {
   "cell_type": "raw",
   "metadata": {},
   "source": [
    "Left to consider:\n",
    "months with average?\n",
    "production_countries\n",
    "keywords in 'overview'\n",
    "spoken_languages\n",
    "runtime binned\n",
    "binary is 'en'\n",
    "keywords in tagline\n",
    "'Keywords'\n",
    "'cast'\n",
    "'crew'"
   ]
  },
  {
   "cell_type": "code",
   "execution_count": 4,
   "metadata": {},
   "outputs": [],
   "source": [
    "n_cast_counts = train['cast'].fillna('[{}]').map(lambda x: len(ast.literal_eval(x))).value_counts()"
   ]
  },
  {
   "cell_type": "code",
   "execution_count": 5,
   "metadata": {},
   "outputs": [
    {
     "data": {
      "text/plain": [
       "<matplotlib.collections.PathCollection at 0x7f084fb7d7b8>"
      ]
     },
     "execution_count": 5,
     "metadata": {},
     "output_type": "execute_result"
    },
    {
     "data": {
      "image/png": "[encoded data removed]",
      "text/plain": [
       "<Figure size 432x288 with 1 Axes>"
      ]
     },
     "metadata": {
      "needs_background": "light"
     },
     "output_type": "display_data"
    }
   ],
   "source": [
    "plt.scatter(n_cast_counts.index,n_cast_counts.values)"
   ]
  },
  {
   "cell_type": "code",
   "execution_count": 6,
   "metadata": {},
   "outputs": [],
   "source": [
    "train['cast_expand'] = train['cast'].fillna('[{\"id\":-234,\"name\":\"\",\"cast_id\":-234}]').map(lambda x: [(f['id'],f['name'],f['cast_id']) for f in ast.literal_eval(x)])"
   ]
  },
  {
   "cell_type": "code",
   "execution_count": 7,
   "metadata": {},
   "outputs": [
    {
     "data": {
      "text/plain": [
       "61824"
      ]
     },
     "execution_count": 7,
     "metadata": {},
     "output_type": "execute_result"
    }
   ],
   "source": [
    "# get all ids, names and cast_ids\n",
    "all_tuples = []\n",
    "for i in train['cast_expand']:\n",
    "    all_tuples.extend(i)\n",
    "len(all_tuples)"
   ]
  },
  {
   "cell_type": "code",
   "execution_count": 8,
   "metadata": {},
   "outputs": [
    {
     "data": {
      "text/plain": [
       "38761"
      ]
     },
     "execution_count": 8,
     "metadata": {},
     "output_type": "execute_result"
    }
   ],
   "source": [
    "names = {}\n",
    "for i in all_tuples:\n",
    "    names[i[0]] = i[1]\n",
    "len(names)"
   ]
  },
  {
   "cell_type": "code",
   "execution_count": 9,
   "metadata": {},
   "outputs": [
    {
     "data": {
      "text/plain": [
       "470"
      ]
     },
     "execution_count": 9,
     "metadata": {},
     "output_type": "execute_result"
    }
   ],
   "source": [
    "len(set([i[2] for i in all_tuples]))"
   ]
  },
  {
   "cell_type": "code",
   "execution_count": 10,
   "metadata": {},
   "outputs": [
    {
     "data": {
      "text/plain": [
       "[{'cast_id': 17,\n",
       "  'character': 'Rachel Marron',\n",
       "  'credit_id': '52fe425fc3a36847f801916d',\n",
       "  'gender': 1,\n",
       "  'id': 8851,\n",
       "  'name': 'Whitney Houston',\n",
       "  'order': 0,\n",
       "  'profile_path': '/69ouDnXnmklYPr4sMJXWKYz81AL.jpg'},\n",
       " {'cast_id': 18,\n",
       "  'character': 'Frank Farmer',\n",
       "  'credit_id': '52fe425fc3a36847f8019171',\n",
       "  'gender': 2,\n",
       "  'id': 1269,\n",
       "  'name': 'Kevin Costner',\n",
       "  'order': 1,\n",
       "  'profile_path': '/ePo87kGyyY8JZ3z7Zm7Z2GYdmJ8.jpg'},\n",
       " {'cast_id': 19,\n",
       "  'character': 'Nicki Marron',\n",
       "  'credit_id': '52fe425fc3a36847f8019175',\n",
       "  'gender': 0,\n",
       "  'id': 8852,\n",
       "  'name': 'Michele Lamar Richards',\n",
       "  'order': 2,\n",
       "  'profile_path': '/l06GC3nwCQiDFJ5kkEDy0dqJfkA.jpg'}]"
      ]
     },
     "execution_count": 10,
     "metadata": {},
     "output_type": "execute_result"
    }
   ],
   "source": [
    "ast.literal_eval(train.iloc[2970]['cast'])[:3]"
   ]
  },
  {
   "cell_type": "code",
   "execution_count": 11,
   "metadata": {},
   "outputs": [],
   "source": [
    "# cast_id doesn't seem to be very clear, I need order instead"
   ]
  },
  {
   "cell_type": "code",
   "execution_count": 12,
   "metadata": {},
   "outputs": [],
   "source": [
    "train['cast_expand'] = train['cast'].fillna('[{\"id\":-234,\"name\":\"\",\"order\":-234}]').map(lambda x: [(f['id'],f['name'],f['order']) for f in ast.literal_eval(x)])"
   ]
  },
  {
   "cell_type": "code",
   "execution_count": 13,
   "metadata": {},
   "outputs": [
    {
     "data": {
      "text/plain": [
       "61824"
      ]
     },
     "execution_count": 13,
     "metadata": {},
     "output_type": "execute_result"
    }
   ],
   "source": [
    "all_tuples = []\n",
    "for i in train['cast_expand']:\n",
    "    all_tuples.extend(i)\n",
    "len(all_tuples)"
   ]
  },
  {
   "cell_type": "code",
   "execution_count": 14,
   "metadata": {},
   "outputs": [
    {
     "data": {
      "text/plain": [
       "157"
      ]
     },
     "execution_count": 14,
     "metadata": {},
     "output_type": "execute_result"
    }
   ],
   "source": [
    "len(set([i[2] for i in all_tuples]))"
   ]
  },
  {
   "cell_type": "code",
   "execution_count": 15,
   "metadata": {},
   "outputs": [
    {
     "data": {
      "text/html": [
       "<div>\n",
       "<style scoped>\n",
       "    .dataframe tbody tr th:only-of-type {\n",
       "        vertical-align: middle;\n",
       "    }\n",
       "\n",
       "    .dataframe tbody tr th {\n",
       "        vertical-align: top;\n",
       "    }\n",
       "\n",
       "    .dataframe thead th {\n",
       "        text-align: right;\n",
       "    }\n",
       "</style>\n",
       "<table border=\"1\" class=\"dataframe\">\n",
       "  <thead>\n",
       "    <tr style=\"text-align: right;\">\n",
       "      <th></th>\n",
       "      <th>name</th>\n",
       "    </tr>\n",
       "  </thead>\n",
       "  <tbody>\n",
       "    <tr>\n",
       "      <th>52997</th>\n",
       "      <td>Rob Corddry</td>\n",
       "    </tr>\n",
       "    <tr>\n",
       "      <th>64342</th>\n",
       "      <td>Craig Robinson</td>\n",
       "    </tr>\n",
       "    <tr>\n",
       "      <th>54729</th>\n",
       "      <td>Clark Duke</td>\n",
       "    </tr>\n",
       "    <tr>\n",
       "      <th>36801</th>\n",
       "      <td>Adam Scott</td>\n",
       "    </tr>\n",
       "    <tr>\n",
       "      <th>54812</th>\n",
       "      <td>Chevy Chase</td>\n",
       "    </tr>\n",
       "  </tbody>\n",
       "</table>\n",
       "</div>"
      ],
      "text/plain": [
       "                 name\n",
       "52997     Rob Corddry\n",
       "64342  Craig Robinson\n",
       "54729      Clark Duke\n",
       "36801      Adam Scott\n",
       "54812     Chevy Chase"
      ]
     },
     "execution_count": 15,
     "metadata": {},
     "output_type": "execute_result"
    }
   ],
   "source": [
    "actors = pd.Series(names).to_frame()\n",
    "actors.columns = ['name']\n",
    "actors.head()"
   ]
  },
  {
   "cell_type": "code",
   "execution_count": 16,
   "metadata": {},
   "outputs": [
    {
     "data": {
      "text/html": [
       "<div>\n",
       "<style scoped>\n",
       "    .dataframe tbody tr th:only-of-type {\n",
       "        vertical-align: middle;\n",
       "    }\n",
       "\n",
       "    .dataframe tbody tr th {\n",
       "        vertical-align: top;\n",
       "    }\n",
       "\n",
       "    .dataframe thead th {\n",
       "        text-align: right;\n",
       "    }\n",
       "</style>\n",
       "<table border=\"1\" class=\"dataframe\">\n",
       "  <thead>\n",
       "    <tr style=\"text-align: right;\">\n",
       "      <th></th>\n",
       "      <th>name</th>\n",
       "    </tr>\n",
       "  </thead>\n",
       "  <tbody>\n",
       "    <tr>\n",
       "      <th>62</th>\n",
       "      <td>Bruce Willis</td>\n",
       "    </tr>\n",
       "  </tbody>\n",
       "</table>\n",
       "</div>"
      ],
      "text/plain": [
       "            name\n",
       "62  Bruce Willis"
      ]
     },
     "execution_count": 16,
     "metadata": {},
     "output_type": "execute_result"
    }
   ],
   "source": [
    "# arbitrary choice\n",
    "actors[actors['name'] == 'Bruce Willis']"
   ]
  },
  {
   "cell_type": "code",
   "execution_count": 17,
   "metadata": {},
   "outputs": [
    {
     "data": {
      "text/plain": [
       "110                         Bandits\n",
       "286                           Split\n",
       "388                           Setup\n",
       "434            The Astronaut Farmer\n",
       "506              What Just Happened\n",
       "739                        Sin City\n",
       "900           The Cold Light of Day\n",
       "969                 The Expendables\n",
       "1018                         Looper\n",
       "1180                 Precious Cargo\n",
       "1182              The Fifth Element\n",
       "1251             Look Who's Talking\n",
       "1685                     The Jackal\n",
       "1943            The Whole Ten Yards\n",
       "1994              Last Man Standing\n",
       "2033                      Alpha Dog\n",
       "2182                     Hart's War\n",
       "2233                        Cop Out\n",
       "2273                     The Player\n",
       "2356                    Hudson Hawk\n",
       "2403    The Bonfire of the Vanities\n",
       "2440            Lucky Number Slevin\n",
       "2667           The Whole Nine Yards\n",
       "2736                     Extraction\n",
       "2773                      The Siege\n",
       "Name: title, dtype: object"
      ]
     },
     "execution_count": 17,
     "metadata": {},
     "output_type": "execute_result"
    }
   ],
   "source": [
    "train[train['cast_expand'].map(lambda x: True if 62 in [i[0] for i in x] else False)]['title']"
   ]
  },
  {
   "cell_type": "code",
   "execution_count": 18,
   "metadata": {},
   "outputs": [
    {
     "data": {
      "text/plain": [
       "[(62, 'Bruce Willis', 59)]"
      ]
     },
     "execution_count": 18,
     "metadata": {},
     "output_type": "execute_result"
    }
   ],
   "source": [
    "# Astronaut Farmer doesn't sound familiar\n",
    "[x for x in train.iloc[434]['cast_expand'] if x[0]==62]"
   ]
  },
  {
   "cell_type": "markdown",
   "metadata": {},
   "source": [
    "order 59 is probably a very small role"
   ]
  },
  {
   "cell_type": "code",
   "execution_count": 19,
   "metadata": {},
   "outputs": [],
   "source": [
    "def order_lower_than(ls,ind,order):\n",
    "    # list is the tuple with id, name and order\n",
    "    for i in ls:\n",
    "        if (i[0] == ind):\n",
    "            if (i[2]<order):\n",
    "                return True\n",
    "            else:\n",
    "                return False\n",
    "    # not found at all\n",
    "    return False"
   ]
  },
  {
   "cell_type": "code",
   "execution_count": 20,
   "metadata": {},
   "outputs": [
    {
     "data": {
      "text/plain": [
       "110                         Bandits\n",
       "388                           Setup\n",
       "506              What Just Happened\n",
       "739                        Sin City\n",
       "900           The Cold Light of Day\n",
       "1018                         Looper\n",
       "1180                 Precious Cargo\n",
       "1182              The Fifth Element\n",
       "1251             Look Who's Talking\n",
       "1685                     The Jackal\n",
       "1943            The Whole Ten Yards\n",
       "1994              Last Man Standing\n",
       "2033                      Alpha Dog\n",
       "2182                     Hart's War\n",
       "2233                        Cop Out\n",
       "2356                    Hudson Hawk\n",
       "2403    The Bonfire of the Vanities\n",
       "2440            Lucky Number Slevin\n",
       "2667           The Whole Nine Yards\n",
       "2736                     Extraction\n",
       "2773                      The Siege\n",
       "Name: title, dtype: object"
      ]
     },
     "execution_count": 20,
     "metadata": {},
     "output_type": "execute_result"
    }
   ],
   "source": [
    "train[train['cast_expand'].map(lambda x:order_lower_than(x,62,10))]['title']"
   ]
  },
  {
   "cell_type": "markdown",
   "metadata": {},
   "source": [
    "**Try and find correlation between actor, revenue and order**"
   ]
  },
  {
   "cell_type": "code",
   "execution_count": 21,
   "metadata": {},
   "outputs": [
    {
     "data": {
      "text/plain": [
       "83.66143352"
      ]
     },
     "execution_count": 21,
     "metadata": {},
     "output_type": "execute_result"
    }
   ],
   "source": [
    "train[train['cast_expand'].map(lambda x: True if 62 in [i[0] for i in x] else False)]['revenue'].mean()/MILLION"
   ]
  },
  {
   "cell_type": "code",
   "execution_count": 22,
   "metadata": {},
   "outputs": [
    {
     "data": {
      "image/png": "[encoded data removed]",
      "text/plain": [
       "<Figure size 432x288 with 1 Axes>"
      ]
     },
     "metadata": {
      "needs_background": "light"
     },
     "output_type": "display_data"
    }
   ],
   "source": [
    "averages = []\n",
    "mx = 30\n",
    "for i in range(mx):\n",
    "    ave = train[train['cast_expand'].map(lambda x:order_lower_than(x,62,i))]['revenue'].mean()/MILLION\n",
    "    averages.append(ave)\n",
    "plt.plot(range(mx),averages)\n",
    "plt.show()"
   ]
  },
  {
   "cell_type": "markdown",
   "metadata": {},
   "source": [
    "That is somewhat unexpected, check another famous actor"
   ]
  },
  {
   "cell_type": "code",
   "execution_count": 23,
   "metadata": {},
   "outputs": [
    {
     "data": {
      "text/html": [
       "<div>\n",
       "<style scoped>\n",
       "    .dataframe tbody tr th:only-of-type {\n",
       "        vertical-align: middle;\n",
       "    }\n",
       "\n",
       "    .dataframe tbody tr th {\n",
       "        vertical-align: top;\n",
       "    }\n",
       "\n",
       "    .dataframe thead th {\n",
       "        text-align: right;\n",
       "    }\n",
       "</style>\n",
       "<table border=\"1\" class=\"dataframe\">\n",
       "  <thead>\n",
       "    <tr style=\"text-align: right;\">\n",
       "      <th></th>\n",
       "      <th>name</th>\n",
       "    </tr>\n",
       "  </thead>\n",
       "  <tbody>\n",
       "    <tr>\n",
       "      <th>18918</th>\n",
       "      <td>Dwayne Johnson</td>\n",
       "    </tr>\n",
       "  </tbody>\n",
       "</table>\n",
       "</div>"
      ],
      "text/plain": [
       "                 name\n",
       "18918  Dwayne Johnson"
      ]
     },
     "execution_count": 23,
     "metadata": {},
     "output_type": "execute_result"
    }
   ],
   "source": [
    "actors[actors['name'] == 'Dwayne Johnson']"
   ]
  },
  {
   "cell_type": "code",
   "execution_count": 24,
   "metadata": {},
   "outputs": [
    {
     "data": {
      "image/png": "[encoded data removed]",
      "text/plain": [
       "<Figure size 432x288 with 1 Axes>"
      ]
     },
     "metadata": {
      "needs_background": "light"
     },
     "output_type": "display_data"
    }
   ],
   "source": [
    "actor = 18918\n",
    "averages = []\n",
    "mx = 30\n",
    "for i in range(mx):\n",
    "    ave = train[train['cast_expand'].map(lambda x:order_lower_than(x,actor,i))]['revenue'].mean()/MILLION\n",
    "    averages.append(ave)\n",
    "plt.plot(range(mx),averages)\n",
    "plt.show()"
   ]
  },
  {
   "cell_type": "markdown",
   "metadata": {},
   "source": [
    "Somewhat more expected, but still the start of the curve is surprising"
   ]
  },
  {
   "cell_type": "code",
   "execution_count": 25,
   "metadata": {},
   "outputs": [
    {
     "data": {
      "text/html": [
       "<div>\n",
       "<style scoped>\n",
       "    .dataframe tbody tr th:only-of-type {\n",
       "        vertical-align: middle;\n",
       "    }\n",
       "\n",
       "    .dataframe tbody tr th {\n",
       "        vertical-align: top;\n",
       "    }\n",
       "\n",
       "    .dataframe thead th {\n",
       "        text-align: right;\n",
       "    }\n",
       "</style>\n",
       "<table border=\"1\" class=\"dataframe\">\n",
       "  <thead>\n",
       "    <tr style=\"text-align: right;\">\n",
       "      <th></th>\n",
       "      <th>name</th>\n",
       "    </tr>\n",
       "  </thead>\n",
       "  <tbody>\n",
       "    <tr>\n",
       "      <th>2231</th>\n",
       "      <td>Samuel L. Jackson</td>\n",
       "    </tr>\n",
       "  </tbody>\n",
       "</table>\n",
       "</div>"
      ],
      "text/plain": [
       "                   name\n",
       "2231  Samuel L. Jackson"
      ]
     },
     "execution_count": 25,
     "metadata": {},
     "output_type": "execute_result"
    }
   ],
   "source": [
    "actors[actors['name'] == 'Samuel L. Jackson']"
   ]
  },
  {
   "cell_type": "code",
   "execution_count": 26,
   "metadata": {},
   "outputs": [
    {
     "data": {
      "image/png": "[encoded data removed]",
      "text/plain": [
       "<Figure size 432x288 with 1 Axes>"
      ]
     },
     "metadata": {
      "needs_background": "light"
     },
     "output_type": "display_data"
    }
   ],
   "source": [
    "actor = 2231\n",
    "averages = []\n",
    "mx = 30\n",
    "for i in range(mx):\n",
    "    ave = train[train['cast_expand'].map(lambda x:order_lower_than(x,actor,i))]['revenue'].mean()/MILLION\n",
    "    averages.append(ave)\n",
    "plt.plot(range(mx),averages)\n",
    "plt.show()"
   ]
  },
  {
   "cell_type": "markdown",
   "metadata": {},
   "source": [
    "It appears that on average, the order feature is not very helpful to predict the revenues, per actor"
   ]
  },
  {
   "cell_type": "markdown",
   "metadata": {},
   "source": [
    "**Perhaps this is an indication that successful movies are able to get high paid actors even in small roles?**"
   ]
  },
  {
   "cell_type": "markdown",
   "metadata": {},
   "source": [
    "### Onwards"
   ]
  },
  {
   "cell_type": "code",
   "execution_count": 27,
   "metadata": {},
   "outputs": [],
   "source": [
    "# get the number of movies for each actor"
   ]
  },
  {
   "cell_type": "code",
   "execution_count": 53,
   "metadata": {},
   "outputs": [],
   "source": [
    "counts = []\n",
    "for i in actors.index:\n",
    "    counts.append(train['cast_expand'].map(lambda x:i in [j[0] for j in x]).sum())"
   ]
  },
  {
   "cell_type": "code",
   "execution_count": 56,
   "metadata": {},
   "outputs": [],
   "source": [
    "actors['counts'] = counts"
   ]
  },
  {
   "cell_type": "code",
   "execution_count": 57,
   "metadata": {},
   "outputs": [
    {
     "data": {
      "text/html": [
       "<div>\n",
       "<style scoped>\n",
       "    .dataframe tbody tr th:only-of-type {\n",
       "        vertical-align: middle;\n",
       "    }\n",
       "\n",
       "    .dataframe tbody tr th {\n",
       "        vertical-align: top;\n",
       "    }\n",
       "\n",
       "    .dataframe thead th {\n",
       "        text-align: right;\n",
       "    }\n",
       "</style>\n",
       "<table border=\"1\" class=\"dataframe\">\n",
       "  <thead>\n",
       "    <tr style=\"text-align: right;\">\n",
       "      <th></th>\n",
       "      <th>name</th>\n",
       "      <th>counts</th>\n",
       "    </tr>\n",
       "  </thead>\n",
       "  <tbody>\n",
       "    <tr>\n",
       "      <th>52997</th>\n",
       "      <td>Rob Corddry</td>\n",
       "      <td>5</td>\n",
       "    </tr>\n",
       "    <tr>\n",
       "      <th>64342</th>\n",
       "      <td>Craig Robinson</td>\n",
       "      <td>7</td>\n",
       "    </tr>\n",
       "    <tr>\n",
       "      <th>54729</th>\n",
       "      <td>Clark Duke</td>\n",
       "      <td>6</td>\n",
       "    </tr>\n",
       "    <tr>\n",
       "      <th>36801</th>\n",
       "      <td>Adam Scott</td>\n",
       "      <td>13</td>\n",
       "    </tr>\n",
       "    <tr>\n",
       "      <th>54812</th>\n",
       "      <td>Chevy Chase</td>\n",
       "      <td>8</td>\n",
       "    </tr>\n",
       "  </tbody>\n",
       "</table>\n",
       "</div>"
      ],
      "text/plain": [
       "                 name  counts\n",
       "52997     Rob Corddry       5\n",
       "64342  Craig Robinson       7\n",
       "54729      Clark Duke       6\n",
       "36801      Adam Scott      13\n",
       "54812     Chevy Chase       8"
      ]
     },
     "execution_count": 57,
     "metadata": {},
     "output_type": "execute_result"
    }
   ],
   "source": [
    "actors.head()"
   ]
  },
  {
   "cell_type": "code",
   "execution_count": 61,
   "metadata": {},
   "outputs": [
    {
     "data": {
      "image/png": "[encoded data removed]",
      "text/plain": [
       "<Figure size 432x288 with 1 Axes>"
      ]
     },
     "metadata": {
      "needs_background": "light"
     },
     "output_type": "display_data"
    }
   ],
   "source": [
    "plt.hist(actors['counts'],bins=20)\n",
    "plt.show()"
   ]
  },
  {
   "cell_type": "code",
   "execution_count": 69,
   "metadata": {},
   "outputs": [
    {
     "data": {
      "text/plain": [
       "1     29493\n",
       "2      4880\n",
       "3      1787\n",
       "4       859\n",
       "5       525\n",
       "6       333\n",
       "7       222\n",
       "9       145\n",
       "8       142\n",
       "10       81\n",
       "12       54\n",
       "11       51\n",
       "13       45\n",
       "14       36\n",
       "15       28\n",
       "16       19\n",
       "17       14\n",
       "19       11\n",
       "18        8\n",
       "20        8\n",
       "21        6\n",
       "25        4\n",
       "22        3\n",
       "23        2\n",
       "24        2\n",
       "30        2\n",
       "27        1\n",
       "Name: counts, dtype: int64"
      ]
     },
     "execution_count": 69,
     "metadata": {},
     "output_type": "execute_result"
    }
   ],
   "source": [
    "actors['counts'].value_counts()"
   ]
  },
  {
   "cell_type": "markdown",
   "metadata": {},
   "source": [
    "Find average revenue per actor (only for those with 5 movies or more)"
   ]
  },
  {
   "cell_type": "code",
   "execution_count": 85,
   "metadata": {},
   "outputs": [],
   "source": [
    "revs = {}\n",
    "for i in actors.index:\n",
    "    if (actors.loc[i]['counts']>=5):\n",
    "        revs[i] = (train['revenue'][train['cast_expand'].map(\n",
    "            lambda x:i in [j[0] for j in x])].map(math.log).mean())"
   ]
  },
  {
   "cell_type": "code",
   "execution_count": 94,
   "metadata": {},
   "outputs": [
    {
     "data": {
      "text/html": [
       "<div>\n",
       "<style scoped>\n",
       "    .dataframe tbody tr th:only-of-type {\n",
       "        vertical-align: middle;\n",
       "    }\n",
       "\n",
       "    .dataframe tbody tr th {\n",
       "        vertical-align: top;\n",
       "    }\n",
       "\n",
       "    .dataframe thead th {\n",
       "        text-align: right;\n",
       "    }\n",
       "</style>\n",
       "<table border=\"1\" class=\"dataframe\">\n",
       "  <thead>\n",
       "    <tr style=\"text-align: right;\">\n",
       "      <th></th>\n",
       "      <th>name</th>\n",
       "      <th>counts</th>\n",
       "      <th>revenue</th>\n",
       "    </tr>\n",
       "  </thead>\n",
       "  <tbody>\n",
       "    <tr>\n",
       "      <th>52997</th>\n",
       "      <td>Rob Corddry</td>\n",
       "      <td>5</td>\n",
       "      <td>17.301041</td>\n",
       "    </tr>\n",
       "    <tr>\n",
       "      <th>64342</th>\n",
       "      <td>Craig Robinson</td>\n",
       "      <td>7</td>\n",
       "      <td>16.783682</td>\n",
       "    </tr>\n",
       "    <tr>\n",
       "      <th>54729</th>\n",
       "      <td>Clark Duke</td>\n",
       "      <td>6</td>\n",
       "      <td>17.483381</td>\n",
       "    </tr>\n",
       "    <tr>\n",
       "      <th>36801</th>\n",
       "      <td>Adam Scott</td>\n",
       "      <td>13</td>\n",
       "      <td>16.460071</td>\n",
       "    </tr>\n",
       "    <tr>\n",
       "      <th>54812</th>\n",
       "      <td>Chevy Chase</td>\n",
       "      <td>8</td>\n",
       "      <td>17.201902</td>\n",
       "    </tr>\n",
       "  </tbody>\n",
       "</table>\n",
       "</div>"
      ],
      "text/plain": [
       "                 name  counts    revenue\n",
       "52997     Rob Corddry       5  17.301041\n",
       "64342  Craig Robinson       7  16.783682\n",
       "54729      Clark Duke       6  17.483381\n",
       "36801      Adam Scott      13  16.460071\n",
       "54812     Chevy Chase       8  17.201902"
      ]
     },
     "execution_count": 94,
     "metadata": {},
     "output_type": "execute_result"
    }
   ],
   "source": [
    "actors['revenue'] = actors.index.map(revs)\n",
    "actors.head()"
   ]
  },
  {
   "cell_type": "code",
   "execution_count": 95,
   "metadata": {},
   "outputs": [],
   "source": [
    "actors.to_csv('actors.csv')"
   ]
  }
 ],
 "metadata": {
  "kernelspec": {
   "display_name": "Python 3",
   "language": "python",
   "name": "python3"
  },
  "language_info": {
   "codemirror_mode": {
    "name": "ipython",
    "version": 3
   },
   "file_extension": ".py",
   "mimetype": "text/x-python",
   "name": "python",
   "nbconvert_exporter": "python",
   "pygments_lexer": "ipython3",
   "version": "3.6.7"
  }
 },
 "nbformat": 4,
 "nbformat_minor": 2
}
