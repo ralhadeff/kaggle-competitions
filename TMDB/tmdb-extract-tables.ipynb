{
 "cells": [
  {
   "cell_type": "markdown",
   "metadata": {},
   "source": [
    "# Kaggle - TMDB "
   ]
  },
  {
   "cell_type": "markdown",
   "metadata": {},
   "source": [
    "### Extract tables"
   ]
  },
  {
   "cell_type": "markdown",
   "metadata": {},
   "source": [
    "**Here I will extract data from some of the fields in the raw data (e.g. average revenue by actor) and store it in `.csv` files**"
   ]
  },
  {
   "cell_type": "code",
   "execution_count": 1,
   "metadata": {},
   "outputs": [],
   "source": [
    "import numpy as np\n",
    "import pandas as pd\n",
    "import matplotlib.pyplot as plt\n",
    "import seaborn as sns\n",
    "import ast"
   ]
  },
  {
   "cell_type": "code",
   "execution_count": 2,
   "metadata": {},
   "outputs": [],
   "source": [
    "MILLION = 1000000"
   ]
  },
  {
   "cell_type": "code",
   "execution_count": 3,
   "metadata": {},
   "outputs": [],
   "source": [
    "train = pd.read_csv('train.csv')"
   ]
  },
  {
   "cell_type": "code",
   "execution_count": 4,
   "metadata": {},
   "outputs": [
    {
     "data": {
      "text/plain": [
       "Index(['id', 'belongs_to_collection', 'budget', 'genres', 'homepage',\n",
       "       'imdb_id', 'original_language', 'original_title', 'overview',\n",
       "       'popularity', 'poster_path', 'production_companies',\n",
       "       'production_countries', 'release_date', 'runtime', 'spoken_languages',\n",
       "       'status', 'tagline', 'title', 'Keywords', 'cast', 'crew', 'revenue'],\n",
       "      dtype='object')"
      ]
     },
     "execution_count": 4,
     "metadata": {},
     "output_type": "execute_result"
    }
   ],
   "source": [
    "train.columns"
   ]
  },
  {
   "cell_type": "markdown",
   "metadata": {},
   "source": [
    "### belong_to_collection"
   ]
  },
  {
   "cell_type": "code",
   "execution_count": 5,
   "metadata": {},
   "outputs": [
    {
     "data": {
      "text/plain": [
       "array([1])"
      ]
     },
     "execution_count": 5,
     "metadata": {},
     "output_type": "execute_result"
    }
   ],
   "source": [
    "train[train['belongs_to_collection'].notna()]['belongs_to_collection'].map(lambda x: len(ast.literal_eval(x))).unique()"
   ]
  },
  {
   "cell_type": "markdown",
   "metadata": {},
   "source": [
    "All lists have 1 element"
   ]
  },
  {
   "cell_type": "code",
   "execution_count": 6,
   "metadata": {},
   "outputs": [],
   "source": [
    "dicts = train[train['belongs_to_collection'].notna()]['belongs_to_collection'].map(\n",
    "    lambda x: ast.literal_eval(x)[0]).values"
   ]
  },
  {
   "cell_type": "code",
   "execution_count": 7,
   "metadata": {},
   "outputs": [
    {
     "data": {
      "text/plain": [
       "{'id': 313576,\n",
       " 'name': 'Hot Tub Time Machine Collection',\n",
       " 'poster_path': '/iEhb00TGPucF0b4joM1ieyY026U.jpg',\n",
       " 'backdrop_path': '/noeTVcgpBiD48fDjFVic1Vz7ope.jpg'}"
      ]
     },
     "execution_count": 7,
     "metadata": {},
     "output_type": "execute_result"
    }
   ],
   "source": [
    "dicts[0]"
   ]
  },
  {
   "cell_type": "code",
   "execution_count": 8,
   "metadata": {},
   "outputs": [],
   "source": [
    "# get all collections\n",
    "collections = [d['id'] for d in dicts]"
   ]
  },
  {
   "cell_type": "code",
   "execution_count": 9,
   "metadata": {},
   "outputs": [],
   "source": [
    "uniq,counts = np.unique(np.array(collections),return_counts=True)"
   ]
  },
  {
   "cell_type": "code",
   "execution_count": 10,
   "metadata": {},
   "outputs": [
    {
     "data": {
      "text/plain": [
       "array([ 2,  3,  2,  3,  2,  3,  2,  3,  1,  1,  2,  2,  1,  2,  1, 16,  2,\n",
       "        1,  2,  6,  1,  2,  1,  4,  2,  3,  2,  1,  3,  2,  1,  2,  1,  1,\n",
       "        2,  2,  1,  1,  2,  3,  1,  3,  4,  1,  2,  4,  4,  2,  1,  4,  2,\n",
       "        2,  1,  2,  1,  1,  5,  1,  4,  2,  1,  3,  7,  1,  1,  2,  1,  1,\n",
       "        4,  2,  1,  1,  1,  1,  2,  1,  1,  1,  2,  1,  2,  1,  1,  1,  4,\n",
       "        1,  1,  1,  1,  1,  1,  1,  1,  1,  1,  2,  1,  1,  2,  2,  5,  1,\n",
       "        4,  1,  1,  1,  1,  1,  1,  1,  1,  1,  1,  3,  1,  1,  1,  1,  1,\n",
       "        2,  2,  2,  1,  2,  1,  2,  2,  1,  1,  2,  1,  3,  1,  1,  1,  2,\n",
       "        3,  1,  1,  2,  1,  1,  2,  1,  1,  1,  1,  1,  1,  3,  1,  2,  1,\n",
       "        1,  1,  1,  1,  2,  1,  3,  3,  1,  1,  1,  1,  1,  1,  1,  1,  2,\n",
       "        1,  1,  1,  1,  1,  1,  1,  1,  1,  1,  1,  1,  1,  2,  1,  1,  1,\n",
       "        1,  1,  1,  1,  2,  1,  2,  2,  1,  2,  1,  1,  1,  1,  1,  1,  1,\n",
       "        1,  1,  2,  1,  2,  1,  1,  1,  1,  1,  1,  2,  1,  1,  1,  1,  1,\n",
       "        1,  1,  2,  2,  1,  1,  1,  1,  2,  2,  2,  3,  1,  1,  1,  1,  2,\n",
       "        2,  1,  1,  1,  1,  1,  1,  1,  2,  1,  1,  1,  2,  1,  1,  1,  1,\n",
       "        1,  1,  1,  1,  1,  1,  3,  1,  2,  1,  1,  1,  1,  1,  1,  1,  1,\n",
       "        1,  1,  1,  2,  1,  1,  1,  1,  1,  1,  3,  1,  1,  1,  1,  1,  1,\n",
       "        2,  2,  2,  1,  1,  1,  2,  1,  1,  1,  2,  1,  1,  1,  1,  2,  1,\n",
       "        1,  1,  1,  1,  1,  1,  1,  1,  1,  1,  2,  2,  1,  1,  1,  2,  1,\n",
       "        1,  1,  1,  1,  1,  2,  1,  1,  1,  1,  1,  1,  2,  1,  1,  1,  1,\n",
       "        1,  1,  1,  2,  1,  2,  1,  1,  1,  1,  1,  1,  1,  1,  1,  2,  1,\n",
       "        1,  1,  2,  2,  1,  1,  1,  1,  1,  1,  1,  1,  1,  1,  1,  1,  1,\n",
       "        1,  1,  1,  1,  1,  2,  1,  2,  1,  2,  1,  1,  1,  1,  1,  1,  1,\n",
       "        1,  1,  1,  1,  1,  1,  1,  1,  1,  1,  1,  1,  1,  1,  1,  1,  1,\n",
       "        1,  3,  1,  1,  1,  1,  1,  1,  1,  1,  1,  2,  1,  1])"
      ]
     },
     "execution_count": 10,
     "metadata": {},
     "output_type": "execute_result"
    }
   ],
   "source": [
    "counts"
   ]
  },
  {
   "cell_type": "code",
   "execution_count": 11,
   "metadata": {},
   "outputs": [
    {
     "data": {
      "text/plain": [
       "(1, 328)"
      ]
     },
     "execution_count": 11,
     "metadata": {},
     "output_type": "execute_result"
    }
   ],
   "source": [
    "counts[9], uniq[9]"
   ]
  },
  {
   "cell_type": "code",
   "execution_count": 12,
   "metadata": {},
   "outputs": [
    {
     "data": {
      "text/plain": [
       "[{'id': 328,\n",
       "  'name': 'Jurassic Park Collection',\n",
       "  'poster_path': '/qIm2nHXLpBBdMxi8dvfrnDkBUDh.jpg',\n",
       "  'backdrop_path': '/pJjIH9QN0OkHFV9eue6XfRVnPkr.jpg'}]"
      ]
     },
     "execution_count": 12,
     "metadata": {},
     "output_type": "execute_result"
    }
   ],
   "source": [
    "[d for d in dicts if d['id']==328]"
   ]
  },
  {
   "cell_type": "markdown",
   "metadata": {},
   "source": [
    "Some collections seem to only have 1 item in them. Perhaps the other items are in the test set?"
   ]
  },
  {
   "cell_type": "code",
   "execution_count": 13,
   "metadata": {},
   "outputs": [],
   "source": [
    "test = pd.read_csv('test.csv')"
   ]
  },
  {
   "cell_type": "code",
   "execution_count": 14,
   "metadata": {},
   "outputs": [
    {
     "data": {
      "text/html": [
       "<div>\n",
       "<style scoped>\n",
       "    .dataframe tbody tr th:only-of-type {\n",
       "        vertical-align: middle;\n",
       "    }\n",
       "\n",
       "    .dataframe tbody tr th {\n",
       "        vertical-align: top;\n",
       "    }\n",
       "\n",
       "    .dataframe thead th {\n",
       "        text-align: right;\n",
       "    }\n",
       "</style>\n",
       "<table border=\"1\" class=\"dataframe\">\n",
       "  <thead>\n",
       "    <tr style=\"text-align: right;\">\n",
       "      <th></th>\n",
       "      <th>id</th>\n",
       "      <th>belongs_to_collection</th>\n",
       "      <th>budget</th>\n",
       "      <th>genres</th>\n",
       "      <th>homepage</th>\n",
       "      <th>imdb_id</th>\n",
       "      <th>original_language</th>\n",
       "      <th>original_title</th>\n",
       "      <th>overview</th>\n",
       "      <th>popularity</th>\n",
       "      <th>...</th>\n",
       "      <th>production_countries</th>\n",
       "      <th>release_date</th>\n",
       "      <th>runtime</th>\n",
       "      <th>spoken_languages</th>\n",
       "      <th>status</th>\n",
       "      <th>tagline</th>\n",
       "      <th>title</th>\n",
       "      <th>Keywords</th>\n",
       "      <th>cast</th>\n",
       "      <th>crew</th>\n",
       "    </tr>\n",
       "  </thead>\n",
       "  <tbody>\n",
       "    <tr>\n",
       "      <th>883</th>\n",
       "      <td>3884</td>\n",
       "      <td>[{'id': 328, 'name': 'Jurassic Park Collection...</td>\n",
       "      <td>73000000</td>\n",
       "      <td>[{'id': 12, 'name': 'Adventure'}, {'id': 28, '...</td>\n",
       "      <td>NaN</td>\n",
       "      <td>tt0119567</td>\n",
       "      <td>en</td>\n",
       "      <td>The Lost World: Jurassic Park</td>\n",
       "      <td>Four years after Jurassic Park's genetically b...</td>\n",
       "      <td>0.788123</td>\n",
       "      <td>...</td>\n",
       "      <td>[{'iso_3166_1': 'US', 'name': 'United States o...</td>\n",
       "      <td>5/23/97</td>\n",
       "      <td>129.0</td>\n",
       "      <td>[{'iso_639_1': 'en', 'name': 'English'}]</td>\n",
       "      <td>Released</td>\n",
       "      <td>Something has survived.</td>\n",
       "      <td>The Lost World: Jurassic Park</td>\n",
       "      <td>[{'id': 911, 'name': 'exotic island'}, {'id': ...</td>\n",
       "      <td>[{'cast_id': 1, 'character': 'Dr. Ian Malcolm'...</td>\n",
       "      <td>[{'credit_id': '52fe4238c3a36847f800d3ad', 'de...</td>\n",
       "    </tr>\n",
       "    <tr>\n",
       "      <th>1934</th>\n",
       "      <td>4935</td>\n",
       "      <td>[{'id': 328, 'name': 'Jurassic Park Collection...</td>\n",
       "      <td>150000000</td>\n",
       "      <td>[{'id': 28, 'name': 'Action'}, {'id': 12, 'nam...</td>\n",
       "      <td>http://www.jurassicworld.com/</td>\n",
       "      <td>tt0369610</td>\n",
       "      <td>en</td>\n",
       "      <td>Jurassic World</td>\n",
       "      <td>Twenty-two years after the events of Jurassic ...</td>\n",
       "      <td>32.790475</td>\n",
       "      <td>...</td>\n",
       "      <td>[{'iso_3166_1': 'US', 'name': 'United States o...</td>\n",
       "      <td>6/9/15</td>\n",
       "      <td>124.0</td>\n",
       "      <td>[{'iso_639_1': 'en', 'name': 'English'}]</td>\n",
       "      <td>Released</td>\n",
       "      <td>The park is open.</td>\n",
       "      <td>Jurassic World</td>\n",
       "      <td>[{'id': 1299, 'name': 'monster'}, {'id': 1718,...</td>\n",
       "      <td>NaN</td>\n",
       "      <td>NaN</td>\n",
       "    </tr>\n",
       "    <tr>\n",
       "      <th>4213</th>\n",
       "      <td>7214</td>\n",
       "      <td>[{'id': 328, 'name': 'Jurassic Park Collection...</td>\n",
       "      <td>93000000</td>\n",
       "      <td>[{'id': 12, 'name': 'Adventure'}, {'id': 28, '...</td>\n",
       "      <td>NaN</td>\n",
       "      <td>tt0163025</td>\n",
       "      <td>en</td>\n",
       "      <td>Jurassic Park III</td>\n",
       "      <td>In need of funds for research, Dr. Alan Grant ...</td>\n",
       "      <td>0.648867</td>\n",
       "      <td>...</td>\n",
       "      <td>[{'iso_3166_1': 'US', 'name': 'United States o...</td>\n",
       "      <td>7/18/01</td>\n",
       "      <td>92.0</td>\n",
       "      <td>[{'iso_639_1': 'en', 'name': 'English'}, {'iso...</td>\n",
       "      <td>Released</td>\n",
       "      <td>This time, it's not just a walk in the park!</td>\n",
       "      <td>Jurassic Park III</td>\n",
       "      <td>[{'id': 911, 'name': 'exotic island'}, {'id': ...</td>\n",
       "      <td>[{'cast_id': 1, 'character': 'Dr. Alan Grant',...</td>\n",
       "      <td>[{'credit_id': '52fe4238c3a36847f800d479', 'de...</td>\n",
       "    </tr>\n",
       "  </tbody>\n",
       "</table>\n",
       "<p>3 rows × 22 columns</p>\n",
       "</div>"
      ],
      "text/plain": [
       "        id                              belongs_to_collection     budget  \\\n",
       "883   3884  [{'id': 328, 'name': 'Jurassic Park Collection...   73000000   \n",
       "1934  4935  [{'id': 328, 'name': 'Jurassic Park Collection...  150000000   \n",
       "4213  7214  [{'id': 328, 'name': 'Jurassic Park Collection...   93000000   \n",
       "\n",
       "                                                 genres  \\\n",
       "883   [{'id': 12, 'name': 'Adventure'}, {'id': 28, '...   \n",
       "1934  [{'id': 28, 'name': 'Action'}, {'id': 12, 'nam...   \n",
       "4213  [{'id': 12, 'name': 'Adventure'}, {'id': 28, '...   \n",
       "\n",
       "                           homepage    imdb_id original_language  \\\n",
       "883                             NaN  tt0119567                en   \n",
       "1934  http://www.jurassicworld.com/  tt0369610                en   \n",
       "4213                            NaN  tt0163025                en   \n",
       "\n",
       "                     original_title  \\\n",
       "883   The Lost World: Jurassic Park   \n",
       "1934                 Jurassic World   \n",
       "4213              Jurassic Park III   \n",
       "\n",
       "                                               overview  popularity  \\\n",
       "883   Four years after Jurassic Park's genetically b...    0.788123   \n",
       "1934  Twenty-two years after the events of Jurassic ...   32.790475   \n",
       "4213  In need of funds for research, Dr. Alan Grant ...    0.648867   \n",
       "\n",
       "                            ...                          \\\n",
       "883                         ...                           \n",
       "1934                        ...                           \n",
       "4213                        ...                           \n",
       "\n",
       "                                   production_countries release_date runtime  \\\n",
       "883   [{'iso_3166_1': 'US', 'name': 'United States o...      5/23/97   129.0   \n",
       "1934  [{'iso_3166_1': 'US', 'name': 'United States o...       6/9/15   124.0   \n",
       "4213  [{'iso_3166_1': 'US', 'name': 'United States o...      7/18/01    92.0   \n",
       "\n",
       "                                       spoken_languages    status  \\\n",
       "883            [{'iso_639_1': 'en', 'name': 'English'}]  Released   \n",
       "1934           [{'iso_639_1': 'en', 'name': 'English'}]  Released   \n",
       "4213  [{'iso_639_1': 'en', 'name': 'English'}, {'iso...  Released   \n",
       "\n",
       "                                           tagline  \\\n",
       "883                        Something has survived.   \n",
       "1934                             The park is open.   \n",
       "4213  This time, it's not just a walk in the park!   \n",
       "\n",
       "                              title  \\\n",
       "883   The Lost World: Jurassic Park   \n",
       "1934                 Jurassic World   \n",
       "4213              Jurassic Park III   \n",
       "\n",
       "                                               Keywords  \\\n",
       "883   [{'id': 911, 'name': 'exotic island'}, {'id': ...   \n",
       "1934  [{'id': 1299, 'name': 'monster'}, {'id': 1718,...   \n",
       "4213  [{'id': 911, 'name': 'exotic island'}, {'id': ...   \n",
       "\n",
       "                                                   cast  \\\n",
       "883   [{'cast_id': 1, 'character': 'Dr. Ian Malcolm'...   \n",
       "1934                                                NaN   \n",
       "4213  [{'cast_id': 1, 'character': 'Dr. Alan Grant',...   \n",
       "\n",
       "                                                   crew  \n",
       "883   [{'credit_id': '52fe4238c3a36847f800d3ad', 'de...  \n",
       "1934                                                NaN  \n",
       "4213  [{'credit_id': '52fe4238c3a36847f800d479', 'de...  \n",
       "\n",
       "[3 rows x 22 columns]"
      ]
     },
     "execution_count": 14,
     "metadata": {},
     "output_type": "execute_result"
    }
   ],
   "source": [
    "test[test['belongs_to_collection'].fillna('[{\"id\":-1}]').map(lambda x: (ast.literal_eval(x))[0]['id'])==328]"
   ]
  },
  {
   "cell_type": "markdown",
   "metadata": {},
   "source": [
    "Indeed"
   ]
  },
  {
   "cell_type": "markdown",
   "metadata": {},
   "source": [
    "**I will include collections with only 1 item as well**"
   ]
  },
  {
   "cell_type": "code",
   "execution_count": 15,
   "metadata": {},
   "outputs": [],
   "source": [
    "# get all revenues for each collection"
   ]
  },
  {
   "cell_type": "code",
   "execution_count": 25,
   "metadata": {},
   "outputs": [],
   "source": [
    "revenues = []\n",
    "stdevs = []\n",
    "for collection in uniq:\n",
    "    # select all movies from this collections\n",
    "    revenues.append(train[train['belongs_to_collection'].fillna('[{\"id\":-1}]').map(\n",
    "        lambda x: (ast.literal_eval(x))[0]['id'])==collection]['revenue'].mean())\n",
    "    stdevs.append(train[train['belongs_to_collection'].fillna('[{\"id\":-1}]').map(\n",
    "        lambda x: (ast.literal_eval(x))[0]['id'])==collection]['revenue'].std())"
   ]
  },
  {
   "cell_type": "markdown",
   "metadata": {},
   "source": [
    "check one at random to make sure it was correctly computed"
   ]
  },
  {
   "cell_type": "code",
   "execution_count": 17,
   "metadata": {},
   "outputs": [
    {
     "data": {
      "text/plain": [
       "(10, 12087, 479888)"
      ]
     },
     "execution_count": 17,
     "metadata": {},
     "output_type": "execute_result"
    }
   ],
   "source": [
    "uniq[0], uniq[77],uniq[-1]"
   ]
  },
  {
   "cell_type": "code",
   "execution_count": 18,
   "metadata": {},
   "outputs": [
    {
     "data": {
      "text/html": [
       "<div>\n",
       "<style scoped>\n",
       "    .dataframe tbody tr th:only-of-type {\n",
       "        vertical-align: middle;\n",
       "    }\n",
       "\n",
       "    .dataframe tbody tr th {\n",
       "        vertical-align: top;\n",
       "    }\n",
       "\n",
       "    .dataframe thead th {\n",
       "        text-align: right;\n",
       "    }\n",
       "</style>\n",
       "<table border=\"1\" class=\"dataframe\">\n",
       "  <thead>\n",
       "    <tr style=\"text-align: right;\">\n",
       "      <th></th>\n",
       "      <th>id</th>\n",
       "      <th>belongs_to_collection</th>\n",
       "      <th>budget</th>\n",
       "      <th>genres</th>\n",
       "      <th>homepage</th>\n",
       "      <th>imdb_id</th>\n",
       "      <th>original_language</th>\n",
       "      <th>original_title</th>\n",
       "      <th>overview</th>\n",
       "      <th>popularity</th>\n",
       "      <th>...</th>\n",
       "      <th>release_date</th>\n",
       "      <th>runtime</th>\n",
       "      <th>spoken_languages</th>\n",
       "      <th>status</th>\n",
       "      <th>tagline</th>\n",
       "      <th>title</th>\n",
       "      <th>Keywords</th>\n",
       "      <th>cast</th>\n",
       "      <th>crew</th>\n",
       "      <th>revenue</th>\n",
       "    </tr>\n",
       "  </thead>\n",
       "  <tbody>\n",
       "    <tr>\n",
       "      <th>689</th>\n",
       "      <td>690</td>\n",
       "      <td>[{'id': 10, 'name': 'Star Wars Collection', 'p...</td>\n",
       "      <td>113000000</td>\n",
       "      <td>[{'id': 878, 'name': 'Science Fiction'}, {'id'...</td>\n",
       "      <td>http://www.starwars.com/films/star-wars-episod...</td>\n",
       "      <td>tt0121766</td>\n",
       "      <td>en</td>\n",
       "      <td>Star Wars: Episode III - Revenge of the Sith</td>\n",
       "      <td>Years after the onset of the Clone Wars, the n...</td>\n",
       "      <td>13.165421</td>\n",
       "      <td>...</td>\n",
       "      <td>5/17/05</td>\n",
       "      <td>140.0</td>\n",
       "      <td>[{'iso_639_1': 'en', 'name': 'English'}]</td>\n",
       "      <td>Released</td>\n",
       "      <td>The saga is complete.</td>\n",
       "      <td>Star Wars: Episode III - Revenge of the Sith</td>\n",
       "      <td>[{'id': 797, 'name': 'showdown'}, {'id': 10013...</td>\n",
       "      <td>[{'cast_id': 13, 'character': 'Obi-Wan Kenobi'...</td>\n",
       "      <td>[{'credit_id': '52fe431fc3a36847f803bea3', 'de...</td>\n",
       "      <td>850000000</td>\n",
       "    </tr>\n",
       "    <tr>\n",
       "      <th>1818</th>\n",
       "      <td>1819</td>\n",
       "      <td>[{'id': 10, 'name': 'Star Wars Collection', 'p...</td>\n",
       "      <td>120000000</td>\n",
       "      <td>[{'id': 12, 'name': 'Adventure'}, {'id': 28, '...</td>\n",
       "      <td>http://www.starwars.com/films/star-wars-episod...</td>\n",
       "      <td>tt0121765</td>\n",
       "      <td>en</td>\n",
       "      <td>Star Wars: Episode II - Attack of the Clones</td>\n",
       "      <td>Ten years after the invasion of Naboo, the gal...</td>\n",
       "      <td>14.072511</td>\n",
       "      <td>...</td>\n",
       "      <td>5/15/02</td>\n",
       "      <td>142.0</td>\n",
       "      <td>[{'iso_639_1': 'en', 'name': 'English'}]</td>\n",
       "      <td>Released</td>\n",
       "      <td>A Jedi Shall Not Know Anger. Nor Hatred. Nor L...</td>\n",
       "      <td>Star Wars: Episode II - Attack of the Clones</td>\n",
       "      <td>[{'id': 1399, 'name': 'senate'}, {'id': 5340, ...</td>\n",
       "      <td>[{'cast_id': 7, 'character': 'Obi Wan Kenobi',...</td>\n",
       "      <td>[{'credit_id': '52fe431fc3a36847f803bd8b', 'de...</td>\n",
       "      <td>649398328</td>\n",
       "    </tr>\n",
       "  </tbody>\n",
       "</table>\n",
       "<p>2 rows × 23 columns</p>\n",
       "</div>"
      ],
      "text/plain": [
       "        id                              belongs_to_collection     budget  \\\n",
       "689    690  [{'id': 10, 'name': 'Star Wars Collection', 'p...  113000000   \n",
       "1818  1819  [{'id': 10, 'name': 'Star Wars Collection', 'p...  120000000   \n",
       "\n",
       "                                                 genres  \\\n",
       "689   [{'id': 878, 'name': 'Science Fiction'}, {'id'...   \n",
       "1818  [{'id': 12, 'name': 'Adventure'}, {'id': 28, '...   \n",
       "\n",
       "                                               homepage    imdb_id  \\\n",
       "689   http://www.starwars.com/films/star-wars-episod...  tt0121766   \n",
       "1818  http://www.starwars.com/films/star-wars-episod...  tt0121765   \n",
       "\n",
       "     original_language                                original_title  \\\n",
       "689                 en  Star Wars: Episode III - Revenge of the Sith   \n",
       "1818                en  Star Wars: Episode II - Attack of the Clones   \n",
       "\n",
       "                                               overview  popularity  \\\n",
       "689   Years after the onset of the Clone Wars, the n...   13.165421   \n",
       "1818  Ten years after the invasion of Naboo, the gal...   14.072511   \n",
       "\n",
       "        ...     release_date runtime  \\\n",
       "689     ...          5/17/05   140.0   \n",
       "1818    ...          5/15/02   142.0   \n",
       "\n",
       "                              spoken_languages    status  \\\n",
       "689   [{'iso_639_1': 'en', 'name': 'English'}]  Released   \n",
       "1818  [{'iso_639_1': 'en', 'name': 'English'}]  Released   \n",
       "\n",
       "                                                tagline  \\\n",
       "689                               The saga is complete.   \n",
       "1818  A Jedi Shall Not Know Anger. Nor Hatred. Nor L...   \n",
       "\n",
       "                                             title  \\\n",
       "689   Star Wars: Episode III - Revenge of the Sith   \n",
       "1818  Star Wars: Episode II - Attack of the Clones   \n",
       "\n",
       "                                               Keywords  \\\n",
       "689   [{'id': 797, 'name': 'showdown'}, {'id': 10013...   \n",
       "1818  [{'id': 1399, 'name': 'senate'}, {'id': 5340, ...   \n",
       "\n",
       "                                                   cast  \\\n",
       "689   [{'cast_id': 13, 'character': 'Obi-Wan Kenobi'...   \n",
       "1818  [{'cast_id': 7, 'character': 'Obi Wan Kenobi',...   \n",
       "\n",
       "                                                   crew    revenue  \n",
       "689   [{'credit_id': '52fe431fc3a36847f803bea3', 'de...  850000000  \n",
       "1818  [{'credit_id': '52fe431fc3a36847f803bd8b', 'de...  649398328  \n",
       "\n",
       "[2 rows x 23 columns]"
      ]
     },
     "execution_count": 18,
     "metadata": {},
     "output_type": "execute_result"
    }
   ],
   "source": [
    "train[train['belongs_to_collection'].fillna('[{\"id\":-1}]').map(\n",
    "        lambda x: (ast.literal_eval(x))[0]['id'])==10]"
   ]
  },
  {
   "cell_type": "code",
   "execution_count": 19,
   "metadata": {},
   "outputs": [
    {
     "data": {
      "text/plain": [
       "749.699164"
      ]
     },
     "execution_count": 19,
     "metadata": {},
     "output_type": "execute_result"
    }
   ],
   "source": [
    "(850000000 + 649398328)/2 / MILLION"
   ]
  },
  {
   "cell_type": "code",
   "execution_count": 20,
   "metadata": {},
   "outputs": [
    {
     "data": {
      "text/plain": [
       "749.699164"
      ]
     },
     "execution_count": 20,
     "metadata": {},
     "output_type": "execute_result"
    }
   ],
   "source": [
    "revenues[0] / MILLION"
   ]
  },
  {
   "cell_type": "code",
   "execution_count": 21,
   "metadata": {},
   "outputs": [
    {
     "data": {
      "text/html": [
       "<div>\n",
       "<style scoped>\n",
       "    .dataframe tbody tr th:only-of-type {\n",
       "        vertical-align: middle;\n",
       "    }\n",
       "\n",
       "    .dataframe tbody tr th {\n",
       "        vertical-align: top;\n",
       "    }\n",
       "\n",
       "    .dataframe thead th {\n",
       "        text-align: right;\n",
       "    }\n",
       "</style>\n",
       "<table border=\"1\" class=\"dataframe\">\n",
       "  <thead>\n",
       "    <tr style=\"text-align: right;\">\n",
       "      <th></th>\n",
       "      <th>id</th>\n",
       "      <th>belongs_to_collection</th>\n",
       "      <th>budget</th>\n",
       "      <th>genres</th>\n",
       "      <th>homepage</th>\n",
       "      <th>imdb_id</th>\n",
       "      <th>original_language</th>\n",
       "      <th>original_title</th>\n",
       "      <th>overview</th>\n",
       "      <th>popularity</th>\n",
       "      <th>...</th>\n",
       "      <th>release_date</th>\n",
       "      <th>runtime</th>\n",
       "      <th>spoken_languages</th>\n",
       "      <th>status</th>\n",
       "      <th>tagline</th>\n",
       "      <th>title</th>\n",
       "      <th>Keywords</th>\n",
       "      <th>cast</th>\n",
       "      <th>crew</th>\n",
       "      <th>revenue</th>\n",
       "    </tr>\n",
       "  </thead>\n",
       "  <tbody>\n",
       "    <tr>\n",
       "      <th>1862</th>\n",
       "      <td>1863</td>\n",
       "      <td>[{'id': 12087, 'name': 'Herbie Collection', 'p...</td>\n",
       "      <td>50000000</td>\n",
       "      <td>[{'id': 35, 'name': 'Comedy'}, {'id': 10751, '...</td>\n",
       "      <td>NaN</td>\n",
       "      <td>tt0400497</td>\n",
       "      <td>en</td>\n",
       "      <td>Herbie Fully Loaded</td>\n",
       "      <td>Maggie Peyton, the new owner of Number 53 - th...</td>\n",
       "      <td>9.35239</td>\n",
       "      <td>...</td>\n",
       "      <td>6/22/05</td>\n",
       "      <td>101.0</td>\n",
       "      <td>[{'iso_639_1': 'en', 'name': 'English'}]</td>\n",
       "      <td>Released</td>\n",
       "      <td>Start your engines...</td>\n",
       "      <td>Herbie Fully Loaded</td>\n",
       "      <td>[{'id': 830, 'name': 'car race'}, {'id': 6067,...</td>\n",
       "      <td>[{'cast_id': 1, 'character': 'Maggie Peyton', ...</td>\n",
       "      <td>[{'credit_id': '59620742925141790403a4fe', 'de...</td>\n",
       "      <td>66002004</td>\n",
       "    </tr>\n",
       "  </tbody>\n",
       "</table>\n",
       "<p>1 rows × 23 columns</p>\n",
       "</div>"
      ],
      "text/plain": [
       "        id                              belongs_to_collection    budget  \\\n",
       "1862  1863  [{'id': 12087, 'name': 'Herbie Collection', 'p...  50000000   \n",
       "\n",
       "                                                 genres homepage    imdb_id  \\\n",
       "1862  [{'id': 35, 'name': 'Comedy'}, {'id': 10751, '...      NaN  tt0400497   \n",
       "\n",
       "     original_language       original_title  \\\n",
       "1862                en  Herbie Fully Loaded   \n",
       "\n",
       "                                               overview  popularity    ...     \\\n",
       "1862  Maggie Peyton, the new owner of Number 53 - th...     9.35239    ...      \n",
       "\n",
       "     release_date runtime                          spoken_languages    status  \\\n",
       "1862      6/22/05   101.0  [{'iso_639_1': 'en', 'name': 'English'}]  Released   \n",
       "\n",
       "                    tagline                title  \\\n",
       "1862  Start your engines...  Herbie Fully Loaded   \n",
       "\n",
       "                                               Keywords  \\\n",
       "1862  [{'id': 830, 'name': 'car race'}, {'id': 6067,...   \n",
       "\n",
       "                                                   cast  \\\n",
       "1862  [{'cast_id': 1, 'character': 'Maggie Peyton', ...   \n",
       "\n",
       "                                                   crew   revenue  \n",
       "1862  [{'credit_id': '59620742925141790403a4fe', 'de...  66002004  \n",
       "\n",
       "[1 rows x 23 columns]"
      ]
     },
     "execution_count": 21,
     "metadata": {},
     "output_type": "execute_result"
    }
   ],
   "source": [
    "train[train['belongs_to_collection'].fillna('[{\"id\":-1}]').map(\n",
    "        lambda x: (ast.literal_eval(x))[0]['id'])==12087]"
   ]
  },
  {
   "cell_type": "code",
   "execution_count": 22,
   "metadata": {},
   "outputs": [
    {
     "data": {
      "text/plain": [
       "66002004.0"
      ]
     },
     "execution_count": 22,
     "metadata": {},
     "output_type": "execute_result"
    }
   ],
   "source": [
    "revenues[77]"
   ]
  },
  {
   "cell_type": "code",
   "execution_count": 23,
   "metadata": {},
   "outputs": [
    {
     "data": {
      "text/html": [
       "<div>\n",
       "<style scoped>\n",
       "    .dataframe tbody tr th:only-of-type {\n",
       "        vertical-align: middle;\n",
       "    }\n",
       "\n",
       "    .dataframe tbody tr th {\n",
       "        vertical-align: top;\n",
       "    }\n",
       "\n",
       "    .dataframe thead th {\n",
       "        text-align: right;\n",
       "    }\n",
       "</style>\n",
       "<table border=\"1\" class=\"dataframe\">\n",
       "  <thead>\n",
       "    <tr style=\"text-align: right;\">\n",
       "      <th></th>\n",
       "      <th>id</th>\n",
       "      <th>belongs_to_collection</th>\n",
       "      <th>budget</th>\n",
       "      <th>genres</th>\n",
       "      <th>homepage</th>\n",
       "      <th>imdb_id</th>\n",
       "      <th>original_language</th>\n",
       "      <th>original_title</th>\n",
       "      <th>overview</th>\n",
       "      <th>popularity</th>\n",
       "      <th>...</th>\n",
       "      <th>release_date</th>\n",
       "      <th>runtime</th>\n",
       "      <th>spoken_languages</th>\n",
       "      <th>status</th>\n",
       "      <th>tagline</th>\n",
       "      <th>title</th>\n",
       "      <th>Keywords</th>\n",
       "      <th>cast</th>\n",
       "      <th>crew</th>\n",
       "      <th>revenue</th>\n",
       "    </tr>\n",
       "  </thead>\n",
       "  <tbody>\n",
       "    <tr>\n",
       "      <th>2891</th>\n",
       "      <td>2892</td>\n",
       "      <td>[{'id': 479888, 'name': 'The Thing Collection'...</td>\n",
       "      <td>35000000</td>\n",
       "      <td>[{'id': 27, 'name': 'Horror'}, {'id': 878, 'na...</td>\n",
       "      <td>http://www.uphe.com/movies/the-thing-2011</td>\n",
       "      <td>tt0905372</td>\n",
       "      <td>en</td>\n",
       "      <td>The Thing</td>\n",
       "      <td>When paleontologist Kate Lloyd travels to an i...</td>\n",
       "      <td>10.169411</td>\n",
       "      <td>...</td>\n",
       "      <td>10/12/11</td>\n",
       "      <td>103.0</td>\n",
       "      <td>[{'iso_639_1': 'en', 'name': 'English'}, {'iso...</td>\n",
       "      <td>Released</td>\n",
       "      <td>It's Not Human. Yet.</td>\n",
       "      <td>The Thing</td>\n",
       "      <td>[{'id': 2340, 'name': 'paranoia'}, {'id': 4713...</td>\n",
       "      <td>[{'cast_id': 2, 'character': 'Kate Lloyd', 'cr...</td>\n",
       "      <td>[{'credit_id': '537b713fc3a3682d3c00000e', 'de...</td>\n",
       "      <td>28128670</td>\n",
       "    </tr>\n",
       "  </tbody>\n",
       "</table>\n",
       "<p>1 rows × 23 columns</p>\n",
       "</div>"
      ],
      "text/plain": [
       "        id                              belongs_to_collection    budget  \\\n",
       "2891  2892  [{'id': 479888, 'name': 'The Thing Collection'...  35000000   \n",
       "\n",
       "                                                 genres  \\\n",
       "2891  [{'id': 27, 'name': 'Horror'}, {'id': 878, 'na...   \n",
       "\n",
       "                                       homepage    imdb_id original_language  \\\n",
       "2891  http://www.uphe.com/movies/the-thing-2011  tt0905372                en   \n",
       "\n",
       "     original_title                                           overview  \\\n",
       "2891      The Thing  When paleontologist Kate Lloyd travels to an i...   \n",
       "\n",
       "      popularity    ...    release_date runtime  \\\n",
       "2891   10.169411    ...        10/12/11   103.0   \n",
       "\n",
       "                                       spoken_languages    status  \\\n",
       "2891  [{'iso_639_1': 'en', 'name': 'English'}, {'iso...  Released   \n",
       "\n",
       "                   tagline      title  \\\n",
       "2891  It's Not Human. Yet.  The Thing   \n",
       "\n",
       "                                               Keywords  \\\n",
       "2891  [{'id': 2340, 'name': 'paranoia'}, {'id': 4713...   \n",
       "\n",
       "                                                   cast  \\\n",
       "2891  [{'cast_id': 2, 'character': 'Kate Lloyd', 'cr...   \n",
       "\n",
       "                                                   crew   revenue  \n",
       "2891  [{'credit_id': '537b713fc3a3682d3c00000e', 'de...  28128670  \n",
       "\n",
       "[1 rows x 23 columns]"
      ]
     },
     "execution_count": 23,
     "metadata": {},
     "output_type": "execute_result"
    }
   ],
   "source": [
    "train[train['belongs_to_collection'].fillna('[{\"id\":-1}]').map(\n",
    "        lambda x: (ast.literal_eval(x))[0]['id'])==479888]"
   ]
  },
  {
   "cell_type": "code",
   "execution_count": 24,
   "metadata": {},
   "outputs": [
    {
     "data": {
      "text/plain": [
       "28128670.0"
      ]
     },
     "execution_count": 24,
     "metadata": {},
     "output_type": "execute_result"
    }
   ],
   "source": [
    "revenues[-1]"
   ]
  },
  {
   "cell_type": "code",
   "execution_count": 44,
   "metadata": {},
   "outputs": [
    {
     "data": {
      "text/plain": [
       "141846802.58855957"
      ]
     },
     "execution_count": 44,
     "metadata": {},
     "output_type": "execute_result"
    }
   ],
   "source": [
    "train[train['belongs_to_collection'].fillna('[{\"id\":-1}]').map(\n",
    "        lambda x: (ast.literal_eval(x))[0]['id'])==10]['revenue'].std()"
   ]
  },
  {
   "cell_type": "code",
   "execution_count": 68,
   "metadata": {},
   "outputs": [],
   "source": [
    "sss = [s if s>-float('inf') else 0 for s in stdevs]"
   ]
  },
  {
   "cell_type": "code",
   "execution_count": 71,
   "metadata": {},
   "outputs": [],
   "source": [
    "pd.DataFrame(np.matrix((revenues,sss)).T,index=uniq,columns=['average_revenue','stdev'],dtype=int).to_csv('collections.csv')"
   ]
  },
  {
   "cell_type": "markdown",
   "metadata": {},
   "source": [
    "### genres"
   ]
  },
  {
   "cell_type": "code",
   "execution_count": 9,
   "metadata": {},
   "outputs": [
    {
     "data": {
      "text/plain": [
       "2    972\n",
       "3    900\n",
       "1    593\n",
       "4    393\n",
       "5    111\n",
       "6     21\n",
       "0      7\n",
       "7      3\n",
       "Name: genres, dtype: int64"
      ]
     },
     "execution_count": 9,
     "metadata": {},
     "output_type": "execute_result"
    }
   ],
   "source": [
    "train['genres'].fillna('[]').map(\n",
    "    lambda x: len(ast.literal_eval(x))).value_counts()"
   ]
  },
  {
   "cell_type": "code",
   "execution_count": 70,
   "metadata": {},
   "outputs": [],
   "source": [
    "# get all genre id lists\n",
    "genres_lists = train['genres'].fillna('[]').map(\n",
    "    lambda x: [i['id'] for i in (ast.literal_eval(x))]).values\n",
    "\n",
    "all_genres = []\n",
    "for l in genres_lists:\n",
    "    # add all lists together\n",
    "    all_genres.extend(l)\n",
    "# keep only uniques\n",
    "all_genres = set(all_genres)\n",
    "# convert back to list\n",
    "all_genres = list(all_genres)"
   ]
  },
  {
   "cell_type": "code",
   "execution_count": 71,
   "metadata": {},
   "outputs": [
    {
     "data": {
      "text/plain": [
       "[10752,\n",
       " 10402,\n",
       " 35,\n",
       " 99,\n",
       " 37,\n",
       " 36,\n",
       " 12,\n",
       " 878,\n",
       " 14,\n",
       " 16,\n",
       " 80,\n",
       " 18,\n",
       " 9648,\n",
       " 10769,\n",
       " 53,\n",
       " 10770,\n",
       " 27,\n",
       " 28,\n",
       " 10749,\n",
       " 10751]"
      ]
     },
     "execution_count": 71,
     "metadata": {},
     "output_type": "execute_result"
    }
   ],
   "source": [
    "all_genres"
   ]
  },
  {
   "cell_type": "code",
   "execution_count": 72,
   "metadata": {},
   "outputs": [],
   "source": [
    "# build genres table\n",
    "revenue = []\n",
    "for g in all_genres:\n",
    "    revenue.append(train[train['genres'].fillna('[]').map(\n",
    "        lambda x: g in [i['id'] for i in (ast.literal_eval(x))])]['revenue'].mean())"
   ]
  },
  {
   "cell_type": "code",
   "execution_count": 73,
   "metadata": {},
   "outputs": [
    {
     "data": {
      "text/plain": [
       "{878: 'Science Fiction',\n",
       " 9648: 'Mystery',\n",
       " 27: 'Horror',\n",
       " 16: 'Animation',\n",
       " 80: 'Crime',\n",
       " 10752: 'War',\n",
       " 10769: 'Foreign',\n",
       " 10751: 'Family',\n",
       " 28: 'Action',\n",
       " 14: 'Fantasy',\n",
       " 12: 'Adventure',\n",
       " 10749: 'Romance',\n",
       " 37: 'Western',\n",
       " 36: 'History',\n",
       " 10770: 'TV Movie',\n",
       " 35: 'Comedy',\n",
       " 18: 'Drama',\n",
       " 99: 'Documentary',\n",
       " 53: 'Thriller',\n",
       " 10402: 'Music'}"
      ]
     },
     "execution_count": 73,
     "metadata": {},
     "output_type": "execute_result"
    }
   ],
   "source": [
    "# build names table\n",
    "names = []\n",
    "for i in train['genres'].fillna('[]').map(lambda x: [(i['id'],i['name']) for i in (ast.literal_eval(x))]).values.tolist():\n",
    "    names.extend(i)\n",
    "names = set(names)\n",
    "names = dict(names)\n",
    "names"
   ]
  },
  {
   "cell_type": "code",
   "execution_count": 75,
   "metadata": {},
   "outputs": [],
   "source": [
    "ordered_names = [names[i] for i in all_genres]"
   ]
  },
  {
   "cell_type": "code",
   "execution_count": 85,
   "metadata": {},
   "outputs": [],
   "source": [
    "pd.DataFrame({'name':ordered_names,'revenue':revenue},index=all_genres).to_csv('genres.csv')"
   ]
  }
 ],
 "metadata": {
  "kernelspec": {
   "display_name": "Python 3",
   "language": "python",
   "name": "python3"
  },
  "language_info": {
   "codemirror_mode": {
    "name": "ipython",
    "version": 3
   },
   "file_extension": ".py",
   "mimetype": "text/x-python",
   "name": "python",
   "nbconvert_exporter": "python",
   "pygments_lexer": "ipython3",
   "version": "3.6.7"
  }
 },
 "nbformat": 4,
 "nbformat_minor": 2
}
