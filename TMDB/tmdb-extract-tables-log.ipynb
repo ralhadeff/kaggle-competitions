{
 "cells": [
  {
   "cell_type": "markdown",
   "metadata": {},
   "source": [
    "# Kaggle - TMDB "
   ]
  },
  {
   "cell_type": "markdown",
   "metadata": {},
   "source": [
    "### Extract tables"
   ]
  },
  {
   "cell_type": "markdown",
   "metadata": {},
   "source": [
    "**I decided to use the log of the revenue, and will update the table accordingly**"
   ]
  },
  {
   "cell_type": "code",
   "execution_count": 3,
   "metadata": {},
   "outputs": [],
   "source": [
    "import numpy as np\n",
    "import pandas as pd\n",
    "import matplotlib.pyplot as plt\n",
    "import seaborn as sns\n",
    "import ast\n",
    "import math"
   ]
  },
  {
   "cell_type": "code",
   "execution_count": 4,
   "metadata": {},
   "outputs": [],
   "source": [
    "MILLION = 1000000"
   ]
  },
  {
   "cell_type": "code",
   "execution_count": 5,
   "metadata": {},
   "outputs": [],
   "source": [
    "train = pd.read_csv('train.csv')"
   ]
  },
  {
   "cell_type": "markdown",
   "metadata": {},
   "source": [
    "### belong_to_collection"
   ]
  },
  {
   "cell_type": "code",
   "execution_count": 6,
   "metadata": {},
   "outputs": [],
   "source": [
    "dicts = train[train['belongs_to_collection'].notna()]['belongs_to_collection'].map(\n",
    "    lambda x: ast.literal_eval(x)[0]).values"
   ]
  },
  {
   "cell_type": "code",
   "execution_count": 7,
   "metadata": {},
   "outputs": [],
   "source": [
    "# get all collections\n",
    "collections = [d['id'] for d in dicts]"
   ]
  },
  {
   "cell_type": "code",
   "execution_count": 8,
   "metadata": {},
   "outputs": [],
   "source": [
    "uniq,counts = np.unique(np.array(collections),return_counts=True)"
   ]
  },
  {
   "cell_type": "code",
   "execution_count": 10,
   "metadata": {},
   "outputs": [],
   "source": [
    "# without log:\n",
    "revenues = []\n",
    "for collection in uniq:\n",
    "    # select all movies from this collections\n",
    "    revenues.append(train[train['belongs_to_collection'].fillna('[{\"id\":-1}]').map(\n",
    "        lambda x: (ast.literal_eval(x))[0]['id'])==collection]['revenue'].mean())"
   ]
  },
  {
   "cell_type": "code",
   "execution_count": 14,
   "metadata": {},
   "outputs": [],
   "source": [
    "ave_then_log = np.log(np.array(revenues))"
   ]
  },
  {
   "cell_type": "code",
   "execution_count": 15,
   "metadata": {},
   "outputs": [],
   "source": [
    "revenues = []\n",
    "for collection in uniq:\n",
    "    # select all movies from this collections\n",
    "    revenues.append(train[train['belongs_to_collection'].fillna('[{\"id\":-1}]').map(\n",
    "        lambda x: (ast.literal_eval(x))[0]['id'])==collection]['revenue'].map(math.log).mean())"
   ]
  },
  {
   "cell_type": "code",
   "execution_count": 16,
   "metadata": {},
   "outputs": [],
   "source": [
    "log_then_ave = np.array(revenues)"
   ]
  },
  {
   "cell_type": "code",
   "execution_count": 17,
   "metadata": {},
   "outputs": [
    {
     "data": {
      "text/plain": [
       "<matplotlib.axes._subplots.AxesSubplot at 0x7f3a415eb9e8>"
      ]
     },
     "execution_count": 17,
     "metadata": {},
     "output_type": "execute_result"
    },
    {
     "data": {
      "image/png": "[encoded data removed]",
      "text/plain": [
       "<Figure size 432x288 with 1 Axes>"
      ]
     },
     "metadata": {
      "needs_background": "light"
     },
     "output_type": "display_data"
    }
   ],
   "source": [
    "sns.scatterplot(ave_then_log,log_then_ave)"
   ]
  },
  {
   "cell_type": "markdown",
   "metadata": {},
   "source": [
    "Doesn't make a huge difference, I will try both and see which one works better"
   ]
  },
  {
   "cell_type": "code",
   "execution_count": 22,
   "metadata": {},
   "outputs": [],
   "source": [
    "revs = np.concatenate((log_then_ave,ave_then_log)).reshape(2,len(log_then_ave)).T"
   ]
  },
  {
   "cell_type": "code",
   "execution_count": 24,
   "metadata": {},
   "outputs": [],
   "source": [
    "pd.DataFrame(revs,index=uniq,columns=['average_of_logs','log_of_averages']).to_csv('collections.csv')"
   ]
  },
  {
   "cell_type": "markdown",
   "metadata": {},
   "source": [
    "### genres"
   ]
  },
  {
   "cell_type": "code",
   "execution_count": 25,
   "metadata": {},
   "outputs": [],
   "source": [
    "# get all genre id lists\n",
    "genres_lists = train['genres'].fillna('[]').map(\n",
    "    lambda x: [i['id'] for i in (ast.literal_eval(x))]).values\n",
    "\n",
    "all_genres = []\n",
    "for l in genres_lists:\n",
    "    # add all lists together\n",
    "    all_genres.extend(l)\n",
    "# keep only uniques\n",
    "all_genres = set(all_genres)\n",
    "# convert back to list\n",
    "all_genres = list(all_genres)"
   ]
  },
  {
   "cell_type": "code",
   "execution_count": 27,
   "metadata": {},
   "outputs": [],
   "source": [
    "# build genres table\n",
    "revenue = []\n",
    "for g in all_genres:\n",
    "    revenue.append(train[train['genres'].fillna('[]').map(\n",
    "        lambda x: g in [i['id'] for i in (ast.literal_eval(x))])]['revenue'].map(math.log).mean())"
   ]
  },
  {
   "cell_type": "code",
   "execution_count": 28,
   "metadata": {},
   "outputs": [
    {
     "data": {
      "text/plain": [
       "{80: 'Crime',\n",
       " 10770: 'TV Movie',\n",
       " 53: 'Thriller',\n",
       " 28: 'Action',\n",
       " 18: 'Drama',\n",
       " 10751: 'Family',\n",
       " 9648: 'Mystery',\n",
       " 10752: 'War',\n",
       " 37: 'Western',\n",
       " 16: 'Animation',\n",
       " 35: 'Comedy',\n",
       " 99: 'Documentary',\n",
       " 10402: 'Music',\n",
       " 878: 'Science Fiction',\n",
       " 10749: 'Romance',\n",
       " 12: 'Adventure',\n",
       " 10769: 'Foreign',\n",
       " 36: 'History',\n",
       " 14: 'Fantasy',\n",
       " 27: 'Horror'}"
      ]
     },
     "execution_count": 28,
     "metadata": {},
     "output_type": "execute_result"
    }
   ],
   "source": [
    "# build names table\n",
    "names = []\n",
    "for i in train['genres'].fillna('[]').map(lambda x: [(i['id'],i['name']) for i in (ast.literal_eval(x))]).values.tolist():\n",
    "    names.extend(i)\n",
    "names = set(names)\n",
    "names = dict(names)\n",
    "names"
   ]
  },
  {
   "cell_type": "code",
   "execution_count": 29,
   "metadata": {},
   "outputs": [],
   "source": [
    "ordered_names = [names[i] for i in all_genres]"
   ]
  },
  {
   "cell_type": "code",
   "execution_count": 30,
   "metadata": {},
   "outputs": [],
   "source": [
    "pd.DataFrame({'name':ordered_names,'log_revenue':revenue},index=all_genres).to_csv('genres.csv')"
   ]
  },
  {
   "cell_type": "markdown",
   "metadata": {},
   "source": [
    "### Language"
   ]
  },
  {
   "cell_type": "code",
   "execution_count": 32,
   "metadata": {},
   "outputs": [
    {
     "data": {
      "text/plain": [
       "en    2575\n",
       "fr      78\n",
       "ru      47\n",
       "es      43\n",
       "hi      42\n",
       "ja      37\n",
       "it      24\n",
       "ko      20\n",
       "cn      20\n",
       "zh      19\n",
       "de      18\n",
       "ta      16\n",
       "sv       8\n",
       "nl       6\n",
       "pt       6\n",
       "fa       5\n",
       "da       5\n",
       "ro       4\n",
       "tr       3\n",
       "hu       3\n",
       "ml       2\n",
       "no       2\n",
       "fi       2\n",
       "pl       2\n",
       "te       2\n",
       "vi       1\n",
       "bn       1\n",
       "he       1\n",
       "ur       1\n",
       "nb       1\n",
       "mr       1\n",
       "el       1\n",
       "cs       1\n",
       "sr       1\n",
       "id       1\n",
       "ar       1\n",
       "Name: original_language, dtype: int64"
      ]
     },
     "execution_count": 32,
     "metadata": {},
     "output_type": "execute_result"
    }
   ],
   "source": [
    "train['original_language'].value_counts()"
   ]
  },
  {
   "cell_type": "code",
   "execution_count": 33,
   "metadata": {},
   "outputs": [
    {
     "data": {
      "text/plain": [
       "<matplotlib.axes._subplots.AxesSubplot at 0x7f3a410b3ba8>"
      ]
     },
     "execution_count": 33,
     "metadata": {},
     "output_type": "execute_result"
    },
    {
     "data": {
      "image/png": "[encoded data removed]",
      "text/plain": [
       "<Figure size 432x288 with 1 Axes>"
      ]
     },
     "metadata": {
      "needs_background": "light"
     },
     "output_type": "display_data"
    }
   ],
   "source": [
    "sns.boxplot(x='original_language',y='revenue',data=train[train['original_language']!='en'])"
   ]
  },
  {
   "cell_type": "markdown",
   "metadata": {},
   "source": [
    "It appears that only the languages that have many values are of interest"
   ]
  },
  {
   "cell_type": "code",
   "execution_count": 34,
   "metadata": {},
   "outputs": [],
   "source": [
    "languages = train['original_language'].value_counts()"
   ]
  },
  {
   "cell_type": "code",
   "execution_count": 35,
   "metadata": {},
   "outputs": [
    {
     "name": "stdout",
     "output_type": "stream",
     "text": [
      "en 74\n",
      "fr 17\n",
      "ru 6\n",
      "es 8\n",
      "hi 25\n",
      "ja 30\n",
      "it 16\n",
      "ko 13\n",
      "cn 29\n",
      "zh 70\n",
      "de 20\n",
      "ta 14\n",
      "sv 11\n",
      "nl 1\n",
      "pt 10\n",
      "fa 0\n",
      "da 11\n",
      "ro 0\n",
      "tr 51\n",
      "hu 0\n",
      "ml 1\n",
      "no 1\n",
      "fi 1\n",
      "pl 15\n",
      "te 8\n",
      "vi 0\n",
      "bn 0\n",
      "he 11\n",
      "ur 0\n",
      "nb 4\n",
      "mr 4\n",
      "el 8\n",
      "cs 0\n",
      "sr 0\n",
      "id 2\n",
      "ar 1\n"
     ]
    }
   ],
   "source": [
    "for l in languages.index:\n",
    "    print(l,int(train[train['original_language']==l]['revenue'].mean()/MILLION) )"
   ]
  },
  {
   "cell_type": "code",
   "execution_count": 36,
   "metadata": {},
   "outputs": [
    {
     "data": {
      "text/html": [
       "<div>\n",
       "<style scoped>\n",
       "    .dataframe tbody tr th:only-of-type {\n",
       "        vertical-align: middle;\n",
       "    }\n",
       "\n",
       "    .dataframe tbody tr th {\n",
       "        vertical-align: top;\n",
       "    }\n",
       "\n",
       "    .dataframe thead th {\n",
       "        text-align: right;\n",
       "    }\n",
       "</style>\n",
       "<table border=\"1\" class=\"dataframe\">\n",
       "  <thead>\n",
       "    <tr style=\"text-align: right;\">\n",
       "      <th></th>\n",
       "      <th>id</th>\n",
       "      <th>belongs_to_collection</th>\n",
       "      <th>budget</th>\n",
       "      <th>genres</th>\n",
       "      <th>homepage</th>\n",
       "      <th>imdb_id</th>\n",
       "      <th>original_language</th>\n",
       "      <th>original_title</th>\n",
       "      <th>overview</th>\n",
       "      <th>popularity</th>\n",
       "      <th>...</th>\n",
       "      <th>release_date</th>\n",
       "      <th>runtime</th>\n",
       "      <th>spoken_languages</th>\n",
       "      <th>status</th>\n",
       "      <th>tagline</th>\n",
       "      <th>title</th>\n",
       "      <th>Keywords</th>\n",
       "      <th>cast</th>\n",
       "      <th>crew</th>\n",
       "      <th>revenue</th>\n",
       "    </tr>\n",
       "  </thead>\n",
       "  <tbody>\n",
       "    <tr>\n",
       "      <th>104</th>\n",
       "      <td>105</td>\n",
       "      <td>[{'id': 131989, 'name': 'Recep İvedik Serisi',...</td>\n",
       "      <td>0</td>\n",
       "      <td>[{'id': 35, 'name': 'Comedy'}]</td>\n",
       "      <td>NaN</td>\n",
       "      <td>tt3477064</td>\n",
       "      <td>tr</td>\n",
       "      <td>Recep İvedik 4</td>\n",
       "      <td>Recep Ivedik coaches the children football tea...</td>\n",
       "      <td>1.590383</td>\n",
       "      <td>...</td>\n",
       "      <td>2/20/14</td>\n",
       "      <td>117.0</td>\n",
       "      <td>[{'iso_639_1': 'tr', 'name': 'Türkçe'}]</td>\n",
       "      <td>Released</td>\n",
       "      <td>NaN</td>\n",
       "      <td>Recep İvedik 4</td>\n",
       "      <td>NaN</td>\n",
       "      <td>[{'cast_id': 2, 'character': 'Recep ƒ∞vedik', ...</td>\n",
       "      <td>[{'credit_id': '5349ae000e0a2640b60005d7', 'de...</td>\n",
       "      <td>149521495</td>\n",
       "    </tr>\n",
       "    <tr>\n",
       "      <th>807</th>\n",
       "      <td>808</td>\n",
       "      <td>NaN</td>\n",
       "      <td>0</td>\n",
       "      <td>[{'id': 18, 'name': 'Drama'}, {'id': 80, 'name...</td>\n",
       "      <td>NaN</td>\n",
       "      <td>tt1827487</td>\n",
       "      <td>tr</td>\n",
       "      <td>Bir zamanlar Anadolu'da</td>\n",
       "      <td>A group of men set out in search of a dead bod...</td>\n",
       "      <td>4.433261</td>\n",
       "      <td>...</td>\n",
       "      <td>9/23/11</td>\n",
       "      <td>150.0</td>\n",
       "      <td>[{'iso_639_1': 'tr', 'name': 'Türkçe'}]</td>\n",
       "      <td>Released</td>\n",
       "      <td>NaN</td>\n",
       "      <td>Once Upon a Time in Anatolia</td>\n",
       "      <td>[{'id': 1820, 'name': 'trip'}, {'id': 7172, 'n...</td>\n",
       "      <td>[{'cast_id': 12, 'character': 'Doktor Cemal', ...</td>\n",
       "      <td>[{'credit_id': '52fe48e3c3a368484e110295', 'de...</td>\n",
       "      <td>138730</td>\n",
       "    </tr>\n",
       "    <tr>\n",
       "      <th>2342</th>\n",
       "      <td>2343</td>\n",
       "      <td>[{'id': 131989, 'name': 'Recep İvedik Serisi',...</td>\n",
       "      <td>500000</td>\n",
       "      <td>[{'id': 35, 'name': 'Comedy'}]</td>\n",
       "      <td>NaN</td>\n",
       "      <td>tt1193516</td>\n",
       "      <td>tr</td>\n",
       "      <td>Recep İvedik</td>\n",
       "      <td>Adamƒ±n biri yolda c√ºzdanƒ±nƒ± d√º≈ü√ºr√ºr, b...</td>\n",
       "      <td>1.640271</td>\n",
       "      <td>...</td>\n",
       "      <td>2/22/08</td>\n",
       "      <td>90.0</td>\n",
       "      <td>[{'iso_639_1': 'tr', 'name': 'Türkçe'}]</td>\n",
       "      <td>Released</td>\n",
       "      <td>NaN</td>\n",
       "      <td>Recep İvedik</td>\n",
       "      <td>NaN</td>\n",
       "      <td>[{'cast_id': 4, 'character': 'Recep ƒ∞vedik', ...</td>\n",
       "      <td>[{'credit_id': '52fe445a9251416c9100dc23', 'de...</td>\n",
       "      <td>5330000</td>\n",
       "    </tr>\n",
       "  </tbody>\n",
       "</table>\n",
       "<p>3 rows × 23 columns</p>\n",
       "</div>"
      ],
      "text/plain": [
       "        id                              belongs_to_collection  budget  \\\n",
       "104    105  [{'id': 131989, 'name': 'Recep İvedik Serisi',...       0   \n",
       "807    808                                                NaN       0   \n",
       "2342  2343  [{'id': 131989, 'name': 'Recep İvedik Serisi',...  500000   \n",
       "\n",
       "                                                 genres homepage    imdb_id  \\\n",
       "104                      [{'id': 35, 'name': 'Comedy'}]      NaN  tt3477064   \n",
       "807   [{'id': 18, 'name': 'Drama'}, {'id': 80, 'name...      NaN  tt1827487   \n",
       "2342                     [{'id': 35, 'name': 'Comedy'}]      NaN  tt1193516   \n",
       "\n",
       "     original_language           original_title  \\\n",
       "104                 tr           Recep İvedik 4   \n",
       "807                 tr  Bir zamanlar Anadolu'da   \n",
       "2342                tr             Recep İvedik   \n",
       "\n",
       "                                               overview  popularity  \\\n",
       "104   Recep Ivedik coaches the children football tea...    1.590383   \n",
       "807   A group of men set out in search of a dead bod...    4.433261   \n",
       "2342  Adamƒ±n biri yolda c√ºzdanƒ±nƒ± d√º≈ü√ºr√ºr, b...    1.640271   \n",
       "\n",
       "        ...     release_date runtime                         spoken_languages  \\\n",
       "104     ...          2/20/14   117.0  [{'iso_639_1': 'tr', 'name': 'Türkçe'}]   \n",
       "807     ...          9/23/11   150.0  [{'iso_639_1': 'tr', 'name': 'Türkçe'}]   \n",
       "2342    ...          2/22/08    90.0  [{'iso_639_1': 'tr', 'name': 'Türkçe'}]   \n",
       "\n",
       "        status  tagline                         title  \\\n",
       "104   Released      NaN                Recep İvedik 4   \n",
       "807   Released      NaN  Once Upon a Time in Anatolia   \n",
       "2342  Released      NaN                  Recep İvedik   \n",
       "\n",
       "                                               Keywords  \\\n",
       "104                                                 NaN   \n",
       "807   [{'id': 1820, 'name': 'trip'}, {'id': 7172, 'n...   \n",
       "2342                                                NaN   \n",
       "\n",
       "                                                   cast  \\\n",
       "104   [{'cast_id': 2, 'character': 'Recep ƒ∞vedik', ...   \n",
       "807   [{'cast_id': 12, 'character': 'Doktor Cemal', ...   \n",
       "2342  [{'cast_id': 4, 'character': 'Recep ƒ∞vedik', ...   \n",
       "\n",
       "                                                   crew    revenue  \n",
       "104   [{'credit_id': '5349ae000e0a2640b60005d7', 'de...  149521495  \n",
       "807   [{'credit_id': '52fe48e3c3a368484e110295', 'de...     138730  \n",
       "2342  [{'credit_id': '52fe445a9251416c9100dc23', 'de...    5330000  \n",
       "\n",
       "[3 rows x 23 columns]"
      ]
     },
     "execution_count": 36,
     "metadata": {},
     "output_type": "execute_result"
    }
   ],
   "source": [
    "train[train['original_language']=='tr']"
   ]
  },
  {
   "cell_type": "markdown",
   "metadata": {},
   "source": [
    "This looks quite suspicious and is perhaps a typo in the data"
   ]
  },
  {
   "cell_type": "markdown",
   "metadata": {},
   "source": [
    "**I'll use a dictionary to convert the languages and keep only the popular ones (and use 'other' for the rest)**"
   ]
  },
  {
   "cell_type": "code",
   "execution_count": 37,
   "metadata": {},
   "outputs": [
    {
     "data": {
      "text/plain": [
       "{'en': 'en',\n",
       " 'fr': 'fr',\n",
       " 'ru': 'ru',\n",
       " 'es': 'es',\n",
       " 'hi': 'hi',\n",
       " 'ja': 'ja',\n",
       " 'it': 'it',\n",
       " 'ko': 'ko',\n",
       " 'cn': 'cn',\n",
       " 'zh': 'zh',\n",
       " 'de': 'de',\n",
       " 'ta': 'ta'}"
      ]
     },
     "execution_count": 37,
     "metadata": {},
     "output_type": "execute_result"
    }
   ],
   "source": [
    "dict([(l,l) for l in languages[languages>10].index])"
   ]
  },
  {
   "cell_type": "code",
   "execution_count": 38,
   "metadata": {},
   "outputs": [
    {
     "data": {
      "text/plain": [
       "{'en': 16.201695631547217,\n",
       " 'fr': 13.718204235553607,\n",
       " 'ru': 13.815132182879807,\n",
       " 'es': 14.645970166012837,\n",
       " 'hi': 15.371121660763546,\n",
       " 'ja': 15.818050019285394,\n",
       " 'it': 14.610307296701814,\n",
       " 'ko': 14.561503498231747,\n",
       " 'cn': 15.720496475312752,\n",
       " 'zh': 15.246036823468886,\n",
       " 'de': 14.583008872938295,\n",
       " 'ta': 15.073328869838628}"
      ]
     },
     "execution_count": 38,
     "metadata": {},
     "output_type": "execute_result"
    }
   ],
   "source": [
    "l_rev = []\n",
    "for l in languages[languages>10].index:\n",
    "    l_rev.append((l,train[train['original_language']==l]['revenue'].map(math.log).mean() ))\n",
    "dict(l_rev)"
   ]
  },
  {
   "cell_type": "code",
   "execution_count": 43,
   "metadata": {},
   "outputs": [],
   "source": [
    "others = []\n",
    "for l in languages[languages<=10].index:\n",
    "    others.extend(train[train['original_language']==l]['revenue'].map(math.log).values )"
   ]
  },
  {
   "cell_type": "code",
   "execution_count": 47,
   "metadata": {},
   "outputs": [
    {
     "data": {
      "text/plain": [
       "13.61844005781211"
      ]
     },
     "execution_count": 47,
     "metadata": {},
     "output_type": "execute_result"
    }
   ],
   "source": [
    "np.array(others).mean()"
   ]
  },
  {
   "cell_type": "code",
   "execution_count": null,
   "metadata": {},
   "outputs": [],
   "source": []
  }
 ],
 "metadata": {
  "kernelspec": {
   "display_name": "Python 3",
   "language": "python",
   "name": "python3"
  },
  "language_info": {
   "codemirror_mode": {
    "name": "ipython",
    "version": 3
   },
   "file_extension": ".py",
   "mimetype": "text/x-python",
   "name": "python",
   "nbconvert_exporter": "python",
   "pygments_lexer": "ipython3",
   "version": "3.6.7"
  }
 },
 "nbformat": 4,
 "nbformat_minor": 2
}
