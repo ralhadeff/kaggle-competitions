{
 "cells": [
  {
   "cell_type": "markdown",
   "metadata": {},
   "source": [
    "# Kaggle - TMDB"
   ]
  },
  {
   "cell_type": "code",
   "execution_count": 28,
   "metadata": {},
   "outputs": [],
   "source": [
    "import numpy as np\n",
    "import pandas as pd\n",
    "import matplotlib.pyplot as plt\n",
    "import seaborn as sns\n",
    "import ast\n",
    "import math"
   ]
  },
  {
   "cell_type": "code",
   "execution_count": 2,
   "metadata": {},
   "outputs": [],
   "source": [
    "train = pd.read_csv('train.csv')\n",
    "test = pd.read_csv('test.csv')"
   ]
  },
  {
   "cell_type": "code",
   "execution_count": 3,
   "metadata": {},
   "outputs": [],
   "source": [
    "from sklearn.ensemble import GradientBoostingRegressor\n",
    "\n",
    "from sklearn.model_selection import cross_val_score"
   ]
  },
  {
   "cell_type": "markdown",
   "metadata": {},
   "source": [
    "### Original language"
   ]
  },
  {
   "cell_type": "code",
   "execution_count": 4,
   "metadata": {},
   "outputs": [],
   "source": [
    "l_rev = {'en': 16.201695631547217,\n",
    " 'fr': 13.718204235553607,\n",
    " 'ru': 13.815132182879807,\n",
    " 'es': 14.645970166012837,\n",
    " 'hi': 15.371121660763546,\n",
    " 'ja': 15.818050019285394,\n",
    " 'it': 14.610307296701814,\n",
    " 'ko': 14.561503498231747,\n",
    " 'cn': 15.720496475312752,\n",
    " 'zh': 15.246036823468886,\n",
    " 'de': 14.583008872938295,\n",
    " 'ta': 15.073328869838628}"
   ]
  },
  {
   "cell_type": "code",
   "execution_count": 5,
   "metadata": {},
   "outputs": [],
   "source": [
    "train['l_rev'] = train['original_language'].map(l_rev).fillna(13.61844005781211)"
   ]
  },
  {
   "cell_type": "markdown",
   "metadata": {},
   "source": [
    "### Collection"
   ]
  },
  {
   "cell_type": "code",
   "execution_count": 6,
   "metadata": {},
   "outputs": [],
   "source": [
    "train['coll_id'] = train['belongs_to_collection'].fillna('[{\"id\":0}]').map(lambda x: (ast.literal_eval(x))[0]['id'])"
   ]
  },
  {
   "cell_type": "code",
   "execution_count": 7,
   "metadata": {},
   "outputs": [],
   "source": [
    "colls = pd.read_csv('collections.csv',index_col=0)"
   ]
  },
  {
   "cell_type": "code",
   "execution_count": 8,
   "metadata": {},
   "outputs": [],
   "source": [
    "train['coll_rev_logav'] = train['coll_id'].map(colls['log_of_averages']).fillna(0)"
   ]
  },
  {
   "cell_type": "markdown",
   "metadata": {},
   "source": [
    "### genres"
   ]
  },
  {
   "cell_type": "code",
   "execution_count": 9,
   "metadata": {},
   "outputs": [],
   "source": [
    "genres = pd.read_csv('genres.csv',index_col=0)"
   ]
  },
  {
   "cell_type": "code",
   "execution_count": 14,
   "metadata": {},
   "outputs": [],
   "source": [
    "train['genres_id'] = train['genres'].fillna('[{\"id\":-1}]').map(\n",
    "    lambda x: [i['id'] for i in (ast.literal_eval(x))])"
   ]
  },
  {
   "cell_type": "code",
   "execution_count": 15,
   "metadata": {},
   "outputs": [],
   "source": [
    "gen_rev = dict(genres['log_revenue'])"
   ]
  },
  {
   "cell_type": "code",
   "execution_count": 16,
   "metadata": {},
   "outputs": [],
   "source": [
    "null_mean = train[train['genres'].isnull()]['revenue'].map(math.log).mean()"
   ]
  },
  {
   "cell_type": "code",
   "execution_count": 17,
   "metadata": {},
   "outputs": [],
   "source": [
    "gen_rev[-1] = null_mean"
   ]
  },
  {
   "cell_type": "code",
   "execution_count": 18,
   "metadata": {},
   "outputs": [],
   "source": [
    "train['genre_ave'] = train['genres_id'].map(lambda x: np.array([gen_rev[g] for g in x]).mean())"
   ]
  },
  {
   "cell_type": "markdown",
   "metadata": {},
   "source": [
    "### production company"
   ]
  },
  {
   "cell_type": "code",
   "execution_count": 19,
   "metadata": {},
   "outputs": [],
   "source": [
    "train['production_ids'] = train['production_companies'].fillna('[{\"id\":-123}]').map(\n",
    "    lambda x: [i['id'] for i in (ast.literal_eval(x))])"
   ]
  },
  {
   "cell_type": "code",
   "execution_count": 20,
   "metadata": {},
   "outputs": [],
   "source": [
    "productions = pd.read_csv('production_companies_short.csv',index_col=0)"
   ]
  },
  {
   "cell_type": "code",
   "execution_count": 21,
   "metadata": {},
   "outputs": [],
   "source": [
    "prod_rev = dict(productions['revenue'])"
   ]
  },
  {
   "cell_type": "code",
   "execution_count": 22,
   "metadata": {},
   "outputs": [],
   "source": [
    "train['production_revs'] = train['production_ids'].map(lambda x: ([prod_rev[p] for p in x if p in prod_rev]))"
   ]
  },
  {
   "cell_type": "code",
   "execution_count": 23,
   "metadata": {},
   "outputs": [],
   "source": [
    "train['prod_ave'] = train['production_revs'].map(lambda x: np.array(x).mean() if len(x)>0 else 0)\n",
    "train['prod_top'] = train['production_revs'].map(lambda x: np.array(x).max() if len(x)>0 else 0)"
   ]
  },
  {
   "cell_type": "markdown",
   "metadata": {},
   "source": [
    "### release_date"
   ]
  },
  {
   "cell_type": "code",
   "execution_count": 24,
   "metadata": {},
   "outputs": [],
   "source": [
    "train['month'] = train['release_date'].map(lambda x: (x.split('/'))[0])\n",
    "train['year'] = train['release_date'].map(lambda x: (x.split('/'))[2])\n",
    "train['month'] = train['month'].astype(int)\n",
    "train['year'] = train['year'].astype(int)\n",
    "train['year'] = train['year'].map(lambda x: x+1900 if x>17 else x+2000)"
   ]
  },
  {
   "cell_type": "code",
   "execution_count": 30,
   "metadata": {},
   "outputs": [
    {
     "data": {
      "text/plain": [
       "<matplotlib.axes._subplots.AxesSubplot at 0x7faddbd07630>"
      ]
     },
     "execution_count": 30,
     "metadata": {},
     "output_type": "execute_result"
    },
    {
     "data": {
      "image/png": "[encoded data removed]",
      "text/plain": [
       "<Figure size 432x288 with 1 Axes>"
      ]
     },
     "metadata": {
      "needs_background": "light"
     },
     "output_type": "display_data"
    }
   ],
   "source": [
    "sns.boxplot(y=train['revenue'],x=train['month'])"
   ]
  },
  {
   "cell_type": "code",
   "execution_count": 41,
   "metadata": {},
   "outputs": [],
   "source": [
    "month_rev = dict(np.log(train.groupby(by='month')['revenue'].mean()))"
   ]
  },
  {
   "cell_type": "code",
   "execution_count": 42,
   "metadata": {},
   "outputs": [],
   "source": [
    "train['month_rev'] = train['month'].map(month_rev)"
   ]
  },
  {
   "cell_type": "code",
   "execution_count": 43,
   "metadata": {},
   "outputs": [
    {
     "data": {
      "text/plain": [
       "<matplotlib.collections.PathCollection at 0x7faddb45fdd8>"
      ]
     },
     "execution_count": 43,
     "metadata": {},
     "output_type": "execute_result"
    },
    {
     "data": {
      "image/png": "[encoded data removed]",
      "text/plain": [
       "<Figure size 432x288 with 1 Axes>"
      ]
     },
     "metadata": {
      "needs_background": "light"
     },
     "output_type": "display_data"
    }
   ],
   "source": [
    "plt.scatter(train['month'],train['revenue'])"
   ]
  },
  {
   "cell_type": "code",
   "execution_count": 44,
   "metadata": {},
   "outputs": [
    {
     "data": {
      "text/plain": [
       "<matplotlib.collections.PathCollection at 0x7fadd5732080>"
      ]
     },
     "execution_count": 44,
     "metadata": {},
     "output_type": "execute_result"
    },
    {
     "data": {
      "image/png": "[encoded data removed]",
      "text/plain": [
       "<Figure size 432x288 with 1 Axes>"
      ]
     },
     "metadata": {
      "needs_background": "light"
     },
     "output_type": "display_data"
    }
   ],
   "source": [
    "plt.scatter(train['month_rev'],train['revenue'])"
   ]
  },
  {
   "cell_type": "code",
   "execution_count": 68,
   "metadata": {},
   "outputs": [],
   "source": [
    "month_med = dict(np.log(train.groupby(by='month')['revenue'].median()))"
   ]
  },
  {
   "cell_type": "markdown",
   "metadata": {},
   "source": [
    "### Fitting"
   ]
  },
  {
   "cell_type": "code",
   "execution_count": 45,
   "metadata": {},
   "outputs": [],
   "source": [
    "boost = GradientBoostingRegressor()"
   ]
  },
  {
   "cell_type": "code",
   "execution_count": 46,
   "metadata": {},
   "outputs": [],
   "source": [
    "y = train['revenue'].map(math.log)"
   ]
  },
  {
   "cell_type": "code",
   "execution_count": 47,
   "metadata": {},
   "outputs": [
    {
     "data": {
      "text/plain": [
       "4.096882205764132"
      ]
     },
     "execution_count": 47,
     "metadata": {},
     "output_type": "execute_result"
    }
   ],
   "source": [
    "# best score so far (reference)\n",
    "columns = ['popularity','budget',\n",
    "           'l_rev',\n",
    "           'coll_rev_logav',\n",
    "           'genre_ave',\n",
    "          'prod_top','prod_ave',\n",
    "           'year']\n",
    "\n",
    "X = train[columns]\n",
    "-cross_val_score(boost,X,y,cv=10,scoring='neg_mean_squared_error').mean()"
   ]
  },
  {
   "cell_type": "code",
   "execution_count": 48,
   "metadata": {},
   "outputs": [
    {
     "data": {
      "text/plain": [
       "4.047251448069713"
      ]
     },
     "execution_count": 48,
     "metadata": {},
     "output_type": "execute_result"
    }
   ],
   "source": [
    "# best score so far (reference)\n",
    "columns = ['popularity','budget',\n",
    "           'l_rev',\n",
    "           'coll_rev_logav',\n",
    "           'genre_ave',\n",
    "          'prod_top','prod_ave',\n",
    "           'year','month_rev']\n",
    "\n",
    "X = train[columns]\n",
    "-cross_val_score(boost,X,y,cv=10,scoring='neg_mean_squared_error').mean()"
   ]
  },
  {
   "cell_type": "markdown",
   "metadata": {},
   "source": [
    "### Test set"
   ]
  },
  {
   "cell_type": "code",
   "execution_count": 49,
   "metadata": {},
   "outputs": [],
   "source": [
    "test['l_rev'] = test['original_language'].map(l_rev).fillna(13.61844005781211)"
   ]
  },
  {
   "cell_type": "code",
   "execution_count": 50,
   "metadata": {},
   "outputs": [],
   "source": [
    "test['coll_id'] = test['belongs_to_collection'].fillna('[{\"id\":0}]').map(lambda x: (ast.literal_eval(x))[0]['id'])\n",
    "test['coll_rev_logav'] = test['coll_id'].map(colls['log_of_averages']).fillna(0)"
   ]
  },
  {
   "cell_type": "code",
   "execution_count": 51,
   "metadata": {},
   "outputs": [],
   "source": [
    "test['genres_id'] = test['genres'].fillna('[{\"id\":-1}]').map(lambda x: [i['id'] for i in (ast.literal_eval(x))])\n",
    "test['genre_ave'] = test['genres_id'].map(lambda x: np.array([gen_rev[g] for g in x]).mean())"
   ]
  },
  {
   "cell_type": "code",
   "execution_count": 52,
   "metadata": {},
   "outputs": [],
   "source": [
    "test['production_ids'] = test['production_companies'].fillna('[{\"id\":-123}]').map(\n",
    "    lambda x: [i['id'] for i in (ast.literal_eval(x))])"
   ]
  },
  {
   "cell_type": "code",
   "execution_count": 53,
   "metadata": {},
   "outputs": [],
   "source": [
    "test['production_revs'] = test['production_ids'].map(lambda x: ([prod_rev[p] for p in x if p in prod_rev]))"
   ]
  },
  {
   "cell_type": "code",
   "execution_count": 54,
   "metadata": {},
   "outputs": [],
   "source": [
    "test['prod_ave'] = test['production_revs'].map(lambda x: np.array(x).mean() if len(x)>0 else 0)\n",
    "test['prod_top'] = test['production_revs'].map(lambda x: np.array(x).max() if len(x)>0 else 0)"
   ]
  },
  {
   "cell_type": "code",
   "execution_count": 55,
   "metadata": {},
   "outputs": [],
   "source": [
    "# missing value - I filled with wikipedia info\n",
    "test.loc[828,'release_date'] = '05/01/00'"
   ]
  },
  {
   "cell_type": "code",
   "execution_count": 59,
   "metadata": {},
   "outputs": [],
   "source": [
    "test['month'] = test['release_date'].map(lambda x: (x.split('/'))[0])\n",
    "test['year'] = test['release_date'].map(lambda x: (x.split('/'))[2])\n",
    "test['month'] = test['month'].astype(int)\n",
    "test['year'] = test['year'].astype(int)\n",
    "test['year'] = test['year'].map(lambda x: x+1900 if x>17 else x+2000)\n",
    "test['month_rev'] = test['month'].map(month_rev)"
   ]
  },
  {
   "cell_type": "code",
   "execution_count": 60,
   "metadata": {},
   "outputs": [
    {
     "data": {
      "text/html": [
       "<div>\n",
       "<style scoped>\n",
       "    .dataframe tbody tr th:only-of-type {\n",
       "        vertical-align: middle;\n",
       "    }\n",
       "\n",
       "    .dataframe tbody tr th {\n",
       "        vertical-align: top;\n",
       "    }\n",
       "\n",
       "    .dataframe thead th {\n",
       "        text-align: right;\n",
       "    }\n",
       "</style>\n",
       "<table border=\"1\" class=\"dataframe\">\n",
       "  <thead>\n",
       "    <tr style=\"text-align: right;\">\n",
       "      <th></th>\n",
       "      <th>revenue</th>\n",
       "    </tr>\n",
       "    <tr>\n",
       "      <th>id</th>\n",
       "      <th></th>\n",
       "    </tr>\n",
       "  </thead>\n",
       "  <tbody>\n",
       "    <tr>\n",
       "      <th>3001</th>\n",
       "      <td>1000000</td>\n",
       "    </tr>\n",
       "    <tr>\n",
       "      <th>3002</th>\n",
       "      <td>1000000</td>\n",
       "    </tr>\n",
       "    <tr>\n",
       "      <th>3003</th>\n",
       "      <td>1000000</td>\n",
       "    </tr>\n",
       "    <tr>\n",
       "      <th>3004</th>\n",
       "      <td>1000000</td>\n",
       "    </tr>\n",
       "    <tr>\n",
       "      <th>3005</th>\n",
       "      <td>1000000</td>\n",
       "    </tr>\n",
       "  </tbody>\n",
       "</table>\n",
       "</div>"
      ],
      "text/plain": [
       "      revenue\n",
       "id           \n",
       "3001  1000000\n",
       "3002  1000000\n",
       "3003  1000000\n",
       "3004  1000000\n",
       "3005  1000000"
      ]
     },
     "execution_count": 60,
     "metadata": {},
     "output_type": "execute_result"
    }
   ],
   "source": [
    "submit = pd.read_csv('sample_submission.csv',index_col='id')\n",
    "submit.head()"
   ]
  },
  {
   "cell_type": "code",
   "execution_count": 61,
   "metadata": {},
   "outputs": [],
   "source": [
    "X = train[columns]\n",
    "\n",
    "X_test = test[columns]\n",
    "\n",
    "boost.fit(X,y)\n",
    "pred = boost.predict(X_test)\n",
    "pred = np.exp(pred)\n",
    "submit['revenue'] = pred\n",
    "submit.to_csv('0103-month_rev_ave.csv')"
   ]
  },
  {
   "cell_type": "code",
   "execution_count": 69,
   "metadata": {},
   "outputs": [],
   "source": [
    "train['month_med'] = train['month'].map(month_med)\n",
    "test['month_med'] = test['month'].map(month_med)\n",
    "\n",
    "columns = ['popularity','budget',\n",
    "           'l_rev',\n",
    "           'coll_rev_logav',\n",
    "           'genre_ave',\n",
    "          'prod_top','prod_ave',\n",
    "           'year','month_med']\n",
    "\n",
    "X = train[columns]\n",
    "\n",
    "X_test = test[columns]\n",
    "\n",
    "boost.fit(X,y)\n",
    "pred = boost.predict(X_test)\n",
    "pred = np.exp(pred)\n",
    "submit['revenue'] = pred\n",
    "submit.to_csv('0103-month_rev_med.csv')"
   ]
  },
  {
   "cell_type": "code",
   "execution_count": 71,
   "metadata": {},
   "outputs": [],
   "source": [
    "columns = ['popularity','budget',\n",
    "           'l_rev',\n",
    "           'coll_rev_logav',\n",
    "           'genre_ave',\n",
    "          'prod_top','prod_ave',\n",
    "           'year','month_med','month_rev','month']\n",
    "\n",
    "X = train[columns]\n",
    "\n",
    "X_test = test[columns]\n",
    "\n",
    "boost.fit(X,y)\n",
    "pred = boost.predict(X_test)\n",
    "pred = np.exp(pred)\n",
    "submit['revenue'] = pred\n",
    "submit.to_csv('0103-month_all.csv')"
   ]
  }
 ],
 "metadata": {
  "kernelspec": {
   "display_name": "Python 3",
   "language": "python",
   "name": "python3"
  },
  "language_info": {
   "codemirror_mode": {
    "name": "ipython",
    "version": 3
   },
   "file_extension": ".py",
   "mimetype": "text/x-python",
   "name": "python",
   "nbconvert_exporter": "python",
   "pygments_lexer": "ipython3",
   "version": "3.6.7"
  }
 },
 "nbformat": 4,
 "nbformat_minor": 2
}
