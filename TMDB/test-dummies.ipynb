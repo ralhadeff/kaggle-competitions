{
 "cells": [
  {
   "cell_type": "markdown",
   "metadata": {},
   "source": [
    "# Kaggle - TMDB"
   ]
  },
  {
   "cell_type": "code",
   "execution_count": 1,
   "metadata": {},
   "outputs": [],
   "source": [
    "import numpy as np\n",
    "import pandas as pd\n",
    "import matplotlib.pyplot as plt\n",
    "import seaborn as sns\n",
    "import ast\n",
    "import math"
   ]
  },
  {
   "cell_type": "code",
   "execution_count": 2,
   "metadata": {},
   "outputs": [],
   "source": [
    "train = pd.read_csv('train.csv')\n",
    "test = pd.read_csv('test.csv')"
   ]
  },
  {
   "cell_type": "code",
   "execution_count": 3,
   "metadata": {},
   "outputs": [],
   "source": [
    "from sklearn.ensemble import GradientBoostingRegressor\n",
    "\n",
    "from sklearn.model_selection import cross_val_score"
   ]
  },
  {
   "cell_type": "markdown",
   "metadata": {},
   "source": [
    "### Original language"
   ]
  },
  {
   "cell_type": "code",
   "execution_count": 4,
   "metadata": {},
   "outputs": [],
   "source": [
    "l_rev = {'en': 16.201695631547217,\n",
    " 'fr': 13.718204235553607,\n",
    " 'ru': 13.815132182879807,\n",
    " 'es': 14.645970166012837,\n",
    " 'hi': 15.371121660763546,\n",
    " 'ja': 15.818050019285394,\n",
    " 'it': 14.610307296701814,\n",
    " 'ko': 14.561503498231747,\n",
    " 'cn': 15.720496475312752,\n",
    " 'zh': 15.246036823468886,\n",
    " 'de': 14.583008872938295,\n",
    " 'ta': 15.073328869838628}"
   ]
  },
  {
   "cell_type": "code",
   "execution_count": 5,
   "metadata": {},
   "outputs": [],
   "source": [
    "train['l_rev'] = train['original_language'].map(l_rev).fillna(13.61844005781211)"
   ]
  },
  {
   "cell_type": "code",
   "execution_count": 11,
   "metadata": {},
   "outputs": [],
   "source": [
    "for ll in l_rev.keys():\n",
    "    name = f'langauge_{ll}'\n",
    "    train[name] = train['original_language'].map(lambda x: 1 if x==ll else 0)"
   ]
  },
  {
   "cell_type": "markdown",
   "metadata": {},
   "source": [
    "### Collection"
   ]
  },
  {
   "cell_type": "code",
   "execution_count": 13,
   "metadata": {},
   "outputs": [],
   "source": [
    "train['coll_id'] = train['belongs_to_collection'].fillna('[{\"id\":0}]').map(lambda x: (ast.literal_eval(x))[0]['id'])"
   ]
  },
  {
   "cell_type": "code",
   "execution_count": 14,
   "metadata": {},
   "outputs": [],
   "source": [
    "colls = pd.read_csv('collections.csv',index_col=0)"
   ]
  },
  {
   "cell_type": "code",
   "execution_count": 15,
   "metadata": {},
   "outputs": [],
   "source": [
    "train['coll_rev_logav'] = train['coll_id'].map(colls['log_of_averages']).fillna(0)"
   ]
  },
  {
   "cell_type": "markdown",
   "metadata": {},
   "source": [
    "### genres"
   ]
  },
  {
   "cell_type": "code",
   "execution_count": 17,
   "metadata": {},
   "outputs": [],
   "source": [
    "genres = pd.read_csv('genres.csv',index_col=0)"
   ]
  },
  {
   "cell_type": "code",
   "execution_count": 18,
   "metadata": {},
   "outputs": [],
   "source": [
    "train['genres_id'] = train['genres'].fillna('[{\"id\":-1}]').map(lambda x: [i['id'] for i in (ast.literal_eval(x))])"
   ]
  },
  {
   "cell_type": "code",
   "execution_count": 19,
   "metadata": {},
   "outputs": [],
   "source": [
    "gen_rev = dict(genres['log_revenue'])"
   ]
  },
  {
   "cell_type": "code",
   "execution_count": 20,
   "metadata": {},
   "outputs": [],
   "source": [
    "null_mean = train[train['genres'].isnull()]['revenue'].map(math.log).mean()"
   ]
  },
  {
   "cell_type": "code",
   "execution_count": 21,
   "metadata": {},
   "outputs": [],
   "source": [
    "gen_rev[-1] = null_mean"
   ]
  },
  {
   "cell_type": "code",
   "execution_count": 22,
   "metadata": {},
   "outputs": [],
   "source": [
    "train['genre_ave'] = train['genres_id'].map(lambda x: np.array([gen_rev[g] for g in x]).mean())"
   ]
  },
  {
   "cell_type": "code",
   "execution_count": 25,
   "metadata": {},
   "outputs": [],
   "source": [
    "for gg in gen_rev.keys():\n",
    "    name = f'genre_{gg}'\n",
    "    train[name] = train['genres_id'].map(lambda x: 1 if gg in x else 0)"
   ]
  },
  {
   "cell_type": "markdown",
   "metadata": {},
   "source": [
    "### production company"
   ]
  },
  {
   "cell_type": "code",
   "execution_count": 27,
   "metadata": {},
   "outputs": [],
   "source": [
    "train['production_ids'] = train['production_companies'].fillna('[{\"id\":-123}]').map(\n",
    "    lambda x: [i['id'] for i in (ast.literal_eval(x))])"
   ]
  },
  {
   "cell_type": "code",
   "execution_count": 28,
   "metadata": {},
   "outputs": [
    {
     "data": {
      "text/html": [
       "<div>\n",
       "<style scoped>\n",
       "    .dataframe tbody tr th:only-of-type {\n",
       "        vertical-align: middle;\n",
       "    }\n",
       "\n",
       "    .dataframe tbody tr th {\n",
       "        vertical-align: top;\n",
       "    }\n",
       "\n",
       "    .dataframe thead th {\n",
       "        text-align: right;\n",
       "    }\n",
       "</style>\n",
       "<table border=\"1\" class=\"dataframe\">\n",
       "  <thead>\n",
       "    <tr style=\"text-align: right;\">\n",
       "      <th></th>\n",
       "      <th>revenue</th>\n",
       "      <th>counts</th>\n",
       "      <th>name</th>\n",
       "    </tr>\n",
       "  </thead>\n",
       "  <tbody>\n",
       "    <tr>\n",
       "      <th>4</th>\n",
       "      <td>17.381079</td>\n",
       "      <td>161</td>\n",
       "      <td>Paramount Pictures</td>\n",
       "    </tr>\n",
       "    <tr>\n",
       "      <th>60</th>\n",
       "      <td>17.000037</td>\n",
       "      <td>44</td>\n",
       "      <td>United Artists</td>\n",
       "    </tr>\n",
       "    <tr>\n",
       "      <th>8411</th>\n",
       "      <td>16.413752</td>\n",
       "      <td>84</td>\n",
       "      <td>Metro-Goldwyn-Mayer (MGM)</td>\n",
       "    </tr>\n",
       "    <tr>\n",
       "      <th>2</th>\n",
       "      <td>18.857807</td>\n",
       "      <td>62</td>\n",
       "      <td>Walt Disney Pictures</td>\n",
       "    </tr>\n",
       "    <tr>\n",
       "      <th>3172</th>\n",
       "      <td>18.064469</td>\n",
       "      <td>18</td>\n",
       "      <td>Blumhouse Productions</td>\n",
       "    </tr>\n",
       "  </tbody>\n",
       "</table>\n",
       "</div>"
      ],
      "text/plain": [
       "        revenue  counts                       name\n",
       "4     17.381079     161         Paramount Pictures\n",
       "60    17.000037      44             United Artists\n",
       "8411  16.413752      84  Metro-Goldwyn-Mayer (MGM)\n",
       "2     18.857807      62       Walt Disney Pictures\n",
       "3172  18.064469      18      Blumhouse Productions"
      ]
     },
     "execution_count": 28,
     "metadata": {},
     "output_type": "execute_result"
    }
   ],
   "source": [
    "productions = pd.read_csv('production_companies_short.csv',index_col=0)\n",
    "productions.head()"
   ]
  },
  {
   "cell_type": "code",
   "execution_count": 29,
   "metadata": {},
   "outputs": [],
   "source": [
    "prod_rev = dict(productions['revenue'])"
   ]
  },
  {
   "cell_type": "code",
   "execution_count": 30,
   "metadata": {},
   "outputs": [],
   "source": [
    "train['production_revs'] = train['production_ids'].map(lambda x: ([prod_rev[p] for p in x if p in prod_rev]))"
   ]
  },
  {
   "cell_type": "code",
   "execution_count": 31,
   "metadata": {},
   "outputs": [],
   "source": [
    "train['prod_ave'] = train['production_revs'].map(lambda x: np.array(x).mean() if len(x)>0 else 0)\n",
    "train['prod_top'] = train['production_revs'].map(lambda x: np.array(x).max() if len(x)>0 else 0)"
   ]
  },
  {
   "cell_type": "code",
   "execution_count": 32,
   "metadata": {},
   "outputs": [],
   "source": [
    "for pp in prod_rev.keys():\n",
    "    name = f'production_{pp}'\n",
    "    train[name] = train['production_ids'].map(lambda x: 1 if pp in x else 0)"
   ]
  },
  {
   "cell_type": "markdown",
   "metadata": {},
   "source": [
    "### Fitting"
   ]
  },
  {
   "cell_type": "code",
   "execution_count": 35,
   "metadata": {},
   "outputs": [],
   "source": [
    "boost = GradientBoostingRegressor()"
   ]
  },
  {
   "cell_type": "code",
   "execution_count": 36,
   "metadata": {},
   "outputs": [],
   "source": [
    "y = train['revenue'].map(math.log)"
   ]
  },
  {
   "cell_type": "markdown",
   "metadata": {},
   "source": [
    "### Test set"
   ]
  },
  {
   "cell_type": "code",
   "execution_count": 38,
   "metadata": {},
   "outputs": [],
   "source": [
    "test['l_rev'] = test['original_language'].map(l_rev).fillna(13.61844005781211)"
   ]
  },
  {
   "cell_type": "code",
   "execution_count": 39,
   "metadata": {},
   "outputs": [],
   "source": [
    "test['coll_id'] = test['belongs_to_collection'].fillna('[{\"id\":0}]').map(lambda x: (ast.literal_eval(x))[0]['id'])\n",
    "test['coll_rev_logav'] = test['coll_id'].map(colls['log_of_averages']).fillna(0)"
   ]
  },
  {
   "cell_type": "code",
   "execution_count": 40,
   "metadata": {},
   "outputs": [],
   "source": [
    "test['genres_id'] = test['genres'].fillna('[{\"id\":-1}]').map(lambda x: [i['id'] for i in (ast.literal_eval(x))])\n",
    "test['genre_ave'] = test['genres_id'].map(lambda x: np.array([gen_rev[g] for g in x]).mean())"
   ]
  },
  {
   "cell_type": "code",
   "execution_count": 41,
   "metadata": {},
   "outputs": [],
   "source": [
    "test['production_ids'] = test['production_companies'].fillna('[{\"id\":-123}]').map(\n",
    "    lambda x: [i['id'] for i in (ast.literal_eval(x))])"
   ]
  },
  {
   "cell_type": "code",
   "execution_count": 42,
   "metadata": {},
   "outputs": [],
   "source": [
    "test['production_revs'] = test['production_ids'].map(lambda x: ([prod_rev[p] for p in x if p in prod_rev]))"
   ]
  },
  {
   "cell_type": "code",
   "execution_count": 43,
   "metadata": {},
   "outputs": [],
   "source": [
    "test['prod_ave'] = test['production_revs'].map(lambda x: np.array(x).mean() if len(x)>0 else 0)\n",
    "test['prod_top'] = test['production_revs'].map(lambda x: np.array(x).max() if len(x)>0 else 0)"
   ]
  },
  {
   "cell_type": "code",
   "execution_count": 44,
   "metadata": {},
   "outputs": [],
   "source": [
    "for ll in l_rev.keys():\n",
    "    name = f'langauge_{ll}'\n",
    "    test[name] = test['original_language'].map(lambda x: 1 if x==ll else 0)"
   ]
  },
  {
   "cell_type": "code",
   "execution_count": 56,
   "metadata": {},
   "outputs": [],
   "source": [
    "for gg in gen_rev.keys():\n",
    "    name = f'genre_{gg}'\n",
    "    test[name] = test['genres_id'].map(lambda x: 1 if gg in x else 0)"
   ]
  },
  {
   "cell_type": "code",
   "execution_count": 57,
   "metadata": {},
   "outputs": [],
   "source": [
    "for pp in prod_rev.keys():\n",
    "    name = f'production_{pp}'\n",
    "    test[name] = test['production_ids'].map(lambda x: 1 if pp in x else 0)"
   ]
  },
  {
   "cell_type": "code",
   "execution_count": 46,
   "metadata": {},
   "outputs": [],
   "source": [
    "l_cols = []\n",
    "for ll in l_rev.keys():\n",
    "    name = f'langauge_{ll}'\n",
    "    l_cols.append(name)\n",
    "\n",
    "g_cols = []\n",
    "for gg in gen_rev.keys():\n",
    "    name = f'genre_{gg}'\n",
    "    g_cols.append(name)\n",
    "\n",
    "p_cols = []\n",
    "for pp in prod_rev.keys():\n",
    "    name = f'production_{pp}'\n",
    "    p_cols.append(name)"
   ]
  },
  {
   "cell_type": "code",
   "execution_count": 47,
   "metadata": {},
   "outputs": [
    {
     "data": {
      "text/html": [
       "<div>\n",
       "<style scoped>\n",
       "    .dataframe tbody tr th:only-of-type {\n",
       "        vertical-align: middle;\n",
       "    }\n",
       "\n",
       "    .dataframe tbody tr th {\n",
       "        vertical-align: top;\n",
       "    }\n",
       "\n",
       "    .dataframe thead th {\n",
       "        text-align: right;\n",
       "    }\n",
       "</style>\n",
       "<table border=\"1\" class=\"dataframe\">\n",
       "  <thead>\n",
       "    <tr style=\"text-align: right;\">\n",
       "      <th></th>\n",
       "      <th>revenue</th>\n",
       "    </tr>\n",
       "    <tr>\n",
       "      <th>id</th>\n",
       "      <th></th>\n",
       "    </tr>\n",
       "  </thead>\n",
       "  <tbody>\n",
       "    <tr>\n",
       "      <th>3001</th>\n",
       "      <td>1000000</td>\n",
       "    </tr>\n",
       "    <tr>\n",
       "      <th>3002</th>\n",
       "      <td>1000000</td>\n",
       "    </tr>\n",
       "    <tr>\n",
       "      <th>3003</th>\n",
       "      <td>1000000</td>\n",
       "    </tr>\n",
       "    <tr>\n",
       "      <th>3004</th>\n",
       "      <td>1000000</td>\n",
       "    </tr>\n",
       "    <tr>\n",
       "      <th>3005</th>\n",
       "      <td>1000000</td>\n",
       "    </tr>\n",
       "  </tbody>\n",
       "</table>\n",
       "</div>"
      ],
      "text/plain": [
       "      revenue\n",
       "id           \n",
       "3001  1000000\n",
       "3002  1000000\n",
       "3003  1000000\n",
       "3004  1000000\n",
       "3005  1000000"
      ]
     },
     "execution_count": 47,
     "metadata": {},
     "output_type": "execute_result"
    }
   ],
   "source": [
    "submit = pd.read_csv('sample_submission.csv',index_col='id')\n",
    "submit.head()"
   ]
  },
  {
   "cell_type": "code",
   "execution_count": 51,
   "metadata": {},
   "outputs": [],
   "source": [
    "X = train[['popularity','budget',\n",
    "           'l_rev',\n",
    "           'coll_rev_logav',\n",
    "           'genre_ave',\n",
    "          'prod_top','prod_ave']]\n",
    "\n",
    "X_test = test[['popularity','budget',\n",
    "           'l_rev',\n",
    "           'coll_rev_logav',\n",
    "           'genre_ave',\n",
    "          'prod_top','prod_ave']]"
   ]
  },
  {
   "cell_type": "code",
   "execution_count": 52,
   "metadata": {},
   "outputs": [],
   "source": [
    "boost.fit(X,y)\n",
    "pred = boost.predict(X_test)\n",
    "pred = np.exp(pred)\n",
    "submit['revenue'] = pred\n",
    "submit.to_csv('2402-base.csv')"
   ]
  },
  {
   "cell_type": "code",
   "execution_count": 53,
   "metadata": {},
   "outputs": [],
   "source": [
    "columns = ['popularity','budget',\n",
    "           *l_cols,\n",
    "           'coll_rev_logav',\n",
    "           'genre_ave',\n",
    "          'prod_top','prod_ave']\n",
    "\n",
    "X = train[columns]\n",
    "\n",
    "X_test = test[columns]\n",
    "\n",
    "boost.fit(X,y)\n",
    "pred = boost.predict(X_test)\n",
    "pred = np.exp(pred)\n",
    "submit['revenue'] = pred\n",
    "submit.to_csv('2402-l_dummy.csv')"
   ]
  },
  {
   "cell_type": "code",
   "execution_count": 58,
   "metadata": {},
   "outputs": [],
   "source": [
    "columns = ['popularity','budget',\n",
    "           'l_rev',\n",
    "           'coll_rev_logav',\n",
    "           *g_cols,\n",
    "          'prod_top','prod_ave']\n",
    "\n",
    "X = train[columns]\n",
    "\n",
    "X_test = test[columns]\n",
    "\n",
    "boost.fit(X,y)\n",
    "pred = boost.predict(X_test)\n",
    "pred = np.exp(pred)\n",
    "submit['revenue'] = pred\n",
    "submit.to_csv('2402-g_dummy.csv')"
   ]
  },
  {
   "cell_type": "code",
   "execution_count": 59,
   "metadata": {},
   "outputs": [],
   "source": [
    "columns = ['popularity','budget',\n",
    "           'l_rev',\n",
    "           'coll_rev_logav',\n",
    "           'genre_ave',\n",
    "          *p_cols]\n",
    "\n",
    "X = train[columns]\n",
    "\n",
    "X_test = test[columns]\n",
    "\n",
    "boost.fit(X,y)\n",
    "pred = boost.predict(X_test)\n",
    "pred = np.exp(pred)\n",
    "submit['revenue'] = pred\n",
    "submit.to_csv('2402-p_dummy.csv')"
   ]
  },
  {
   "cell_type": "code",
   "execution_count": null,
   "metadata": {},
   "outputs": [],
   "source": []
  }
 ],
 "metadata": {
  "kernelspec": {
   "display_name": "Python 3",
   "language": "python",
   "name": "python3"
  },
  "language_info": {
   "codemirror_mode": {
    "name": "ipython",
    "version": 3
   },
   "file_extension": ".py",
   "mimetype": "text/x-python",
   "name": "python",
   "nbconvert_exporter": "python",
   "pygments_lexer": "ipython3",
   "version": "3.6.7"
  }
 },
 "nbformat": 4,
 "nbformat_minor": 2
}
