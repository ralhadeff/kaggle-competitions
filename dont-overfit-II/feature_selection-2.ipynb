{
 "cells": [
  {
   "cell_type": "markdown",
   "metadata": {},
   "source": [
    "# Kaggle: Don't Overfit! II"
   ]
  },
  {
   "cell_type": "markdown",
   "metadata": {},
   "source": [
    "**Continuation of the feature_selection process**"
   ]
  },
  {
   "cell_type": "code",
   "execution_count": 1,
   "metadata": {},
   "outputs": [],
   "source": [
    "import numpy as np\n",
    "import pandas as pd\n",
    "import seaborn as sns\n",
    "import matplotlib.pyplot as plt"
   ]
  },
  {
   "cell_type": "markdown",
   "metadata": {},
   "source": [
    "### Data preparation"
   ]
  },
  {
   "cell_type": "code",
   "execution_count": 2,
   "metadata": {},
   "outputs": [],
   "source": [
    "train = pd.read_csv('train.csv')"
   ]
  },
  {
   "cell_type": "code",
   "execution_count": 3,
   "metadata": {},
   "outputs": [],
   "source": [
    "X = train.drop(['id','target'],axis=1).values\n",
    "y = train['target'].values"
   ]
  },
  {
   "cell_type": "code",
   "execution_count": 4,
   "metadata": {},
   "outputs": [],
   "source": [
    "from sklearn.model_selection import train_test_split"
   ]
  },
  {
   "cell_type": "code",
   "execution_count": 5,
   "metadata": {},
   "outputs": [],
   "source": [
    "X_train, X_test, y_train, y_test = train_test_split(X, y, test_size=0.2, random_state=42)"
   ]
  },
  {
   "cell_type": "code",
   "execution_count": 6,
   "metadata": {},
   "outputs": [],
   "source": [
    "from sklearn.ensemble import GradientBoostingClassifier"
   ]
  },
  {
   "cell_type": "code",
   "execution_count": 7,
   "metadata": {},
   "outputs": [],
   "source": [
    "boost = GradientBoostingClassifier()"
   ]
  },
  {
   "cell_type": "markdown",
   "metadata": {},
   "source": [
    "### Previously highlighted features:"
   ]
  },
  {
   "cell_type": "markdown",
   "metadata": {},
   "source": [
    "Last command line:"
   ]
  },
  {
   "cell_type": "raw",
   "metadata": {},
   "source": [
    "r,i = find_good_features(boost,X_train,y_train,10000,10,5,0.12)"
   ]
  },
  {
   "cell_type": "code",
   "execution_count": 23,
   "metadata": {},
   "outputs": [],
   "source": [
    "highest = [ 33,  65,  91, 189, 116,  82, 201, 220,  39, 117, 123,   4, 231,\n",
    "       228, 217, 119, 225,  76, 150,  63,  38, 234, 221,  24, 199,  32,\n",
    "       165, 266, 227, 114,  30, 101, 108, 183,  14, 295, 133, 288,   9,\n",
    "       214, 241,  69,  16, 276,  84,  86,  89,  87,  83,  92]"
   ]
  },
  {
   "cell_type": "code",
   "execution_count": 24,
   "metadata": {},
   "outputs": [],
   "source": [
    "ranked_best_weighted = [ 33,  65,  91, 117,  24,   4, 189, 116,  48, 228,  39, 201,  82,\n",
    "       217,  76, 133, 183, 231, 225,  80, 227, 123, 295,  38,  16, 150,\n",
    "       119, 220,  63, 165, 194, 132, 234,  43, 266, 258,  30, 268, 214,\n",
    "        89, 134, 147, 113, 241, 221, 276,  32,  13,  52, 298, 199, 108,\n",
    "        92, 120, 215, 137, 180,  14, 101, 160, 245, 285,  90,  77, 230,\n",
    "       209, 272, 280,  26, 237, 259, 296,  66, 288, 205,  58, 235,  18,\n",
    "       256, 129, 240,   9,  29,  73,   6, 155, 244, 126, 164, 100, 130,\n",
    "       277, 253,  70, 239,  50, 281, 279, 193, 185]"
   ]
  },
  {
   "cell_type": "markdown",
   "metadata": {},
   "source": [
    "I will try to see, using all these features, the performance and the contribution of each, using my feature selection tool"
   ]
  },
  {
   "cell_type": "code",
   "execution_count": 11,
   "metadata": {},
   "outputs": [],
   "source": [
    "from feature_tester import FeatureTester"
   ]
  },
  {
   "cell_type": "code",
   "execution_count": 12,
   "metadata": {},
   "outputs": [],
   "source": [
    "ft = FeatureTester(train,test_size=0.2, random_seed=42)"
   ]
  },
  {
   "cell_type": "code",
   "execution_count": 14,
   "metadata": {},
   "outputs": [],
   "source": [
    "ft.add_estimator(boost,'Gboost')"
   ]
  },
  {
   "cell_type": "code",
   "execution_count": 15,
   "metadata": {},
   "outputs": [],
   "source": [
    "ft.add_feature('33')"
   ]
  },
  {
   "cell_type": "code",
   "execution_count": 18,
   "metadata": {},
   "outputs": [],
   "source": [
    "ft.set_y('target')"
   ]
  },
  {
   "cell_type": "code",
   "execution_count": 19,
   "metadata": {},
   "outputs": [
    {
     "data": {
      "text/plain": [
       "array([['Gboost', '0.605']], dtype='<U32')"
      ]
     },
     "execution_count": 19,
     "metadata": {},
     "output_type": "execute_result"
    }
   ],
   "source": [
    "ft.fit(False)"
   ]
  },
  {
   "cell_type": "code",
   "execution_count": 26,
   "metadata": {},
   "outputs": [],
   "source": [
    "all_features = list(set(highest)|set(ranked_best_weighted))"
   ]
  },
  {
   "cell_type": "code",
   "execution_count": 28,
   "metadata": {},
   "outputs": [
    {
     "data": {
      "text/plain": [
       "106"
      ]
     },
     "execution_count": 28,
     "metadata": {},
     "output_type": "execute_result"
    }
   ],
   "source": [
    "len(all_features)"
   ]
  },
  {
   "cell_type": "code",
   "execution_count": 30,
   "metadata": {},
   "outputs": [],
   "source": [
    "ft = FeatureTester(train,test_size=0.2, random_seed=42)\n",
    "ft.add_estimator(boost,'Gboost')\n",
    "ft.set_y('target')"
   ]
  },
  {
   "cell_type": "code",
   "execution_count": 31,
   "metadata": {},
   "outputs": [
    {
     "data": {
      "text/plain": [
       "array([['Gboost', '0.74']], dtype='<U32')"
      ]
     },
     "execution_count": 31,
     "metadata": {},
     "output_type": "execute_result"
    }
   ],
   "source": [
    "for i in all_features:\n",
    "    ft.add_feature(str(i))\n",
    "ft.fit(False)"
   ]
  },
  {
   "cell_type": "markdown",
   "metadata": {},
   "source": [
    "Score each feature and remove those that don't seem to help"
   ]
  },
  {
   "cell_type": "code",
   "execution_count": 33,
   "metadata": {},
   "outputs": [
    {
     "name": "stdout",
     "output_type": "stream",
     "text": [
      "4\n",
      "[['Gboost' '0.03']]\n",
      "6\n",
      "[['Gboost' '0.02']]\n",
      "9\n",
      "[['Gboost' '0.005']]\n",
      "13\n",
      "[['Gboost' '0.01']]\n",
      "14\n",
      "[['Gboost' '0.01']]\n",
      "16\n",
      "[['Gboost' '0.01']]\n",
      "18\n",
      "[['Gboost' '-0.005']]\n",
      "24\n",
      "[['Gboost' '0.015']]\n",
      "26\n",
      "[['Gboost' '0.015']]\n",
      "29\n",
      "[['Gboost' '0.02']]\n",
      "30\n",
      "[['Gboost' '0.005']]\n",
      "32\n",
      "[['Gboost' '-0.01']]\n",
      "33\n",
      "[['Gboost' '0.035']]\n",
      "38\n",
      "[['Gboost' '0.015']]\n",
      "39\n",
      "[['Gboost' '-0.005']]\n",
      "43\n",
      "[['Gboost' '0.025']]\n",
      "48\n",
      "[['Gboost' '0.005']]\n",
      "50\n",
      "[['Gboost' '0.01']]\n",
      "52\n",
      "[['Gboost' '-0.005']]\n",
      "58\n",
      "[['Gboost' '0.02']]\n",
      "63\n",
      "[['Gboost' '0.025']]\n",
      "65\n",
      "[['Gboost' '0.03']]\n",
      "66\n",
      "[['Gboost' '0.015']]\n",
      "69\n",
      "[['Gboost' '0.01']]\n",
      "70\n",
      "[['Gboost' '0.04']]\n",
      "73\n",
      "[['Gboost' '0.005']]\n",
      "76\n",
      "[['Gboost' '0.03']]\n",
      "77\n",
      "[['Gboost' '0.0']]\n",
      "80\n",
      "[['Gboost' '-0.015']]\n",
      "82\n",
      "[['Gboost' '0.02']]\n",
      "83\n",
      "[['Gboost' '0.0']]\n",
      "84\n",
      "[['Gboost' '0.005']]\n",
      "86\n",
      "[['Gboost' '0.005']]\n",
      "87\n",
      "[['Gboost' '0.02']]\n",
      "89\n",
      "[['Gboost' '0.02']]\n",
      "90\n",
      "[['Gboost' '0.005']]\n",
      "91\n",
      "[['Gboost' '0.045']]\n",
      "92\n",
      "[['Gboost' '0.025']]\n",
      "100\n",
      "[['Gboost' '0.015']]\n",
      "101\n",
      "[['Gboost' '-0.005']]\n",
      "108\n",
      "[['Gboost' '0.015']]\n",
      "113\n",
      "[['Gboost' '0.0']]\n",
      "114\n",
      "[['Gboost' '0.005']]\n",
      "116\n",
      "[['Gboost' '0.0']]\n",
      "117\n",
      "[['Gboost' '0.035']]\n",
      "119\n",
      "[['Gboost' '0.0']]\n",
      "120\n",
      "[['Gboost' '0.02']]\n",
      "123\n",
      "[['Gboost' '0.02']]\n",
      "126\n",
      "[['Gboost' '0.01']]\n",
      "129\n",
      "[['Gboost' '-0.005']]\n",
      "130\n",
      "[['Gboost' '0.005']]\n",
      "132\n",
      "[['Gboost' '-0.015']]\n",
      "133\n",
      "[['Gboost' '-0.005']]\n",
      "134\n",
      "[['Gboost' '0.01']]\n",
      "137\n",
      "[['Gboost' '0.02']]\n",
      "147\n",
      "[['Gboost' '0.005']]\n",
      "150\n",
      "[['Gboost' '-0.005']]\n",
      "155\n",
      "[['Gboost' '0.01']]\n",
      "160\n",
      "[['Gboost' '-0.01']]\n",
      "164\n",
      "[['Gboost' '-0.005']]\n",
      "165\n",
      "[['Gboost' '0.02']]\n",
      "180\n",
      "[['Gboost' '0.005']]\n",
      "183\n",
      "[['Gboost' '0.02']]\n",
      "185\n",
      "[['Gboost' '0.02']]\n",
      "189\n",
      "[['Gboost' '0.015']]\n",
      "193\n",
      "[['Gboost' '0.015']]\n",
      "194\n",
      "[['Gboost' '0.01']]\n",
      "199\n",
      "[['Gboost' '0.015']]\n",
      "201\n",
      "[['Gboost' '0.03']]\n",
      "205\n",
      "[['Gboost' '0.0']]\n",
      "209\n",
      "[['Gboost' '0.025']]\n",
      "214\n",
      "[['Gboost' '0.02']]\n",
      "215\n",
      "[['Gboost' '0.015']]\n",
      "217\n",
      "[['Gboost' '0.015']]\n",
      "220\n",
      "[['Gboost' '0.045']]\n",
      "221\n",
      "[['Gboost' '0.005']]\n",
      "225\n",
      "[['Gboost' '0.005']]\n",
      "227\n",
      "[['Gboost' '0.02']]\n",
      "228\n",
      "[['Gboost' '0.01']]\n",
      "230\n",
      "[['Gboost' '0.02']]\n",
      "231\n",
      "[['Gboost' '0.01']]\n",
      "234\n",
      "[['Gboost' '0.01']]\n",
      "235\n",
      "[['Gboost' '-0.005']]\n",
      "237\n",
      "[['Gboost' '0.015']]\n",
      "239\n",
      "[['Gboost' '0.0']]\n",
      "240\n",
      "[['Gboost' '0.015']]\n",
      "241\n",
      "[['Gboost' '-0.005']]\n",
      "244\n",
      "[['Gboost' '0.02']]\n",
      "245\n",
      "[['Gboost' '0.01']]\n",
      "253\n",
      "[['Gboost' '0.005']]\n",
      "256\n",
      "[['Gboost' '0.015']]\n",
      "258\n",
      "[['Gboost' '0.0']]\n",
      "259\n",
      "[['Gboost' '0.0']]\n",
      "266\n",
      "[['Gboost' '0.0']]\n",
      "268\n",
      "[['Gboost' '0.02']]\n",
      "272\n",
      "[['Gboost' '0.01']]\n",
      "276\n",
      "[['Gboost' '-0.015']]\n",
      "277\n",
      "[['Gboost' '0.01']]\n",
      "279\n",
      "[['Gboost' '0.005']]\n",
      "280\n",
      "[['Gboost' '0.005']]\n",
      "281\n",
      "[['Gboost' '0.02']]\n",
      "285\n",
      "[['Gboost' '0.01']]\n",
      "288\n",
      "[['Gboost' '0.025']]\n",
      "295\n",
      "[['Gboost' '0.025']]\n",
      "296\n",
      "[['Gboost' '0.01']]\n",
      "298\n",
      "[['Gboost' '0.01']]\n"
     ]
    }
   ],
   "source": [
    "ft.score_all_features()"
   ]
  },
  {
   "cell_type": "code",
   "execution_count": 34,
   "metadata": {},
   "outputs": [],
   "source": [
    "to_remove = [18,32,39,52,77,80,101,113,116,119, 129, 132, 133, 150, 160, 164, 205, 235, 239, 241, 258, 259, 266, 276]"
   ]
  },
  {
   "cell_type": "code",
   "execution_count": 35,
   "metadata": {},
   "outputs": [],
   "source": [
    "for i in to_remove:\n",
    "    ft.remove_feature(str(i))"
   ]
  },
  {
   "cell_type": "code",
   "execution_count": 36,
   "metadata": {},
   "outputs": [
    {
     "data": {
      "text/plain": [
       "array([['Gboost', '0.725']], dtype='<U32')"
      ]
     },
     "execution_count": 36,
     "metadata": {},
     "output_type": "execute_result"
    }
   ],
   "source": [
    "ft.fit(False)"
   ]
  },
  {
   "cell_type": "code",
   "execution_count": 37,
   "metadata": {},
   "outputs": [
    {
     "name": "stdout",
     "output_type": "stream",
     "text": [
      "4\n",
      "[['Gboost' '0.03']]\n",
      "6\n",
      "[['Gboost' '0.015']]\n",
      "9\n",
      "[['Gboost' '0.035']]\n",
      "13\n",
      "[['Gboost' '0.025']]\n",
      "14\n",
      "[['Gboost' '0.03']]\n",
      "16\n",
      "[['Gboost' '0.025']]\n",
      "24\n",
      "[['Gboost' '-0.005']]\n",
      "26\n",
      "[['Gboost' '0.025']]\n",
      "29\n",
      "[['Gboost' '0.0']]\n",
      "30\n",
      "[['Gboost' '-0.01']]\n",
      "33\n",
      "[['Gboost' '0.01']]\n",
      "38\n",
      "[['Gboost' '0.02']]\n",
      "43\n",
      "[['Gboost' '0.01']]\n",
      "48\n",
      "[['Gboost' '0.035']]\n",
      "50\n",
      "[['Gboost' '0.01']]\n",
      "58\n",
      "[['Gboost' '0.02']]\n",
      "63\n",
      "[['Gboost' '0.015']]\n",
      "65\n",
      "[['Gboost' '0.02']]\n",
      "66\n",
      "[['Gboost' '-0.01']]\n",
      "69\n",
      "[['Gboost' '0.005']]\n",
      "70\n",
      "[['Gboost' '0.0']]\n",
      "73\n",
      "[['Gboost' '-0.01']]\n",
      "76\n",
      "[['Gboost' '0.015']]\n",
      "82\n",
      "[['Gboost' '0.0']]\n",
      "83\n",
      "[['Gboost' '0.01']]\n",
      "84\n",
      "[['Gboost' '0.025']]\n",
      "86\n",
      "[['Gboost' '0.01']]\n",
      "87\n",
      "[['Gboost' '0.005']]\n",
      "89\n",
      "[['Gboost' '0.02']]\n",
      "90\n",
      "[['Gboost' '0.02']]\n",
      "91\n",
      "[['Gboost' '0.015']]\n",
      "92\n",
      "[['Gboost' '-0.005']]\n",
      "100\n",
      "[['Gboost' '0.03']]\n",
      "108\n",
      "[['Gboost' '-0.005']]\n",
      "114\n",
      "[['Gboost' '0.025']]\n",
      "117\n",
      "[['Gboost' '0.025']]\n",
      "120\n",
      "[['Gboost' '0.005']]\n",
      "123\n",
      "[['Gboost' '0.02']]\n",
      "126\n",
      "[['Gboost' '0.01']]\n",
      "130\n",
      "[['Gboost' '0.025']]\n",
      "134\n",
      "[['Gboost' '0.03']]\n",
      "137\n",
      "[['Gboost' '0.02']]\n",
      "147\n",
      "[['Gboost' '0.03']]\n",
      "155\n",
      "[['Gboost' '0.015']]\n",
      "165\n",
      "[['Gboost' '0.015']]\n",
      "180\n",
      "[['Gboost' '0.03']]\n",
      "183\n",
      "[['Gboost' '0.04']]\n",
      "185\n",
      "[['Gboost' '0.025']]\n",
      "189\n",
      "[['Gboost' '0.01']]\n",
      "193\n",
      "[['Gboost' '0.015']]\n",
      "194\n",
      "[['Gboost' '0.02']]\n",
      "199\n",
      "[['Gboost' '0.02']]\n",
      "201\n",
      "[['Gboost' '0.03']]\n",
      "209\n",
      "[['Gboost' '0.03']]\n",
      "214\n",
      "[['Gboost' '0.015']]\n",
      "215\n",
      "[['Gboost' '-0.005']]\n",
      "217\n",
      "[['Gboost' '0.02']]\n",
      "220\n",
      "[['Gboost' '0.015']]\n",
      "221\n",
      "[['Gboost' '0.015']]\n",
      "225\n",
      "[['Gboost' '0.025']]\n",
      "227\n",
      "[['Gboost' '0.01']]\n",
      "228\n",
      "[['Gboost' '0.01']]\n",
      "230\n",
      "[['Gboost' '0.015']]\n",
      "231\n",
      "[['Gboost' '-0.02']]\n",
      "234\n",
      "[['Gboost' '0.025']]\n",
      "237\n",
      "[['Gboost' '0.02']]\n",
      "240\n",
      "[['Gboost' '0.005']]\n",
      "244\n",
      "[['Gboost' '0.01']]\n",
      "245\n",
      "[['Gboost' '-0.005']]\n",
      "253\n",
      "[['Gboost' '0.02']]\n",
      "256\n",
      "[['Gboost' '0.015']]\n",
      "268\n",
      "[['Gboost' '0.005']]\n",
      "272\n",
      "[['Gboost' '0.025']]\n",
      "277\n",
      "[['Gboost' '0.025']]\n",
      "279\n",
      "[['Gboost' '0.02']]\n",
      "280\n",
      "[['Gboost' '-0.015']]\n",
      "281\n",
      "[['Gboost' '0.02']]\n",
      "285\n",
      "[['Gboost' '0.02']]\n",
      "288\n",
      "[['Gboost' '0.0']]\n",
      "295\n",
      "[['Gboost' '0.02']]\n",
      "296\n",
      "[['Gboost' '0.005']]\n",
      "298\n",
      "[['Gboost' '0.045']]\n"
     ]
    }
   ],
   "source": [
    "ft.score_all_features()"
   ]
  },
  {
   "cell_type": "code",
   "execution_count": 38,
   "metadata": {},
   "outputs": [],
   "source": [
    "to_remove_2 = [24,29,30,66,70,73,82,92,108,215,231,245,280,288]"
   ]
  },
  {
   "cell_type": "code",
   "execution_count": 39,
   "metadata": {},
   "outputs": [],
   "source": [
    "for i in to_remove_2:\n",
    "    ft.remove_feature(str(i))"
   ]
  },
  {
   "cell_type": "code",
   "execution_count": 40,
   "metadata": {},
   "outputs": [
    {
     "data": {
      "text/plain": [
       "array([['Gboost', '0.74']], dtype='<U32')"
      ]
     },
     "execution_count": 40,
     "metadata": {},
     "output_type": "execute_result"
    }
   ],
   "source": [
    "ft.fit(False)"
   ]
  },
  {
   "cell_type": "code",
   "execution_count": 41,
   "metadata": {},
   "outputs": [
    {
     "name": "stdout",
     "output_type": "stream",
     "text": [
      "4\n",
      "[['Gboost' '0.005']]\n",
      "6\n",
      "[['Gboost' '0.015']]\n",
      "9\n",
      "[['Gboost' '0.04']]\n",
      "13\n",
      "[['Gboost' '0.015']]\n",
      "14\n",
      "[['Gboost' '0.005']]\n",
      "16\n",
      "[['Gboost' '0.035']]\n",
      "26\n",
      "[['Gboost' '0.015']]\n",
      "33\n",
      "[['Gboost' '0.06']]\n",
      "38\n",
      "[['Gboost' '-0.005']]\n",
      "43\n",
      "[['Gboost' '0.015']]\n",
      "48\n",
      "[['Gboost' '0.05']]\n",
      "50\n",
      "[['Gboost' '0.025']]\n",
      "58\n",
      "[['Gboost' '0.03']]\n",
      "63\n",
      "[['Gboost' '0.015']]\n",
      "65\n",
      "[['Gboost' '0.03']]\n",
      "69\n",
      "[['Gboost' '0.005']]\n",
      "76\n",
      "[['Gboost' '0.0']]\n",
      "83\n",
      "[['Gboost' '0.01']]\n",
      "84\n",
      "[['Gboost' '0.0']]\n",
      "86\n",
      "[['Gboost' '0.03']]\n",
      "87\n",
      "[['Gboost' '0.005']]\n",
      "89\n",
      "[['Gboost' '0.0']]\n",
      "90\n",
      "[['Gboost' '0.025']]\n",
      "91\n",
      "[['Gboost' '0.025']]\n",
      "100\n",
      "[['Gboost' '0.035']]\n",
      "114\n",
      "[['Gboost' '0.01']]\n",
      "117\n",
      "[['Gboost' '0.04']]\n",
      "120\n",
      "[['Gboost' '0.035']]\n",
      "123\n",
      "[['Gboost' '0.0']]\n",
      "126\n",
      "[['Gboost' '0.005']]\n",
      "130\n",
      "[['Gboost' '0.035']]\n",
      "134\n",
      "[['Gboost' '0.03']]\n",
      "137\n",
      "[['Gboost' '0.065']]\n",
      "147\n",
      "[['Gboost' '0.03']]\n",
      "155\n",
      "[['Gboost' '0.01']]\n",
      "165\n",
      "[['Gboost' '0.045']]\n",
      "180\n",
      "[['Gboost' '0.025']]\n",
      "183\n",
      "[['Gboost' '0.03']]\n",
      "185\n",
      "[['Gboost' '0.0']]\n",
      "189\n",
      "[['Gboost' '0.03']]\n",
      "193\n",
      "[['Gboost' '0.0']]\n",
      "194\n",
      "[['Gboost' '0.01']]\n",
      "199\n",
      "[['Gboost' '0.06']]\n",
      "201\n",
      "[['Gboost' '0.02']]\n",
      "209\n",
      "[['Gboost' '0.02']]\n",
      "214\n",
      "[['Gboost' '-0.005']]\n",
      "217\n",
      "[['Gboost' '0.02']]\n",
      "220\n",
      "[['Gboost' '0.01']]\n",
      "221\n",
      "[['Gboost' '0.035']]\n",
      "225\n",
      "[['Gboost' '0.01']]\n",
      "227\n",
      "[['Gboost' '0.035']]\n",
      "228\n",
      "[['Gboost' '0.015']]\n",
      "230\n",
      "[['Gboost' '0.025']]\n",
      "234\n",
      "[['Gboost' '0.03']]\n",
      "237\n",
      "[['Gboost' '0.03']]\n",
      "240\n",
      "[['Gboost' '0.025']]\n",
      "244\n",
      "[['Gboost' '0.015']]\n",
      "253\n",
      "[['Gboost' '0.025']]\n",
      "256\n",
      "[['Gboost' '0.02']]\n",
      "268\n",
      "[['Gboost' '-0.01']]\n",
      "272\n",
      "[['Gboost' '0.025']]\n",
      "277\n",
      "[['Gboost' '0.03']]\n",
      "279\n",
      "[['Gboost' '0.015']]\n",
      "281\n",
      "[['Gboost' '0.02']]\n",
      "285\n",
      "[['Gboost' '-0.005']]\n",
      "295\n",
      "[['Gboost' '0.02']]\n",
      "296\n",
      "[['Gboost' '0.025']]\n",
      "298\n",
      "[['Gboost' '0.005']]\n"
     ]
    }
   ],
   "source": [
    "ft.score_all_features()"
   ]
  },
  {
   "cell_type": "code",
   "execution_count": 42,
   "metadata": {},
   "outputs": [
    {
     "data": {
      "text/plain": [
       "array([['Gboost', '0.755']], dtype='<U32')"
      ]
     },
     "execution_count": 42,
     "metadata": {},
     "output_type": "execute_result"
    }
   ],
   "source": [
    "r3 = [38,76, 84, 89, 123,185,193,214,268,285]\n",
    "for i in r3:\n",
    "    ft.remove_feature(str(i))\n",
    "ft.fit(False)"
   ]
  },
  {
   "cell_type": "code",
   "execution_count": 43,
   "metadata": {},
   "outputs": [
    {
     "name": "stdout",
     "output_type": "stream",
     "text": [
      "4\n",
      "[['Gboost' '0.06']]\n",
      "6\n",
      "[['Gboost' '0.005']]\n",
      "9\n",
      "[['Gboost' '0.02']]\n",
      "13\n",
      "[['Gboost' '0.0']]\n",
      "14\n",
      "[['Gboost' '0.005']]\n",
      "16\n",
      "[['Gboost' '0.03']]\n",
      "26\n",
      "[['Gboost' '0.01']]\n",
      "33\n",
      "[['Gboost' '0.08']]\n",
      "43\n",
      "[['Gboost' '0.03']]\n",
      "48\n",
      "[['Gboost' '0.06']]\n",
      "50\n",
      "[['Gboost' '0.025']]\n",
      "58\n",
      "[['Gboost' '0.045']]\n",
      "63\n",
      "[['Gboost' '-0.005']]\n",
      "65\n",
      "[['Gboost' '0.08']]\n",
      "69\n",
      "[['Gboost' '0.005']]\n",
      "83\n",
      "[['Gboost' '0.015']]\n",
      "86\n",
      "[['Gboost' '0.02']]\n",
      "87\n",
      "[['Gboost' '0.01']]\n",
      "90\n",
      "[['Gboost' '0.0']]\n",
      "91\n",
      "[['Gboost' '0.04']]\n",
      "100\n",
      "[['Gboost' '0.055']]\n",
      "114\n",
      "[['Gboost' '0.01']]\n",
      "117\n",
      "[['Gboost' '0.04']]\n",
      "120\n",
      "[['Gboost' '0.045']]\n",
      "126\n",
      "[['Gboost' '0.015']]\n",
      "130\n",
      "[['Gboost' '0.005']]\n",
      "134\n",
      "[['Gboost' '0.04']]\n",
      "137\n",
      "[['Gboost' '0.03']]\n",
      "147\n",
      "[['Gboost' '0.025']]\n",
      "155\n",
      "[['Gboost' '0.025']]\n",
      "165\n",
      "[['Gboost' '0.075']]\n",
      "180\n",
      "[['Gboost' '0.015']]\n",
      "183\n",
      "[['Gboost' '0.015']]\n",
      "189\n",
      "[['Gboost' '0.03']]\n",
      "194\n",
      "[['Gboost' '0.03']]\n",
      "199\n",
      "[['Gboost' '0.035']]\n",
      "201\n",
      "[['Gboost' '0.025']]\n",
      "209\n",
      "[['Gboost' '0.015']]\n",
      "217\n",
      "[['Gboost' '0.02']]\n",
      "220\n",
      "[['Gboost' '0.01']]\n",
      "221\n",
      "[['Gboost' '-0.005']]\n",
      "225\n",
      "[['Gboost' '0.05']]\n",
      "227\n",
      "[['Gboost' '0.025']]\n",
      "228\n",
      "[['Gboost' '0.03']]\n",
      "230\n",
      "[['Gboost' '0.0']]\n",
      "234\n",
      "[['Gboost' '0.04']]\n",
      "237\n",
      "[['Gboost' '-0.005']]\n",
      "240\n",
      "[['Gboost' '0.015']]\n",
      "244\n",
      "[['Gboost' '0.0']]\n",
      "253\n",
      "[['Gboost' '0.01']]\n",
      "256\n",
      "[['Gboost' '0.005']]\n",
      "272\n",
      "[['Gboost' '0.025']]\n",
      "277\n",
      "[['Gboost' '0.025']]\n",
      "279\n",
      "[['Gboost' '0.015']]\n",
      "281\n",
      "[['Gboost' '-0.005']]\n",
      "295\n",
      "[['Gboost' '0.0']]\n",
      "296\n",
      "[['Gboost' '0.02']]\n",
      "298\n",
      "[['Gboost' '0.01']]\n"
     ]
    }
   ],
   "source": [
    "ft.score_all_features()"
   ]
  },
  {
   "cell_type": "code",
   "execution_count": 44,
   "metadata": {},
   "outputs": [
    {
     "data": {
      "text/plain": [
       "array([['Gboost', '0.76']], dtype='<U32')"
      ]
     },
     "execution_count": 44,
     "metadata": {},
     "output_type": "execute_result"
    }
   ],
   "source": [
    "r4 = [13,63,90,221,230,237,244,281,295]\n",
    "for i in r4:\n",
    "    ft.remove_feature(str(i))\n",
    "ft.fit(False)"
   ]
  },
  {
   "cell_type": "markdown",
   "metadata": {},
   "source": [
    "And more iterations, until I see that all features are somewhat helpful"
   ]
  },
  {
   "cell_type": "code",
   "execution_count": 45,
   "metadata": {},
   "outputs": [
    {
     "name": "stdout",
     "output_type": "stream",
     "text": [
      "4\n",
      "[['Gboost' '0.01']]\n",
      "6\n",
      "[['Gboost' '-0.01']]\n",
      "9\n",
      "[['Gboost' '-0.015']]\n",
      "14\n",
      "[['Gboost' '-0.005']]\n",
      "16\n",
      "[['Gboost' '0.015']]\n",
      "26\n",
      "[['Gboost' '-0.005']]\n",
      "33\n",
      "[['Gboost' '0.03']]\n",
      "43\n",
      "[['Gboost' '-0.01']]\n",
      "48\n",
      "[['Gboost' '0.025']]\n",
      "50\n",
      "[['Gboost' '-0.005']]\n",
      "58\n",
      "[['Gboost' '-0.01']]\n",
      "65\n",
      "[['Gboost' '0.01']]\n",
      "69\n",
      "[['Gboost' '0.005']]\n",
      "83\n",
      "[['Gboost' '-0.005']]\n",
      "86\n",
      "[['Gboost' '-0.005']]\n",
      "87\n",
      "[['Gboost' '0.0']]\n",
      "91\n",
      "[['Gboost' '0.0']]\n",
      "100\n",
      "[['Gboost' '-0.015']]\n",
      "114\n",
      "[['Gboost' '-0.01']]\n",
      "117\n",
      "[['Gboost' '0.01']]\n",
      "120\n",
      "[['Gboost' '0.005']]\n",
      "126\n",
      "[['Gboost' '0.015']]\n",
      "130\n",
      "[['Gboost' '0.0']]\n",
      "134\n",
      "[['Gboost' '0.01']]\n",
      "137\n",
      "[['Gboost' '0.015']]\n",
      "147\n",
      "[['Gboost' '-0.005']]\n",
      "155\n",
      "[['Gboost' '-0.005']]\n",
      "165\n",
      "[['Gboost' '-0.015']]\n",
      "180\n",
      "[['Gboost' '0.01']]\n",
      "183\n",
      "[['Gboost' '-0.01']]\n",
      "189\n",
      "[['Gboost' '0.01']]\n",
      "194\n",
      "[['Gboost' '-0.005']]\n",
      "199\n",
      "[['Gboost' '0.01']]\n",
      "201\n",
      "[['Gboost' '0.005']]\n",
      "209\n",
      "[['Gboost' '-0.005']]\n",
      "217\n",
      "[['Gboost' '-0.015']]\n",
      "220\n",
      "[['Gboost' '0.0']]\n",
      "225\n",
      "[['Gboost' '-0.015']]\n",
      "227\n",
      "[['Gboost' '0.015']]\n",
      "228\n",
      "[['Gboost' '0.0']]\n",
      "234\n",
      "[['Gboost' '0.01']]\n",
      "240\n",
      "[['Gboost' '0.0']]\n",
      "253\n",
      "[['Gboost' '0.005']]\n",
      "256\n",
      "[['Gboost' '0.01']]\n",
      "272\n",
      "[['Gboost' '0.0']]\n",
      "277\n",
      "[['Gboost' '0.02']]\n",
      "279\n",
      "[['Gboost' '0.005']]\n",
      "296\n",
      "[['Gboost' '0.0']]\n",
      "298\n",
      "[['Gboost' '-0.01']]\n"
     ]
    }
   ],
   "source": [
    "ft.score_all_features()"
   ]
  },
  {
   "cell_type": "code",
   "execution_count": 46,
   "metadata": {},
   "outputs": [
    {
     "data": {
      "text/plain": [
       "array([['Gboost', '0.735']], dtype='<U32')"
      ]
     },
     "execution_count": 46,
     "metadata": {},
     "output_type": "execute_result"
    }
   ],
   "source": [
    "r5 = [6,9,14,26,43,50,58,83,86,87,91,100,114,130,147,155,165,183,194,209,217,220,225,228,240,272,296,298]\n",
    "for i in r5:\n",
    "    ft.remove_feature(str(i))\n",
    "ft.fit(False)"
   ]
  },
  {
   "cell_type": "markdown",
   "metadata": {},
   "source": [
    "This last removal step seems a bit odd, as all these features seemed fine before, and the overall scoring is much lower. I will go back to the results just after the removal of r4"
   ]
  },
  {
   "cell_type": "code",
   "execution_count": 47,
   "metadata": {},
   "outputs": [
    {
     "name": "stdout",
     "output_type": "stream",
     "text": [
      "[['Gboost' '0.73']]\n",
      "[['Gboost' '0.72']]\n",
      "[['Gboost' '0.745']]\n",
      "[['Gboost' '0.745']]\n",
      "[['Gboost' '0.755']]\n"
     ]
    }
   ],
   "source": [
    "ft = FeatureTester(train,test_size=0.2, random_seed=42)\n",
    "ft.add_estimator(boost,'Gboost')\n",
    "ft.set_y('target')\n",
    "for i in all_features:\n",
    "    ft.add_feature(str(i))\n",
    "print(ft.fit(False))\n",
    "for i in to_remove:\n",
    "    ft.remove_feature(str(i))\n",
    "print(ft.fit(False))\n",
    "for i in to_remove_2:\n",
    "    ft.remove_feature(str(i))\n",
    "print(ft.fit(False))\n",
    "for i in r3:\n",
    "    ft.remove_feature(str(i))\n",
    "print(ft.fit(False))\n",
    "for i in r4:\n",
    "    ft.remove_feature(str(i))\n",
    "print(ft.fit(False))"
   ]
  },
  {
   "cell_type": "code",
   "execution_count": 48,
   "metadata": {},
   "outputs": [],
   "source": [
    "test = pd.read_csv('test.csv')\n",
    "submit = test.drop('id',axis=1)"
   ]
  },
  {
   "cell_type": "code",
   "execution_count": 53,
   "metadata": {},
   "outputs": [],
   "source": [
    "final = [int(x[0]) for x in ft.features]"
   ]
  },
  {
   "cell_type": "markdown",
   "metadata": {},
   "source": [
    "Use all the data for the final training"
   ]
  },
  {
   "cell_type": "code",
   "execution_count": 55,
   "metadata": {},
   "outputs": [
    {
     "data": {
      "text/plain": [
       "GradientBoostingClassifier(criterion='friedman_mse', init=None,\n",
       "              learning_rate=0.1, loss='deviance', max_depth=3,\n",
       "              max_features=None, max_leaf_nodes=None,\n",
       "              min_impurity_decrease=0.0, min_impurity_split=None,\n",
       "              min_samples_leaf=1, min_samples_split=2,\n",
       "              min_weight_fraction_leaf=0.0, n_estimators=100,\n",
       "              n_iter_no_change=None, presort='auto', random_state=None,\n",
       "              subsample=1.0, tol=0.0001, validation_fraction=0.1,\n",
       "              verbose=0, warm_start=False)"
      ]
     },
     "execution_count": 55,
     "metadata": {},
     "output_type": "execute_result"
    }
   ],
   "source": [
    "boost.fit(X[:,final],y)"
   ]
  },
  {
   "cell_type": "code",
   "execution_count": 57,
   "metadata": {},
   "outputs": [],
   "source": [
    "pred = boost.predict_proba(submit.values[:,final])"
   ]
  },
  {
   "cell_type": "code",
   "execution_count": 58,
   "metadata": {},
   "outputs": [
    {
     "data": {
      "text/html": [
       "<div>\n",
       "<style scoped>\n",
       "    .dataframe tbody tr th:only-of-type {\n",
       "        vertical-align: middle;\n",
       "    }\n",
       "\n",
       "    .dataframe tbody tr th {\n",
       "        vertical-align: top;\n",
       "    }\n",
       "\n",
       "    .dataframe thead th {\n",
       "        text-align: right;\n",
       "    }\n",
       "</style>\n",
       "<table border=\"1\" class=\"dataframe\">\n",
       "  <thead>\n",
       "    <tr style=\"text-align: right;\">\n",
       "      <th></th>\n",
       "      <th>target</th>\n",
       "    </tr>\n",
       "    <tr>\n",
       "      <th>id</th>\n",
       "      <th></th>\n",
       "    </tr>\n",
       "  </thead>\n",
       "  <tbody>\n",
       "    <tr>\n",
       "      <th>250</th>\n",
       "      <td>0.899917</td>\n",
       "    </tr>\n",
       "    <tr>\n",
       "      <th>251</th>\n",
       "      <td>0.829367</td>\n",
       "    </tr>\n",
       "    <tr>\n",
       "      <th>252</th>\n",
       "      <td>0.867443</td>\n",
       "    </tr>\n",
       "    <tr>\n",
       "      <th>253</th>\n",
       "      <td>0.988908</td>\n",
       "    </tr>\n",
       "    <tr>\n",
       "      <th>254</th>\n",
       "      <td>0.877786</td>\n",
       "    </tr>\n",
       "  </tbody>\n",
       "</table>\n",
       "</div>"
      ],
      "text/plain": [
       "       target\n",
       "id           \n",
       "250  0.899917\n",
       "251  0.829367\n",
       "252  0.867443\n",
       "253  0.988908\n",
       "254  0.877786"
      ]
     },
     "execution_count": 58,
     "metadata": {},
     "output_type": "execute_result"
    }
   ],
   "source": [
    "ids = test['id']\n",
    "result = pd.DataFrame(pred[:,1],index=ids,columns=['target'])\n",
    "result.head()"
   ]
  },
  {
   "cell_type": "code",
   "execution_count": 59,
   "metadata": {},
   "outputs": [],
   "source": [
    "result.to_csv('selected_2.csv')"
   ]
  },
  {
   "cell_type": "code",
   "execution_count": null,
   "metadata": {},
   "outputs": [],
   "source": []
  }
 ],
 "metadata": {
  "kernelspec": {
   "display_name": "Python 3",
   "language": "python",
   "name": "python3"
  },
  "language_info": {
   "codemirror_mode": {
    "name": "ipython",
    "version": 3
   },
   "file_extension": ".py",
   "mimetype": "text/x-python",
   "name": "python",
   "nbconvert_exporter": "python",
   "pygments_lexer": "ipython3",
   "version": "3.6.7"
  }
 },
 "nbformat": 4,
 "nbformat_minor": 2
}
