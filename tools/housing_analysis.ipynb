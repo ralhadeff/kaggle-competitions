{
 "cells": [
  {
   "cell_type": "raw",
   "metadata": {},
   "source": [
    "pool size as is / pool size as flag  \n",
    "BedroomAbvGr maybe use truncated at 4 or not at all  \n",
    "Try binning BsmtFinType1 or not at all  \n",
    "BsmtFinType2 bin all by Unf or not at all  \n",
    "HalfBath maybe bin only 2 or not at all  \n",
    "MiscFeature - try binning  \n",
    "\n",
    "Dummy encoding:\n",
    "MSSubClass, MSZoning, Alley, Conditions1/2, BldgType, HouseStyle, RoofMatl, Exterior1st, Exterior2nd, MasVnrType, ExterQual, ExterCond, Foundation, BsmtQual, Heating(binned?), CentralAir, Electrical, Functional(binned), GarageType, GarageFinish, PoolQC(binned), Fence(binned), SaleType(binned), SaleCondition(binned)\n",
    "\n",
    "Ordinal:\n",
    "LotShape, LandContour, OverallQual(probably transformed), OverallCond(binned?), BsmtCond, BsmtExposure, HeatingQC, BsmtFullBath, FullBath, KitchenAbvGr, KitchenQual, TotRmsAbvGrd(maybe tranformed), Fireplaces, FireplaceQu, GarageCars(truncated, transformed), GarageQual, GarageCond, PavedDrive\n",
    "\n",
    "\n",
    "\n",
    "LowQualFinSF? EnclosedPorch? 3SsnPorch? MiscVal - only as flags (>0), or not at all\n",
    "\n",
    "Probably linear:\n",
    "LotFrontage, LotArea, MasVnrArea, BsmtFinSF1, TotalBsmtSF, 1stFlrSF, 2ndFlrSF, GrLivArea, GarageArea, WoodDeckSF, OpenPorchSF, ScreenPorch,  \n",
    "\n",
    "\n",
    "Neighborhood - categorial\n",
    "\n",
    "Transform:\n",
    "YearBuilt, YearRemodAdd, BsmtFinSF2, BsmtUnfSF, GarageYrBlt"
   ]
  },
  {
   "cell_type": "code",
   "execution_count": 3,
   "metadata": {},
   "outputs": [],
   "source": [
    "import numpy as np\n",
    "import pandas as pd\n",
    "import matplotlib.pyplot as plt\n",
    "import seaborn as sns"
   ]
  },
  {
   "cell_type": "code",
   "execution_count": 4,
   "metadata": {},
   "outputs": [],
   "source": [
    "data = pd.read_csv('train.csv')\n",
    "test = pd.read_csv('test.csv')"
   ]
  },
  {
   "cell_type": "markdown",
   "metadata": {},
   "source": [
    "## Convert to all numerical"
   ]
  },
  {
   "cell_type": "code",
   "execution_count": 242,
   "metadata": {},
   "outputs": [
    {
     "data": {
      "text/html": [
       "<div>\n",
       "<style scoped>\n",
       "    .dataframe tbody tr th:only-of-type {\n",
       "        vertical-align: middle;\n",
       "    }\n",
       "\n",
       "    .dataframe tbody tr th {\n",
       "        vertical-align: top;\n",
       "    }\n",
       "\n",
       "    .dataframe thead th {\n",
       "        text-align: right;\n",
       "    }\n",
       "</style>\n",
       "<table border=\"1\" class=\"dataframe\">\n",
       "  <thead>\n",
       "    <tr style=\"text-align: right;\">\n",
       "      <th></th>\n",
       "      <th>Id</th>\n",
       "      <th>MSSubClass</th>\n",
       "      <th>MSZoning</th>\n",
       "      <th>LotFrontage</th>\n",
       "      <th>LotArea</th>\n",
       "      <th>Street</th>\n",
       "      <th>Alley</th>\n",
       "      <th>LotShape</th>\n",
       "      <th>LandContour</th>\n",
       "      <th>Utilities</th>\n",
       "      <th>...</th>\n",
       "      <th>PoolArea</th>\n",
       "      <th>PoolQC</th>\n",
       "      <th>Fence</th>\n",
       "      <th>MiscFeature</th>\n",
       "      <th>MiscVal</th>\n",
       "      <th>MoSold</th>\n",
       "      <th>YrSold</th>\n",
       "      <th>SaleType</th>\n",
       "      <th>SaleCondition</th>\n",
       "      <th>SalePrice</th>\n",
       "    </tr>\n",
       "  </thead>\n",
       "  <tbody>\n",
       "    <tr>\n",
       "      <th>0</th>\n",
       "      <td>1</td>\n",
       "      <td>60</td>\n",
       "      <td>RL</td>\n",
       "      <td>65.0</td>\n",
       "      <td>8450</td>\n",
       "      <td>Pave</td>\n",
       "      <td>NaN</td>\n",
       "      <td>Reg</td>\n",
       "      <td>Lvl</td>\n",
       "      <td>AllPub</td>\n",
       "      <td>...</td>\n",
       "      <td>0</td>\n",
       "      <td>NaN</td>\n",
       "      <td>NaN</td>\n",
       "      <td>NaN</td>\n",
       "      <td>0</td>\n",
       "      <td>2</td>\n",
       "      <td>2008</td>\n",
       "      <td>WD</td>\n",
       "      <td>Normal</td>\n",
       "      <td>208500</td>\n",
       "    </tr>\n",
       "    <tr>\n",
       "      <th>1</th>\n",
       "      <td>2</td>\n",
       "      <td>20</td>\n",
       "      <td>RL</td>\n",
       "      <td>80.0</td>\n",
       "      <td>9600</td>\n",
       "      <td>Pave</td>\n",
       "      <td>NaN</td>\n",
       "      <td>Reg</td>\n",
       "      <td>Lvl</td>\n",
       "      <td>AllPub</td>\n",
       "      <td>...</td>\n",
       "      <td>0</td>\n",
       "      <td>NaN</td>\n",
       "      <td>NaN</td>\n",
       "      <td>NaN</td>\n",
       "      <td>0</td>\n",
       "      <td>5</td>\n",
       "      <td>2007</td>\n",
       "      <td>WD</td>\n",
       "      <td>Normal</td>\n",
       "      <td>181500</td>\n",
       "    </tr>\n",
       "    <tr>\n",
       "      <th>2</th>\n",
       "      <td>3</td>\n",
       "      <td>60</td>\n",
       "      <td>RL</td>\n",
       "      <td>68.0</td>\n",
       "      <td>11250</td>\n",
       "      <td>Pave</td>\n",
       "      <td>NaN</td>\n",
       "      <td>IR1</td>\n",
       "      <td>Lvl</td>\n",
       "      <td>AllPub</td>\n",
       "      <td>...</td>\n",
       "      <td>0</td>\n",
       "      <td>NaN</td>\n",
       "      <td>NaN</td>\n",
       "      <td>NaN</td>\n",
       "      <td>0</td>\n",
       "      <td>9</td>\n",
       "      <td>2008</td>\n",
       "      <td>WD</td>\n",
       "      <td>Normal</td>\n",
       "      <td>223500</td>\n",
       "    </tr>\n",
       "    <tr>\n",
       "      <th>3</th>\n",
       "      <td>4</td>\n",
       "      <td>70</td>\n",
       "      <td>RL</td>\n",
       "      <td>60.0</td>\n",
       "      <td>9550</td>\n",
       "      <td>Pave</td>\n",
       "      <td>NaN</td>\n",
       "      <td>IR1</td>\n",
       "      <td>Lvl</td>\n",
       "      <td>AllPub</td>\n",
       "      <td>...</td>\n",
       "      <td>0</td>\n",
       "      <td>NaN</td>\n",
       "      <td>NaN</td>\n",
       "      <td>NaN</td>\n",
       "      <td>0</td>\n",
       "      <td>2</td>\n",
       "      <td>2006</td>\n",
       "      <td>WD</td>\n",
       "      <td>Abnorml</td>\n",
       "      <td>140000</td>\n",
       "    </tr>\n",
       "    <tr>\n",
       "      <th>4</th>\n",
       "      <td>5</td>\n",
       "      <td>60</td>\n",
       "      <td>RL</td>\n",
       "      <td>84.0</td>\n",
       "      <td>14260</td>\n",
       "      <td>Pave</td>\n",
       "      <td>NaN</td>\n",
       "      <td>IR1</td>\n",
       "      <td>Lvl</td>\n",
       "      <td>AllPub</td>\n",
       "      <td>...</td>\n",
       "      <td>0</td>\n",
       "      <td>NaN</td>\n",
       "      <td>NaN</td>\n",
       "      <td>NaN</td>\n",
       "      <td>0</td>\n",
       "      <td>12</td>\n",
       "      <td>2008</td>\n",
       "      <td>WD</td>\n",
       "      <td>Normal</td>\n",
       "      <td>250000</td>\n",
       "    </tr>\n",
       "  </tbody>\n",
       "</table>\n",
       "<p>5 rows × 81 columns</p>\n",
       "</div>"
      ],
      "text/plain": [
       "   Id  MSSubClass MSZoning  LotFrontage  LotArea Street Alley LotShape  \\\n",
       "0   1          60       RL         65.0     8450   Pave   NaN      Reg   \n",
       "1   2          20       RL         80.0     9600   Pave   NaN      Reg   \n",
       "2   3          60       RL         68.0    11250   Pave   NaN      IR1   \n",
       "3   4          70       RL         60.0     9550   Pave   NaN      IR1   \n",
       "4   5          60       RL         84.0    14260   Pave   NaN      IR1   \n",
       "\n",
       "  LandContour Utilities    ...     PoolArea PoolQC Fence MiscFeature MiscVal  \\\n",
       "0         Lvl    AllPub    ...            0    NaN   NaN         NaN       0   \n",
       "1         Lvl    AllPub    ...            0    NaN   NaN         NaN       0   \n",
       "2         Lvl    AllPub    ...            0    NaN   NaN         NaN       0   \n",
       "3         Lvl    AllPub    ...            0    NaN   NaN         NaN       0   \n",
       "4         Lvl    AllPub    ...            0    NaN   NaN         NaN       0   \n",
       "\n",
       "  MoSold YrSold  SaleType  SaleCondition  SalePrice  \n",
       "0      2   2008        WD         Normal     208500  \n",
       "1      5   2007        WD         Normal     181500  \n",
       "2      9   2008        WD         Normal     223500  \n",
       "3      2   2006        WD        Abnorml     140000  \n",
       "4     12   2008        WD         Normal     250000  \n",
       "\n",
       "[5 rows x 81 columns]"
      ]
     },
     "execution_count": 242,
     "metadata": {},
     "output_type": "execute_result"
    }
   ],
   "source": [
    "df = data.copy()\n",
    "df.head()"
   ]
  },
  {
   "cell_type": "code",
   "execution_count": 21,
   "metadata": {},
   "outputs": [
    {
     "data": {
      "text/plain": [
       "0"
      ]
     },
     "execution_count": 21,
     "metadata": {},
     "output_type": "execute_result"
    }
   ],
   "source": [
    "df['MSSubClass'].isnull().sum()"
   ]
  },
  {
   "cell_type": "code",
   "execution_count": 9,
   "metadata": {},
   "outputs": [
    {
     "data": {
      "text/plain": [
       "20     536\n",
       "60     299\n",
       "50     144\n",
       "120     87\n",
       "30      69\n",
       "160     63\n",
       "70      60\n",
       "80      58\n",
       "90      52\n",
       "190     30\n",
       "85      20\n",
       "75      16\n",
       "45      12\n",
       "180     10\n",
       "40       4\n",
       "Name: MSSubClass, dtype: int64"
      ]
     },
     "execution_count": 9,
     "metadata": {},
     "output_type": "execute_result"
    }
   ],
   "source": [
    "df['MSSubClass'].value_counts()"
   ]
  },
  {
   "cell_type": "code",
   "execution_count": 14,
   "metadata": {},
   "outputs": [],
   "source": [
    "MSSubClass = pd.get_dummies(df['MSSubClass']).drop(40,axis=1)"
   ]
  },
  {
   "cell_type": "code",
   "execution_count": 20,
   "metadata": {},
   "outputs": [
    {
     "data": {
      "text/plain": [
       "0"
      ]
     },
     "execution_count": 20,
     "metadata": {},
     "output_type": "execute_result"
    }
   ],
   "source": [
    "df['MSZoning'].isnull().sum()"
   ]
  },
  {
   "cell_type": "code",
   "execution_count": 15,
   "metadata": {},
   "outputs": [
    {
     "data": {
      "text/plain": [
       "RL         1151\n",
       "RM          218\n",
       "FV           65\n",
       "RH           16\n",
       "C (all)      10\n",
       "Name: MSZoning, dtype: int64"
      ]
     },
     "execution_count": 15,
     "metadata": {},
     "output_type": "execute_result"
    }
   ],
   "source": [
    "df['MSZoning'].value_counts()"
   ]
  },
  {
   "cell_type": "code",
   "execution_count": 16,
   "metadata": {},
   "outputs": [],
   "source": [
    "MSZoning = pd.get_dummies(df['MSZoning']).drop('C (all)',axis=1)"
   ]
  },
  {
   "cell_type": "raw",
   "metadata": {},
   "source": [
    "Dummy encoding:\n",
    "Alley, Conditions1/2, BldgType, HouseStyle, RoofMatl, Exterior1st, Exterior2nd, MasVnrType, ExterQual, ExterCond, Foundation, BsmtQual, Heating(binned?), CentralAir, Electrical, Functional(binned), GarageType, GarageFinish, PoolQC(binned), Fence(binned), SaleType(binned), SaleCondition(binned)"
   ]
  },
  {
   "cell_type": "code",
   "execution_count": 22,
   "metadata": {},
   "outputs": [
    {
     "data": {
      "text/plain": [
       "1369"
      ]
     },
     "execution_count": 22,
     "metadata": {},
     "output_type": "execute_result"
    }
   ],
   "source": [
    "df['Alley'].isnull().sum()"
   ]
  },
  {
   "cell_type": "code",
   "execution_count": 18,
   "metadata": {},
   "outputs": [
    {
     "data": {
      "text/plain": [
       "Grvl    50\n",
       "Pave    41\n",
       "Name: Alley, dtype: int64"
      ]
     },
     "execution_count": 18,
     "metadata": {},
     "output_type": "execute_result"
    }
   ],
   "source": [
    "df['Alley'].value_counts()"
   ]
  },
  {
   "cell_type": "code",
   "execution_count": 23,
   "metadata": {},
   "outputs": [],
   "source": [
    "Alley = pd.get_dummies(df['Alley'])"
   ]
  },
  {
   "cell_type": "code",
   "execution_count": 40,
   "metadata": {},
   "outputs": [],
   "source": [
    "def make_dummy(df, column):\n",
    "    \"\"\"\n",
    "    Take a column name and make a dummy DataFrame from it\n",
    "        If there are Null values, do not omit one (null will be the 0's)\n",
    "        otherwise, remove the one will the least counts,\n",
    "        return the dataFrame\n",
    "    \"\"\"\n",
    "    nulls = df[column].isnull().sum()\n",
    "    rarest = df[column].value_counts().index[-1]\n",
    "    dummies = pd.get_dummies(df[column])\n",
    "    if (nulls>0):\n",
    "        return dummies\n",
    "    else:\n",
    "        return dummies.drop(rarest,axis=1)"
   ]
  },
  {
   "cell_type": "markdown",
   "metadata": {},
   "source": [
    "### Only linear features for now:"
   ]
  },
  {
   "cell_type": "code",
   "execution_count": 83,
   "metadata": {},
   "outputs": [],
   "source": [
    "X_df = data[['LotFrontage','LotArea','MasVnrArea','BsmtFinSF1','TotalBsmtSF',\n",
    "             '1stFlrSF','2ndFlrSF','GrLivArea','GarageArea','WoodDeckSF',\n",
    "             'OpenPorchSF','ScreenPorch']]\n",
    "X_df = X_df.fillna(0)\n",
    "y_df = data['SalePrice']"
   ]
  },
  {
   "cell_type": "code",
   "execution_count": 6,
   "metadata": {},
   "outputs": [],
   "source": [
    "from sklearn.ensemble import RandomForestRegressor\n",
    "from sklearn.linear_model import LinearRegression\n",
    "from sklearn.model_selection import train_test_split"
   ]
  },
  {
   "cell_type": "code",
   "execution_count": 85,
   "metadata": {},
   "outputs": [],
   "source": [
    "tree = RandomForestRegressor(100)\n",
    "reg = LinearRegression()"
   ]
  },
  {
   "cell_type": "code",
   "execution_count": 86,
   "metadata": {},
   "outputs": [],
   "source": [
    "X_train, X_test, y_train, y_test = train_test_split(X_df, y_df, test_size=0.2, random_state=42)"
   ]
  },
  {
   "cell_type": "code",
   "execution_count": 87,
   "metadata": {},
   "outputs": [
    {
     "data": {
      "text/plain": [
       "LinearRegression(copy_X=True, fit_intercept=True, n_jobs=None,\n",
       "         normalize=False)"
      ]
     },
     "execution_count": 87,
     "metadata": {},
     "output_type": "execute_result"
    }
   ],
   "source": [
    "tree.fit(X_train,y_train)\n",
    "reg.fit(X_train,y_train)"
   ]
  },
  {
   "cell_type": "code",
   "execution_count": 88,
   "metadata": {},
   "outputs": [
    {
     "data": {
      "text/plain": [
       "(0.8377110049164064, 0.7597915135161433)"
      ]
     },
     "execution_count": 88,
     "metadata": {},
     "output_type": "execute_result"
    }
   ],
   "source": [
    "tree.score(X_test,y_test),reg.score(X_test,y_test)"
   ]
  },
  {
   "cell_type": "code",
   "execution_count": 89,
   "metadata": {},
   "outputs": [
    {
     "data": {
      "text/plain": [
       "array([0.01864863, 0.02612781, 0.02292419, 0.069138  , 0.15173962,\n",
       "       0.03817401, 0.05379409, 0.3781492 , 0.18579879, 0.0137881 ,\n",
       "       0.03369917, 0.0080184 ])"
      ]
     },
     "execution_count": 89,
     "metadata": {},
     "output_type": "execute_result"
    }
   ],
   "source": [
    "tree.feature_importances_"
   ]
  },
  {
   "cell_type": "code",
   "execution_count": 90,
   "metadata": {},
   "outputs": [
    {
     "data": {
      "text/plain": [
       "array([ 2.38969496,  0.15371644, 44.11256088, 10.26847453, 38.41381599,\n",
       "       59.48734058, 69.93481433, -8.56745229, 91.8201022 , 54.11460183,\n",
       "       42.09850775, 52.94771328])"
      ]
     },
     "execution_count": 90,
     "metadata": {},
     "output_type": "execute_result"
    }
   ],
   "source": [
    "reg.coef_"
   ]
  },
  {
   "cell_type": "code",
   "execution_count": 94,
   "metadata": {},
   "outputs": [],
   "source": [
    "features = pd.DataFrame([tree.feature_importances_,reg.coef_],columns=X_df.columns).transpose()\n",
    "features.columns = ['Tree','Regression']"
   ]
  },
  {
   "cell_type": "code",
   "execution_count": 99,
   "metadata": {},
   "outputs": [
    {
     "data": {
      "text/html": [
       "<div>\n",
       "<style scoped>\n",
       "    .dataframe tbody tr th:only-of-type {\n",
       "        vertical-align: middle;\n",
       "    }\n",
       "\n",
       "    .dataframe tbody tr th {\n",
       "        vertical-align: top;\n",
       "    }\n",
       "\n",
       "    .dataframe thead th {\n",
       "        text-align: right;\n",
       "    }\n",
       "</style>\n",
       "<table border=\"1\" class=\"dataframe\">\n",
       "  <thead>\n",
       "    <tr style=\"text-align: right;\">\n",
       "      <th></th>\n",
       "      <th>Tree</th>\n",
       "      <th>Regression</th>\n",
       "    </tr>\n",
       "  </thead>\n",
       "  <tbody>\n",
       "    <tr>\n",
       "      <th>GrLivArea</th>\n",
       "      <td>0.378149</td>\n",
       "      <td>-8.567452</td>\n",
       "    </tr>\n",
       "    <tr>\n",
       "      <th>GarageArea</th>\n",
       "      <td>0.185799</td>\n",
       "      <td>91.820102</td>\n",
       "    </tr>\n",
       "    <tr>\n",
       "      <th>TotalBsmtSF</th>\n",
       "      <td>0.151740</td>\n",
       "      <td>38.413816</td>\n",
       "    </tr>\n",
       "    <tr>\n",
       "      <th>BsmtFinSF1</th>\n",
       "      <td>0.069138</td>\n",
       "      <td>10.268475</td>\n",
       "    </tr>\n",
       "    <tr>\n",
       "      <th>2ndFlrSF</th>\n",
       "      <td>0.053794</td>\n",
       "      <td>69.934814</td>\n",
       "    </tr>\n",
       "    <tr>\n",
       "      <th>1stFlrSF</th>\n",
       "      <td>0.038174</td>\n",
       "      <td>59.487341</td>\n",
       "    </tr>\n",
       "    <tr>\n",
       "      <th>OpenPorchSF</th>\n",
       "      <td>0.033699</td>\n",
       "      <td>42.098508</td>\n",
       "    </tr>\n",
       "    <tr>\n",
       "      <th>LotArea</th>\n",
       "      <td>0.026128</td>\n",
       "      <td>0.153716</td>\n",
       "    </tr>\n",
       "    <tr>\n",
       "      <th>MasVnrArea</th>\n",
       "      <td>0.022924</td>\n",
       "      <td>44.112561</td>\n",
       "    </tr>\n",
       "    <tr>\n",
       "      <th>LotFrontage</th>\n",
       "      <td>0.018649</td>\n",
       "      <td>2.389695</td>\n",
       "    </tr>\n",
       "    <tr>\n",
       "      <th>WoodDeckSF</th>\n",
       "      <td>0.013788</td>\n",
       "      <td>54.114602</td>\n",
       "    </tr>\n",
       "    <tr>\n",
       "      <th>ScreenPorch</th>\n",
       "      <td>0.008018</td>\n",
       "      <td>52.947713</td>\n",
       "    </tr>\n",
       "  </tbody>\n",
       "</table>\n",
       "</div>"
      ],
      "text/plain": [
       "                 Tree  Regression\n",
       "GrLivArea    0.378149   -8.567452\n",
       "GarageArea   0.185799   91.820102\n",
       "TotalBsmtSF  0.151740   38.413816\n",
       "BsmtFinSF1   0.069138   10.268475\n",
       "2ndFlrSF     0.053794   69.934814\n",
       "1stFlrSF     0.038174   59.487341\n",
       "OpenPorchSF  0.033699   42.098508\n",
       "LotArea      0.026128    0.153716\n",
       "MasVnrArea   0.022924   44.112561\n",
       "LotFrontage  0.018649    2.389695\n",
       "WoodDeckSF   0.013788   54.114602\n",
       "ScreenPorch  0.008018   52.947713"
      ]
     },
     "execution_count": 99,
     "metadata": {},
     "output_type": "execute_result"
    }
   ],
   "source": [
    "features.sort_values('Tree',ascending=False)"
   ]
  },
  {
   "cell_type": "code",
   "execution_count": 100,
   "metadata": {},
   "outputs": [
    {
     "data": {
      "text/plain": [
       "<matplotlib.axes._subplots.AxesSubplot at 0x7f3fbbfc10b8>"
      ]
     },
     "execution_count": 100,
     "metadata": {},
     "output_type": "execute_result"
    },
    {
     "data": {
      "image/png": "[encoded data removed]",
      "text/plain": [
       "<Figure size 432x288 with 1 Axes>"
      ]
     },
     "metadata": {
      "needs_background": "light"
     },
     "output_type": "display_data"
    }
   ],
   "source": [
    "sns.scatterplot(features['Tree'],features['Regression'])"
   ]
  },
  {
   "cell_type": "markdown",
   "metadata": {},
   "source": [
    "### Feature testing class"
   ]
  },
  {
   "cell_type": "markdown",
   "metadata": {},
   "source": [
    "I will construct a feature testing class that will help me manage this task more easily"
   ]
  },
  {
   "cell_type": "code",
   "execution_count": 252,
   "metadata": {},
   "outputs": [],
   "source": [
    "\"\"\"\n",
    "Feature Tester\n",
    "\"\"\"\n",
    "\n",
    "import numpy as np\n",
    "import pandas as pd\n",
    "import matplotlib.pyplot as plt\n",
    "import seaborn as sns\n",
    "from sklearn.model_selection import train_test_split\n",
    "from sklearn.model_selection import cross_val_score\n",
    "\n",
    "class FeatureTester():\n",
    "        \n",
    "    def __init__(self, data, test_size=0.2, random_seed='random', cv=5, precision=4):\n",
    "        \"\"\"\n",
    "        Initialize the feature tester, provide data as a pandas dataframe, including the y column\n",
    "        \"\"\"\n",
    "        self.data = data\n",
    "        # features to use, and type of feature\n",
    "        self.features = []\n",
    "        # features not to use\n",
    "        self.dont_use = []\n",
    "        # list of estimators and their names\n",
    "        self.estimators = []\n",
    "        self.names = []\n",
    "        # random seem to train_test_split\n",
    "        if (random_seed=='random'):\n",
    "            self.random_seed = np.random.randint(0,1000)\n",
    "        # test size (in train_test_split)\n",
    "        self.test_size = test_size\n",
    "        # number of CV iterations\n",
    "        self.cv = cv\n",
    "        # number of decimal points to show\n",
    "        self.precision = precision\n",
    "        \n",
    "    def set_y(self,column):\n",
    "        \"\"\"Mark the y column (by name)\"\"\"\n",
    "        self.y = column\n",
    "    \n",
    "    def add_feature(self,feature,dtype='numerical',arg='auto'):\n",
    "        \"\"\"\n",
    "        Add feature to the regression\n",
    "            default is numerical\n",
    "            \n",
    "            ordinal can be specified in dtype, if so, a conversion dictionary might be required\n",
    "            \n",
    "            categorical can be specified in dtype, if so, feature will be converted to dummy columns\n",
    "                by default omitting NaN or the least frequest label\n",
    "                (otherwise, dummy to omit can be specified by name)\n",
    "        \"\"\"\n",
    "        if (dtype=='numerical'):\n",
    "            # add as is\n",
    "            self.features.append((feature,dtype))\n",
    "        elif(dtype=='ordinal'):\n",
    "            # add converted with optional dictionary\n",
    "            self.features.append((feature,dtype,arg))\n",
    "        elif(dtype=='categorical'):\n",
    "            # add converted to dummies\n",
    "            self.features.append((feature,dtype,arg))  \n",
    "    \n",
    "    def print_features(self,type_filter=None,return_tuple=False):\n",
    "        \"\"\"Return list of features in a concise representation\"\"\"\n",
    "        if (type_filter) == None:\n",
    "            return [feature[0] for feature in self.features]\n",
    "        elif (return_tuple):\n",
    "            return [feature for feature in self.features if feature[1]==type_filter]\n",
    "        else:\n",
    "            return [feature[0] for feature in self.features if feature[1]==type_filter]\n",
    "    \n",
    "    def find_feature_index(self,feature):\n",
    "        \"\"\"Find the index of a feature by name\"\"\"\n",
    "        i = 0\n",
    "        for f in self.features:\n",
    "            if (f[0] == feature):\n",
    "                break\n",
    "            i+=1\n",
    "        return i\n",
    "\n",
    "    def modify_feature(self,feature,dtype,arg=None):\n",
    "        \"\"\"Modify a feature and score it\"\"\"\n",
    "        i = self.find_feature_index(feature)\n",
    "        if (arg is None):\n",
    "            self.features[i] = (feature,dtype)\n",
    "        else:\n",
    "            self.features[i] = (feature,dtype,arg)\n",
    "        return self.score_feature(feature)\n",
    "    \n",
    "    def remove_feature(self,feature):\n",
    "        \"\"\"Move the last added feature(s) to the No pile\n",
    "        \"\"\"\n",
    "        i = self.find_feature_index(feature)\n",
    "        removed = self.features.pop(i)\n",
    "        self.dont_use.append(removed[0])\n",
    "        # run fit again to correct self.previous\n",
    "        self.fit()\n",
    "    \n",
    "    def add_estimator(self,estimator,name):\n",
    "        \"\"\"Add a named estimator to perform regression with\"\"\"\n",
    "        self.estimators.append(estimator)\n",
    "        self.names.append(name)\n",
    "    \n",
    "    def fit(self,compare=False,skip=None):\n",
    "        \"\"\"\n",
    "        Fit the selected features and return scores\n",
    "            compare will also print the different in the score from the previous fit\n",
    "            skip allows user to skip a single feature (for recomparing etc)\n",
    "        \"\"\"\n",
    "        X, y = self.build_data(skip)\n",
    "        # fit and score\n",
    "        X_train, X_test, y_train, y_test = train_test_split(X, y, \n",
    "                            test_size=self.test_size, random_state=self.random_seed)\n",
    "        scores = []\n",
    "        for estimator in self.estimators:\n",
    "            scores.append( cross_val_score(estimator,X_train,y_train,cv=5).mean() )\n",
    "        if (compare):\n",
    "            diff = np.asarray(scores) - np.asarray(self.previous)\n",
    "            self.previous = scores\n",
    "            scores_diff = np.round(np.concatenate((scores,diff)),self.precision)\n",
    "            return np.concatenate((self.names,scores_diff)).reshape(3,len(scores)).T\n",
    "        self.previous = scores\n",
    "        return np.concatenate((self.names,np.round(scores,self.precision))).reshape(2,len(scores)).T\n",
    "    \n",
    "    def score_feature(self,feature):\n",
    "        \"\"\"Check the difference is scoring with and without a feature\"\"\"\n",
    "        self.fit(skip=feature)\n",
    "        return self.fit(True)\n",
    "    \n",
    "    def sanity_check(self):\n",
    "        \"\"\"Make sure there is nothing that makes not sense or that raises red flags\"\"\"\n",
    "        features = self.print_features()\n",
    "        duplicates = set([f for f in features if features.count(f) > 1])\n",
    "        if (len(duplicates)>0):\n",
    "            print('Warning, you have duplicates')\n",
    "            print(duplicates)\n",
    "        yes_and_no = set([f for f in features if f in self.dont_use])\n",
    "        if (len(yes_and_no)>0):\n",
    "            print('Warning, you have features both in use and in dont_use')\n",
    "            print(yes_and_no)\n",
    "        missing_features = []\n",
    "        for f in self.data.columns:\n",
    "            if (f not in features and f not in self.dont_use):\n",
    "                missing_features.append(f)\n",
    "        if (len(missing_features)>0):\n",
    "            print('Note, there are features in the dataset that were not tested')\n",
    "            print(missing_features)\n",
    "        \n",
    "    def build_data(self,skip=None):\n",
    "        # add numerical features\n",
    "        numerical = self.print_features('numerical')\n",
    "        if (skip in numerical):\n",
    "            numerical.remove(skip)\n",
    "        X = data[numerical]\n",
    "        # add ordinal features\n",
    "        ordinal = self.print_features('ordinal',True)\n",
    "        for feature in ordinal:\n",
    "            if (feature[0]!=skip):\n",
    "                if (feature[2] == 'auto'):\n",
    "                    X = np.hstack((X,self.data[feature[0]][:,None]))\n",
    "                else:\n",
    "                    column = self.data[feature[0]].map(feature[2])\n",
    "                    X = np.hstack((X,column[:,None]))\n",
    "        # add categorical features\n",
    "        categorical = self.print_features('categorical',True)\n",
    "        for feature in categorical:\n",
    "            if (feature[0]!=skip):\n",
    "                if (feature[2]=='auto'):\n",
    "                    dummies = make_dummy(data,feature[0])\n",
    "                else:\n",
    "                    dummies = make_dummy(data,feature[0],feature[2])\n",
    "                X = np.hstack((X,dummies))\n",
    "        # y \n",
    "        y = data[self.y]\n",
    "        return X, y \n",
    "\n",
    "def get_dict(df,column):\n",
    "    \"\"\"\n",
    "    Return an empty dictionary for user to fill\n",
    "        this should make ordinal and categorical binning easier\n",
    "    \"\"\"\n",
    "    return dict([(f,0) for f in df[column].unique()])\n",
    "\n",
    "def observe_feature(df,column,y):\n",
    "    n = df[column].nunique()\n",
    "    if (n>=20):\n",
    "        sns.scatterplot(x=column,y=y,data=df)\n",
    "    if (n<20):\n",
    "        print(data[column].value_counts())\n",
    "        sns.boxplot(x=column,y=y,data=data.fillna('nan'))\n",
    "        plt.show()\n",
    "            \n",
    "def make_dummy(df, column,omit=None):\n",
    "    \"\"\"\n",
    "    Take a column name and make a dummy DataFrame from it\n",
    "        If there are Null values, do not omit one (null will be the 0's)\n",
    "        otherwise, remove the one will the least counts,\n",
    "        return the dataFrame\n",
    "            optional - omit the specified label\n",
    "    \"\"\"\n",
    "    nulls = df[column].isnull().sum()\n",
    "    rarest = df[column].value_counts().index[-1]\n",
    "    dummies = pd.get_dummies(df[column])\n",
    "    if (nulls>0):\n",
    "        if (omit is not None):\n",
    "            raise ValueError('NaN values are present, omit cannot be specified')\n",
    "        return dummies\n",
    "    elif (omit is None):\n",
    "        return dummies.drop(rarest,axis=1)\n",
    "    else:\n",
    "        return dummmies.drop(omit,axis=1)"
   ]
  },
  {
   "cell_type": "raw",
   "metadata": {},
   "source": [
    "TODO:\n",
    "    printout feature to column number (for X) list\n",
    "    add binning to categorical\n",
    "    add transformed features (log, 1/x, x**2 etc)\n",
    "    add score_all"
   ]
  },
  {
   "cell_type": "code",
   "execution_count": 253,
   "metadata": {},
   "outputs": [
    {
     "name": "stdout",
     "output_type": "stream",
     "text": [
      "[['Linear' '0.0495']]\n",
      "[['Linear' '0.4954' '0.4459']]\n"
     ]
    }
   ],
   "source": [
    "ft = FeatureTester(data)\n",
    "ft.set_y('SalePrice')\n",
    "ft.add_feature('LotArea')\n",
    "ft.add_estimator(LinearRegression(),'Linear')\n",
    "#ft.add_estimator(RandomForestRegressor(50),'Forest')\n",
    "print(ft.fit())\n",
    "ft.add_feature('GrLivArea')\n",
    "print(ft.fit(True))"
   ]
  },
  {
   "cell_type": "code",
   "execution_count": 237,
   "metadata": {},
   "outputs": [],
   "source": [
    "ft.add_feature('LotShape','ordinal',{'Reg':1,'IR1':2,'IR2':3,'IR3':3})"
   ]
  },
  {
   "cell_type": "code",
   "execution_count": 238,
   "metadata": {},
   "outputs": [
    {
     "data": {
      "text/plain": [
       "array([['Linear', '0.4914', '0.0207']], dtype='<U32')"
      ]
     },
     "execution_count": 238,
     "metadata": {},
     "output_type": "execute_result"
    }
   ],
   "source": [
    "ft.modify_feature('LotShape','ordinal',{'Reg':0,'IR1':2,'IR2':4,'IR3':3})"
   ]
  },
  {
   "cell_type": "code",
   "execution_count": 239,
   "metadata": {},
   "outputs": [
    {
     "data": {
      "text/plain": [
       "array([['Linear', '0.671', '0.1795']], dtype='<U32')"
      ]
     },
     "execution_count": 239,
     "metadata": {},
     "output_type": "execute_result"
    }
   ],
   "source": [
    "ft.add_feature('OverallQual','ordinal')\n",
    "ft.fit(True)"
   ]
  },
  {
   "cell_type": "code",
   "execution_count": 240,
   "metadata": {},
   "outputs": [
    {
     "data": {
      "text/plain": [
       "array([['Linear', '0.6895', '0.0186']], dtype='<U32')"
      ]
     },
     "execution_count": 240,
     "metadata": {},
     "output_type": "execute_result"
    }
   ],
   "source": [
    "ft.add_feature('MSZoning','categorical')\n",
    "ft.fit(True)"
   ]
  },
  {
   "cell_type": "code",
   "execution_count": 241,
   "metadata": {},
   "outputs": [
    {
     "data": {
      "text/plain": [
       "array([['Linear', '0.6646', '-0.0249']], dtype='<U32')"
      ]
     },
     "execution_count": 241,
     "metadata": {},
     "output_type": "execute_result"
    }
   ],
   "source": [
    "ft.add_feature('PoolArea','ordinal',{0: 0, 512: 1, 648: 1, 576: 1, 555: 1, 480: 1, 519: 1, 738: 1})\n",
    "ft.fit(True)"
   ]
  },
  {
   "cell_type": "code",
   "execution_count": 246,
   "metadata": {},
   "outputs": [
    {
     "data": {
      "text/plain": [
       "array([['Linear', '0.6646', '-0.0249']], dtype='<U32')"
      ]
     },
     "execution_count": 246,
     "metadata": {},
     "output_type": "execute_result"
    }
   ],
   "source": [
    "ft.score_feature('PoolArea')"
   ]
  },
  {
   "cell_type": "code",
   "execution_count": 224,
   "metadata": {},
   "outputs": [
    {
     "data": {
      "text/plain": [
       "array([['Linear', '0.7054', '-0.01']], dtype='<U32')"
      ]
     },
     "execution_count": 224,
     "metadata": {},
     "output_type": "execute_result"
    }
   ],
   "source": [
    "ft.modify_feature('PoolArea','numerical')"
   ]
  },
  {
   "cell_type": "code",
   "execution_count": 247,
   "metadata": {},
   "outputs": [
    {
     "data": {
      "text/plain": [
       "96"
      ]
     },
     "execution_count": 247,
     "metadata": {},
     "output_type": "execute_result"
    }
   ],
   "source": [
    "ft.random_seed"
   ]
  },
  {
   "cell_type": "code",
   "execution_count": 243,
   "metadata": {},
   "outputs": [],
   "source": [
    "X,y = ft.build_data()"
   ]
  },
  {
   "cell_type": "code",
   "execution_count": 249,
   "metadata": {},
   "outputs": [],
   "source": [
    "X_train, X_test, y_train, y_test = train_test_split(X, y, \n",
    "                            test_size=0.2, random_state=96)"
   ]
  },
  {
   "cell_type": "code",
   "execution_count": 250,
   "metadata": {},
   "outputs": [
    {
     "data": {
      "text/plain": [
       "0.6646220742827585"
      ]
     },
     "execution_count": 250,
     "metadata": {},
     "output_type": "execute_result"
    }
   ],
   "source": [
    "cross_val_score(ft.estimators[0],X_train,y_train,cv=5).mean()"
   ]
  },
  {
   "cell_type": "code",
   "execution_count": 251,
   "metadata": {},
   "outputs": [
    {
     "data": {
      "text/plain": [
       "0.6895398478290574"
      ]
     },
     "execution_count": 251,
     "metadata": {},
     "output_type": "execute_result"
    }
   ],
   "source": [
    "cross_val_score(ft.estimators[0],np.delete(X_train,4,axis=1),y_train,cv=5).mean()"
   ]
  },
  {
   "cell_type": "code",
   "execution_count": 197,
   "metadata": {},
   "outputs": [
    {
     "data": {
      "text/plain": [
       "[('LotArea', 'numerical'),\n",
       " ('GrLivArea', 'numerical'),\n",
       " ('LotShape', 'ordinal', {'Reg': 0, 'IR1': 2, 'IR2': 4, 'IR3': 3}),\n",
       " ('OverallQual', 'ordinal', 'auto'),\n",
       " ('MSZoning', 'categorical', 'auto'),\n",
       " ('PoolArea',\n",
       "  'ordinal',\n",
       "  {0: 0, 512: 1, 648: 1, 576: 1, 555: 1, 480: 1, 519: 1, 738: 1})]"
      ]
     },
     "execution_count": 197,
     "metadata": {},
     "output_type": "execute_result"
    }
   ],
   "source": [
    "ft.features"
   ]
  },
  {
   "cell_type": "code",
   "execution_count": 208,
   "metadata": {},
   "outputs": [
    {
     "data": {
      "text/plain": [
       "array([[ 8450,  1710,     0, ...,     0,     1,     0],\n",
       "       [ 9600,  1262,     0, ...,     0,     1,     0],\n",
       "       [11250,  1786,     2, ...,     0,     1,     0],\n",
       "       ...,\n",
       "       [ 9042,  2340,     0, ...,     0,     1,     0],\n",
       "       [ 9717,  1078,     0, ...,     0,     1,     0],\n",
       "       [ 9937,  1256,     0, ...,     0,     1,     0]])"
      ]
     },
     "execution_count": 208,
     "metadata": {},
     "output_type": "execute_result"
    }
   ],
   "source": [
    "np.delete(X,4,axis=1)"
   ]
  },
  {
   "cell_type": "code",
   "execution_count": 235,
   "metadata": {},
   "outputs": [
    {
     "data": {
      "text/plain": [
       "1162"
      ]
     },
     "execution_count": 235,
     "metadata": {},
     "output_type": "execute_result"
    }
   ],
   "source": [
    "X[:,3].sum()"
   ]
  },
  {
   "cell_type": "code",
   "execution_count": 196,
   "metadata": {},
   "outputs": [
    {
     "data": {
      "text/plain": [
       "0      1453\n",
       "738       1\n",
       "648       1\n",
       "576       1\n",
       "555       1\n",
       "519       1\n",
       "512       1\n",
       "480       1\n",
       "Name: PoolArea, dtype: int64"
      ]
     },
     "execution_count": 196,
     "metadata": {},
     "output_type": "execute_result"
    }
   ],
   "source": [
    "data['PoolArea'].value_counts()"
   ]
  },
  {
   "cell_type": "code",
   "execution_count": 570,
   "metadata": {},
   "outputs": [],
   "source": [
    "a = make_dummy(data,'PoolArea')[data['PoolArea']>0]"
   ]
  },
  {
   "cell_type": "code",
   "execution_count": 167,
   "metadata": {},
   "outputs": [
    {
     "data": {
      "text/plain": [
       "{0: 0, 512: 0, 648: 0, 576: 0, 555: 0, 480: 0, 519: 0, 738: 0}"
      ]
     },
     "execution_count": 167,
     "metadata": {},
     "output_type": "execute_result"
    }
   ],
   "source": [
    "get_dict(data,'PoolArea')`"
   ]
  },
  {
   "cell_type": "code",
   "execution_count": 580,
   "metadata": {},
   "outputs": [],
   "source": [
    "a['c'] = a.iloc[:,1:].sum(axis=1)"
   ]
  },
  {
   "cell_type": "code",
   "execution_count": 583,
   "metadata": {},
   "outputs": [],
   "source": [
    "data['Id']=1298"
   ]
  },
  {
   "cell_type": "code",
   "execution_count": 584,
   "metadata": {},
   "outputs": [
    {
     "data": {
      "text/html": [
       "<div>\n",
       "<style scoped>\n",
       "    .dataframe tbody tr th:only-of-type {\n",
       "        vertical-align: middle;\n",
       "    }\n",
       "\n",
       "    .dataframe tbody tr th {\n",
       "        vertical-align: top;\n",
       "    }\n",
       "\n",
       "    .dataframe thead th {\n",
       "        text-align: right;\n",
       "    }\n",
       "</style>\n",
       "<table border=\"1\" class=\"dataframe\">\n",
       "  <thead>\n",
       "    <tr style=\"text-align: right;\">\n",
       "      <th></th>\n",
       "      <th>Id</th>\n",
       "      <th>MSSubClass</th>\n",
       "      <th>MSZoning</th>\n",
       "      <th>LotFrontage</th>\n",
       "      <th>LotArea</th>\n",
       "      <th>Street</th>\n",
       "      <th>Alley</th>\n",
       "      <th>LotShape</th>\n",
       "      <th>LandContour</th>\n",
       "      <th>Utilities</th>\n",
       "      <th>...</th>\n",
       "      <th>PoolArea</th>\n",
       "      <th>PoolQC</th>\n",
       "      <th>Fence</th>\n",
       "      <th>MiscFeature</th>\n",
       "      <th>MiscVal</th>\n",
       "      <th>MoSold</th>\n",
       "      <th>YrSold</th>\n",
       "      <th>SaleType</th>\n",
       "      <th>SaleCondition</th>\n",
       "      <th>SalePrice</th>\n",
       "    </tr>\n",
       "  </thead>\n",
       "  <tbody>\n",
       "    <tr>\n",
       "      <th>1295</th>\n",
       "      <td>1298</td>\n",
       "      <td>20</td>\n",
       "      <td>RL</td>\n",
       "      <td>70.0</td>\n",
       "      <td>8400</td>\n",
       "      <td>Pave</td>\n",
       "      <td>NaN</td>\n",
       "      <td>Reg</td>\n",
       "      <td>Lvl</td>\n",
       "      <td>AllPub</td>\n",
       "      <td>...</td>\n",
       "      <td>0</td>\n",
       "      <td>NaN</td>\n",
       "      <td>GdWo</td>\n",
       "      <td>NaN</td>\n",
       "      <td>0</td>\n",
       "      <td>11</td>\n",
       "      <td>2006</td>\n",
       "      <td>WD</td>\n",
       "      <td>Normal</td>\n",
       "      <td>138500</td>\n",
       "    </tr>\n",
       "    <tr>\n",
       "      <th>1296</th>\n",
       "      <td>1298</td>\n",
       "      <td>20</td>\n",
       "      <td>RL</td>\n",
       "      <td>80.0</td>\n",
       "      <td>8700</td>\n",
       "      <td>Pave</td>\n",
       "      <td>NaN</td>\n",
       "      <td>Reg</td>\n",
       "      <td>Lvl</td>\n",
       "      <td>AllPub</td>\n",
       "      <td>...</td>\n",
       "      <td>0</td>\n",
       "      <td>NaN</td>\n",
       "      <td>MnPrv</td>\n",
       "      <td>NaN</td>\n",
       "      <td>0</td>\n",
       "      <td>12</td>\n",
       "      <td>2008</td>\n",
       "      <td>WD</td>\n",
       "      <td>Normal</td>\n",
       "      <td>155000</td>\n",
       "    </tr>\n",
       "    <tr>\n",
       "      <th>1297</th>\n",
       "      <td>1298</td>\n",
       "      <td>180</td>\n",
       "      <td>RM</td>\n",
       "      <td>35.0</td>\n",
       "      <td>3675</td>\n",
       "      <td>Pave</td>\n",
       "      <td>NaN</td>\n",
       "      <td>Reg</td>\n",
       "      <td>Lvl</td>\n",
       "      <td>AllPub</td>\n",
       "      <td>...</td>\n",
       "      <td>0</td>\n",
       "      <td>NaN</td>\n",
       "      <td>NaN</td>\n",
       "      <td>NaN</td>\n",
       "      <td>0</td>\n",
       "      <td>6</td>\n",
       "      <td>2006</td>\n",
       "      <td>New</td>\n",
       "      <td>Partial</td>\n",
       "      <td>140000</td>\n",
       "    </tr>\n",
       "    <tr>\n",
       "      <th>1298</th>\n",
       "      <td>1298</td>\n",
       "      <td>60</td>\n",
       "      <td>RL</td>\n",
       "      <td>313.0</td>\n",
       "      <td>63887</td>\n",
       "      <td>Pave</td>\n",
       "      <td>NaN</td>\n",
       "      <td>IR3</td>\n",
       "      <td>Bnk</td>\n",
       "      <td>AllPub</td>\n",
       "      <td>...</td>\n",
       "      <td>480</td>\n",
       "      <td>Gd</td>\n",
       "      <td>NaN</td>\n",
       "      <td>NaN</td>\n",
       "      <td>0</td>\n",
       "      <td>1</td>\n",
       "      <td>2008</td>\n",
       "      <td>New</td>\n",
       "      <td>Partial</td>\n",
       "      <td>160000</td>\n",
       "    </tr>\n",
       "    <tr>\n",
       "      <th>1299</th>\n",
       "      <td>1298</td>\n",
       "      <td>20</td>\n",
       "      <td>RL</td>\n",
       "      <td>75.0</td>\n",
       "      <td>7500</td>\n",
       "      <td>Pave</td>\n",
       "      <td>NaN</td>\n",
       "      <td>Reg</td>\n",
       "      <td>Lvl</td>\n",
       "      <td>AllPub</td>\n",
       "      <td>...</td>\n",
       "      <td>0</td>\n",
       "      <td>NaN</td>\n",
       "      <td>GdPrv</td>\n",
       "      <td>NaN</td>\n",
       "      <td>0</td>\n",
       "      <td>5</td>\n",
       "      <td>2010</td>\n",
       "      <td>WD</td>\n",
       "      <td>Normal</td>\n",
       "      <td>154000</td>\n",
       "    </tr>\n",
       "  </tbody>\n",
       "</table>\n",
       "<p>5 rows × 81 columns</p>\n",
       "</div>"
      ],
      "text/plain": [
       "        Id  MSSubClass MSZoning  LotFrontage  LotArea Street Alley LotShape  \\\n",
       "1295  1298          20       RL         70.0     8400   Pave   NaN      Reg   \n",
       "1296  1298          20       RL         80.0     8700   Pave   NaN      Reg   \n",
       "1297  1298         180       RM         35.0     3675   Pave   NaN      Reg   \n",
       "1298  1298          60       RL        313.0    63887   Pave   NaN      IR3   \n",
       "1299  1298          20       RL         75.0     7500   Pave   NaN      Reg   \n",
       "\n",
       "     LandContour Utilities    ...     PoolArea PoolQC  Fence MiscFeature  \\\n",
       "1295         Lvl    AllPub    ...            0    NaN   GdWo         NaN   \n",
       "1296         Lvl    AllPub    ...            0    NaN  MnPrv         NaN   \n",
       "1297         Lvl    AllPub    ...            0    NaN    NaN         NaN   \n",
       "1298         Bnk    AllPub    ...          480     Gd    NaN         NaN   \n",
       "1299         Lvl    AllPub    ...            0    NaN  GdPrv         NaN   \n",
       "\n",
       "     MiscVal MoSold YrSold  SaleType  SaleCondition  SalePrice  \n",
       "1295       0     11   2006        WD         Normal     138500  \n",
       "1296       0     12   2008        WD         Normal     155000  \n",
       "1297       0      6   2006       New        Partial     140000  \n",
       "1298       0      1   2008       New        Partial     160000  \n",
       "1299       0      5   2010        WD         Normal     154000  \n",
       "\n",
       "[5 rows x 81 columns]"
      ]
     },
     "execution_count": 584,
     "metadata": {},
     "output_type": "execute_result"
    }
   ],
   "source": [
    "data.head(1300).tail(5)"
   ]
  },
  {
   "cell_type": "code",
   "execution_count": null,
   "metadata": {},
   "outputs": [],
   "source": []
  },
  {
   "cell_type": "code",
   "execution_count": 162,
   "metadata": {},
   "outputs": [],
   "source": [
    "a = data['PoolArea'].unique()"
   ]
  },
  {
   "cell_type": "code",
   "execution_count": 165,
   "metadata": {},
   "outputs": [
    {
     "data": {
      "text/plain": [
       "{0: 0, 512: 512, 648: 648, 576: 576, 555: 555, 480: 480, 519: 519, 738: 738}"
      ]
     },
     "execution_count": 165,
     "metadata": {},
     "output_type": "execute_result"
    }
   ],
   "source": [
    "dict([(b,b) for b in a])"
   ]
  },
  {
   "cell_type": "code",
   "execution_count": null,
   "metadata": {},
   "outputs": [],
   "source": []
  },
  {
   "cell_type": "raw",
   "metadata": {},
   "source": [
    "pool size as is / pool size as flag  \n",
    "BedroomAbvGr maybe use truncated at 4 or not at all  \n",
    "Try binning BsmtFinType1 or not at all  \n",
    "BsmtFinType2 bin all but Unf or not at all  \n",
    "HalfBath maybe bin only 2 or not at all  \n",
    "MiscFeature - try binning  \n",
    "\n",
    "Dummy encoding:\n",
    "MSSubClass, MSZoning, Alley, Conditions1/2, BldgType, HouseStyle, RoofMatl, Exterior1st, Exterior2nd, MasVnrType, ExterQual, ExterCond, Foundation, BsmtQual, Heating(binned?), CentralAir, Electrical, Functional(binned), GarageType, GarageFinish, PoolQC(binned), Fence(binned), SaleType(binned), SaleCondition(binned)\n",
    "\n",
    "Ordinal:\n",
    "LotShape, LandContour, OverallQual(probably transformed), OverallCond(binned?), BsmtCond, BsmtExposure, HeatingQC, BsmtFullBath, FullBath, KitchenAbvGr, KitchenQual, TotRmsAbvGrd(maybe tranformed), Fireplaces, FireplaceQu, GarageCars(truncated, transformed), GarageQual, GarageCond, PavedDrive\n",
    "\n",
    "\n",
    "\n",
    "LowQualFinSF? EnclosedPorch? 3SsnPorch? MiscVal - only as flags (>0), or not at all\n",
    "\n",
    "Probably linear:\n",
    "LotFrontage, LotArea, MasVnrArea, BsmtFinSF1, TotalBsmtSF, 1stFlrSF, 2ndFlrSF, GrLivArea, GarageArea, WoodDeckSF, OpenPorchSF, ScreenPorch,  \n",
    "\n",
    "\n",
    "Neighborhood - categorial\n",
    "\n",
    "Transform:\n",
    "YearBuilt, YearRemodAdd, BsmtFinSF2, BsmtUnfSF, GarageYrBlt"
   ]
  }
 ],
 "metadata": {
  "kernelspec": {
   "display_name": "Python 3",
   "language": "python",
   "name": "python3"
  },
  "language_info": {
   "codemirror_mode": {
    "name": "ipython",
    "version": 3
   },
   "file_extension": ".py",
   "mimetype": "text/x-python",
   "name": "python",
   "nbconvert_exporter": "python",
   "pygments_lexer": "ipython3",
   "version": "3.6.7"
  }
 },
 "nbformat": 4,
 "nbformat_minor": 2
}
