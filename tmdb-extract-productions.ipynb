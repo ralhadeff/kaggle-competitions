{
 "cells": [
  {
   "cell_type": "markdown",
   "metadata": {},
   "source": [
    "# Kaggle - TMDB "
   ]
  },
  {
   "cell_type": "markdown",
   "metadata": {},
   "source": [
    "### Extract tables - production_companies"
   ]
  },
  {
   "cell_type": "code",
   "execution_count": 1,
   "metadata": {},
   "outputs": [],
   "source": [
    "import numpy as np\n",
    "import pandas as pd\n",
    "import matplotlib.pyplot as plt\n",
    "import seaborn as sns\n",
    "import ast\n",
    "import math"
   ]
  },
  {
   "cell_type": "code",
   "execution_count": 2,
   "metadata": {},
   "outputs": [],
   "source": [
    "MILLION = 1000000"
   ]
  },
  {
   "cell_type": "code",
   "execution_count": 3,
   "metadata": {},
   "outputs": [],
   "source": [
    "train = pd.read_csv('train.csv')"
   ]
  },
  {
   "cell_type": "markdown",
   "metadata": {},
   "source": [
    "### production_companies"
   ]
  },
  {
   "cell_type": "code",
   "execution_count": 4,
   "metadata": {},
   "outputs": [
    {
     "data": {
      "text/plain": [
       "1     775\n",
       "2     734\n",
       "3     582\n",
       "4     312\n",
       "5     166\n",
       "0     156\n",
       "6     118\n",
       "7      62\n",
       "8      42\n",
       "9      29\n",
       "11      7\n",
       "10      7\n",
       "12      3\n",
       "16      2\n",
       "15      2\n",
       "14      1\n",
       "13      1\n",
       "17      1\n",
       "Name: production_companies, dtype: int64"
      ]
     },
     "execution_count": 4,
     "metadata": {},
     "output_type": "execute_result"
    }
   ],
   "source": [
    "train['production_companies'].fillna('[]').map(lambda x: len(ast.literal_eval(x))).value_counts()"
   ]
  },
  {
   "cell_type": "code",
   "execution_count": 20,
   "metadata": {},
   "outputs": [],
   "source": [
    "train['prod'] = train['production_companies'].fillna('[{\"id\":-123}]').map(lambda x: [i['id'] for i in (ast.literal_eval(x))])"
   ]
  },
  {
   "cell_type": "code",
   "execution_count": 21,
   "metadata": {},
   "outputs": [],
   "source": [
    "productions = []\n",
    "for p in train[train['production_companies'].notnull()]['production_companies'].map(lambda x: [(i['id'],i['name']) for i in (ast.literal_eval(x))]).values:\n",
    "    productions.extend(p)\n",
    "\n",
    "prod_id = [p[0] for p in productions]\n",
    "prod_name = [p[1] for p in productions]\n",
    "\n",
    "productions,counts = np.unique(np.array(prod_id),return_counts=True)\n",
    "\n",
    "prod_names = {}\n",
    "for i in range(len(prod_id)):\n",
    "    prod_names[prod_id[i]] = prod_name[i]"
   ]
  },
  {
   "cell_type": "code",
   "execution_count": 22,
   "metadata": {},
   "outputs": [
    {
     "name": "stdout",
     "output_type": "stream",
     "text": [
      "0 0\n",
      "1 2678\n",
      "2 505\n",
      "3 188\n",
      "4 105\n",
      "5 60\n",
      "6 38\n",
      "7 28\n",
      "8 18\n",
      "9 16\n",
      "10 8\n",
      "11 9\n",
      "12 4\n",
      "13 4\n",
      "14 4\n",
      "15 2\n",
      "16 4\n",
      "17 1\n",
      "18 3\n",
      "19 2\n",
      ">20 11\n"
     ]
    }
   ],
   "source": [
    "for i in range(20):\n",
    "    print(i,len([prod_names[p] for p in productions[counts==i]]))\n",
    "print('>20',len([prod_names[p] for p in productions[counts>50]]))"
   ]
  },
  {
   "cell_type": "markdown",
   "metadata": {},
   "source": [
    "Try only productions that have at least 5 movies"
   ]
  },
  {
   "cell_type": "code",
   "execution_count": 37,
   "metadata": {},
   "outputs": [],
   "source": [
    "revenues = {}\n",
    "for i in prod_names.keys():\n",
    "    if (counts[productions==i]>5):\n",
    "        revenues[i] = train[train['prod'].map(lambda x: True if i in x else False)]['revenue'].map(math.log).mean()"
   ]
  },
  {
   "cell_type": "code",
   "execution_count": 41,
   "metadata": {},
   "outputs": [
    {
     "data": {
      "text/plain": [
       "{4: 17.381079061980937,\n",
       " 60: 17.000036930747143,\n",
       " 8411: 16.413752160032484,\n",
       " 2: 18.857807128309688,\n",
       " 3172: 18.064468560641856,\n",
       " 97: 17.37482457838468,\n",
       " 306: 17.662572621798066,\n",
       " 10201: 17.31646346120715,\n",
       " 27: 18.480664455113253,\n",
       " 215: 16.890685472749276,\n",
       " 216: 17.58664945475536,\n",
       " 56: 18.579960510083907,\n",
       " 6363: 16.840137128242116,\n",
       " 288: 15.45742696753967,\n",
       " 2452: 16.689118611850255,\n",
       " 3823: 17.686016241423342,\n",
       " 5358: 15.685160602050402,\n",
       " 6896: 17.100827639075387,\n",
       " 12: 17.90916624265092,\n",
       " 33: 17.69511779837755,\n",
       " 552: 16.63077061231688,\n",
       " 9: 15.984250889393502,\n",
       " 6301: 17.747526527292003,\n",
       " 5870: 16.173375127711036,\n",
       " 6916: 13.25406166330179,\n",
       " 7025: 14.441710289819904,\n",
       " 491: 17.318067347756102,\n",
       " 7437: 15.582464378113974,\n",
       " 6194: 17.528503145345162,\n",
       " 441: 16.870350274797268,\n",
       " 126: 16.54091571502828,\n",
       " 12026: 18.15296692336638,\n",
       " 9383: 19.853968763510917,\n",
       " 11749: 19.691829752138194,\n",
       " 308: 16.587559287758072,\n",
       " 559: 16.675636728961102,\n",
       " 5: 18.050588153838948,\n",
       " 915: 16.700645164769917,\n",
       " 1382: 17.175570861874327,\n",
       " 7576: 19.290338537886505,\n",
       " 11345: 18.237274957913055,\n",
       " 507: 19.04758817864394,\n",
       " 846: 15.457760427084,\n",
       " 11509: 16.15520853705459,\n",
       " 316: 17.07991071122813,\n",
       " 23: 17.89256250767508,\n",
       " 9195: 17.412895493326307,\n",
       " 41: 16.542875643877128,\n",
       " 763: 16.6418983400906,\n",
       " 1171: 17.19678361072175,\n",
       " 7383: 18.383018437122356,\n",
       " 2521: 15.54059835688191,\n",
       " 104: 17.913621411545424,\n",
       " 508: 17.88247520269542,\n",
       " 14: 16.69841964716552,\n",
       " 83: 15.426007174774021,\n",
       " 10221: 18.627443220871797,\n",
       " 2268: 14.203937477987973,\n",
       " 7281: 13.405041680866502,\n",
       " 5490: 17.30285733544895,\n",
       " 4564: 16.655393643978464,\n",
       " 497: 17.681595470610013,\n",
       " 11: 19.692471585752934,\n",
       " 1885: 17.868017825469227,\n",
       " 43: 16.83819573029464,\n",
       " 6332: 18.222915123291674,\n",
       " 694: 16.297107379978605,\n",
       " 923: 19.438833301253954,\n",
       " 431: 19.222870317015538,\n",
       " 9168: 19.70669108431283,\n",
       " 19551: 18.217596971696103,\n",
       " 1422: 13.953438977356674,\n",
       " 1403: 16.307848235472093,\n",
       " 10210: 17.02045828259561,\n",
       " 79: 18.124233495433643,\n",
       " 1786: 17.73818169099168,\n",
       " 3287: 17.655956380435278,\n",
       " 333: 18.7637724034138,\n",
       " 2608: 18.440167551015282,\n",
       " 3: 20.026745054056352,\n",
       " 1632: 17.220928712921637,\n",
       " 7405: 17.056423336922116,\n",
       " 1088: 14.788027834578422,\n",
       " 11317: 17.458865923693637,\n",
       " 1444: 16.374969988520007,\n",
       " 444: 18.378900442032425,\n",
       " 10104: 17.66394217139033,\n",
       " 7076: 18.4413958914936,\n",
       " 7295: 18.138416380339727,\n",
       " 10254: 16.83660752724011,\n",
       " 14723: 17.17413815389762,\n",
       " 10163: 17.756267916871344,\n",
       " 831: 17.63477800304627,\n",
       " 925: 16.252411097978026,\n",
       " 264: 18.57286708647499,\n",
       " 9349: 15.983394404511305,\n",
       " 81: 17.150711951444517,\n",
       " 711: 18.089783004709385,\n",
       " 2683: 16.07143656603722,\n",
       " 5755: 18.824623396363094,\n",
       " 172: 18.110403361370828,\n",
       " 6452: 18.88603922453946,\n",
       " 10105: 18.431394723325873,\n",
       " 10405: 15.92823952974635,\n",
       " 181: 15.591311770157612,\n",
       " 158: 18.075588025670122,\n",
       " 10282: 17.399600357226657,\n",
       " 13549: 15.97862021641397,\n",
       " 4171: 17.92924043001286,\n",
       " 562: 18.05790682340461,\n",
       " 171: 16.340953330937513,\n",
       " 10039: 17.19447211107155,\n",
       " 1302: 17.914278361890357,\n",
       " 258: 17.168505381195338,\n",
       " 435: 19.309015026436338,\n",
       " 1755: 14.223595100470158,\n",
       " 6735: 16.144794102098174,\n",
       " 248: 18.489326406991374,\n",
       " 729: 15.262557744582077,\n",
       " 10611: 14.171494147229266,\n",
       " 675: 17.750092169575314,\n",
       " 2320: 15.763203689455963,\n",
       " 10146: 16.365527938592294,\n",
       " 436: 19.062800867302027,\n",
       " 9335: 16.036348386340833,\n",
       " 9996: 18.481166472622565,\n",
       " 13184: 17.72874716756966,\n",
       " 41077: 14.92696598396844,\n",
       " 289: 17.935237946797724,\n",
       " 826: 14.74811173184512,\n",
       " 10339: 16.01829178301927,\n",
       " 347: 17.84772681036331,\n",
       " 54502: 17.61177179128028,\n",
       " 2481: 18.86346367210609,\n",
       " 1645: 18.01266017200943,\n",
       " 10932: 15.515802680259807,\n",
       " 11391: 17.03804484868944,\n",
       " 7294: 15.344590987811655,\n",
       " 2188: 15.773406776502352,\n",
       " 9993: 18.82627162477325,\n",
       " 1: 18.505104083898473,\n",
       " 34034: 18.574256711616346,\n",
       " 737: 15.012030124675947,\n",
       " 3281: 18.818672159832413,\n",
       " 53009: 16.78587490504562,\n",
       " 6: 14.0982877656809,\n",
       " 856: 14.648571172350625,\n",
       " 58: 15.410686338726947,\n",
       " 6736: 16.213145593840352,\n",
       " 1216: 14.975473592829537,\n",
       " 521: 19.6560775530269,\n",
       " 932: 16.1637489728669,\n",
       " 70: 16.736767456184555,\n",
       " 429: 18.75403339005886,\n",
       " 7493: 15.552050001330938,\n",
       " 174: 17.54436674963235,\n",
       " 35: 16.26084123678452,\n",
       " 829: 17.96633051004992,\n",
       " 5219: 19.397468494619,\n",
       " 3929: 17.824223860433392,\n",
       " 7263: 16.904457168067058,\n",
       " 8: 15.194578460196032,\n",
       " 10893: 18.845693016650063,\n",
       " 3045: 18.685792400344354,\n",
       " 22213: 19.19285152895439,\n",
       " 1268: 15.230217497260556,\n",
       " 1504: 16.999427874137787,\n",
       " 10308: 17.3347800125005,\n",
       " 130: 19.983681919091627,\n",
       " 420: 18.74348345404558,\n",
       " 76043: 19.72684204904842,\n",
       " 7981: 16.490920761849093,\n",
       " 2527: 17.09925429614774,\n",
       " 746: 18.19052092510401,\n",
       " 13: 16.94757936690518,\n",
       " 134: 17.355976745659564}"
      ]
     },
     "execution_count": 41,
     "metadata": {},
     "output_type": "execute_result"
    }
   ],
   "source": [
    "revenues"
   ]
  },
  {
   "cell_type": "code",
   "execution_count": 44,
   "metadata": {},
   "outputs": [],
   "source": [
    "paol = pd.Series(revenues).to_frame()"
   ]
  },
  {
   "cell_type": "code",
   "execution_count": 45,
   "metadata": {},
   "outputs": [
    {
     "data": {
      "text/html": [
       "<div>\n",
       "<style scoped>\n",
       "    .dataframe tbody tr th:only-of-type {\n",
       "        vertical-align: middle;\n",
       "    }\n",
       "\n",
       "    .dataframe tbody tr th {\n",
       "        vertical-align: top;\n",
       "    }\n",
       "\n",
       "    .dataframe thead th {\n",
       "        text-align: right;\n",
       "    }\n",
       "</style>\n",
       "<table border=\"1\" class=\"dataframe\">\n",
       "  <thead>\n",
       "    <tr style=\"text-align: right;\">\n",
       "      <th></th>\n",
       "      <th>revenue</th>\n",
       "    </tr>\n",
       "  </thead>\n",
       "  <tbody>\n",
       "    <tr>\n",
       "      <th>4</th>\n",
       "      <td>17.381079</td>\n",
       "    </tr>\n",
       "    <tr>\n",
       "      <th>60</th>\n",
       "      <td>17.000037</td>\n",
       "    </tr>\n",
       "    <tr>\n",
       "      <th>8411</th>\n",
       "      <td>16.413752</td>\n",
       "    </tr>\n",
       "    <tr>\n",
       "      <th>2</th>\n",
       "      <td>18.857807</td>\n",
       "    </tr>\n",
       "    <tr>\n",
       "      <th>3172</th>\n",
       "      <td>18.064469</td>\n",
       "    </tr>\n",
       "  </tbody>\n",
       "</table>\n",
       "</div>"
      ],
      "text/plain": [
       "        revenue\n",
       "4     17.381079\n",
       "60    17.000037\n",
       "8411  16.413752\n",
       "2     18.857807\n",
       "3172  18.064469"
      ]
     },
     "execution_count": 45,
     "metadata": {},
     "output_type": "execute_result"
    }
   ],
   "source": [
    "paol.columns = ['revenue']\n",
    "paol.head()"
   ]
  },
  {
   "cell_type": "code",
   "execution_count": 46,
   "metadata": {},
   "outputs": [
    {
     "data": {
      "text/html": [
       "<div>\n",
       "<style scoped>\n",
       "    .dataframe tbody tr th:only-of-type {\n",
       "        vertical-align: middle;\n",
       "    }\n",
       "\n",
       "    .dataframe tbody tr th {\n",
       "        vertical-align: top;\n",
       "    }\n",
       "\n",
       "    .dataframe thead th {\n",
       "        text-align: right;\n",
       "    }\n",
       "</style>\n",
       "<table border=\"1\" class=\"dataframe\">\n",
       "  <thead>\n",
       "    <tr style=\"text-align: right;\">\n",
       "      <th></th>\n",
       "      <th>revenue</th>\n",
       "      <th>counts</th>\n",
       "    </tr>\n",
       "  </thead>\n",
       "  <tbody>\n",
       "    <tr>\n",
       "      <th>4</th>\n",
       "      <td>17.381079</td>\n",
       "      <td>161</td>\n",
       "    </tr>\n",
       "    <tr>\n",
       "      <th>60</th>\n",
       "      <td>17.000037</td>\n",
       "      <td>44</td>\n",
       "    </tr>\n",
       "    <tr>\n",
       "      <th>8411</th>\n",
       "      <td>16.413752</td>\n",
       "      <td>84</td>\n",
       "    </tr>\n",
       "    <tr>\n",
       "      <th>2</th>\n",
       "      <td>18.857807</td>\n",
       "      <td>62</td>\n",
       "    </tr>\n",
       "    <tr>\n",
       "      <th>3172</th>\n",
       "      <td>18.064469</td>\n",
       "      <td>18</td>\n",
       "    </tr>\n",
       "  </tbody>\n",
       "</table>\n",
       "</div>"
      ],
      "text/plain": [
       "        revenue  counts\n",
       "4     17.381079     161\n",
       "60    17.000037      44\n",
       "8411  16.413752      84\n",
       "2     18.857807      62\n",
       "3172  18.064469      18"
      ]
     },
     "execution_count": 46,
     "metadata": {},
     "output_type": "execute_result"
    }
   ],
   "source": [
    "paol['counts'] = paol.index.map(dict(zip(productions,counts)))\n",
    "paol.head()"
   ]
  },
  {
   "cell_type": "code",
   "execution_count": 47,
   "metadata": {},
   "outputs": [
    {
     "data": {
      "text/html": [
       "<div>\n",
       "<style scoped>\n",
       "    .dataframe tbody tr th:only-of-type {\n",
       "        vertical-align: middle;\n",
       "    }\n",
       "\n",
       "    .dataframe tbody tr th {\n",
       "        vertical-align: top;\n",
       "    }\n",
       "\n",
       "    .dataframe thead th {\n",
       "        text-align: right;\n",
       "    }\n",
       "</style>\n",
       "<table border=\"1\" class=\"dataframe\">\n",
       "  <thead>\n",
       "    <tr style=\"text-align: right;\">\n",
       "      <th></th>\n",
       "      <th>revenue</th>\n",
       "      <th>counts</th>\n",
       "      <th>name</th>\n",
       "    </tr>\n",
       "  </thead>\n",
       "  <tbody>\n",
       "    <tr>\n",
       "      <th>4</th>\n",
       "      <td>17.381079</td>\n",
       "      <td>161</td>\n",
       "      <td>Paramount Pictures</td>\n",
       "    </tr>\n",
       "    <tr>\n",
       "      <th>60</th>\n",
       "      <td>17.000037</td>\n",
       "      <td>44</td>\n",
       "      <td>United Artists</td>\n",
       "    </tr>\n",
       "    <tr>\n",
       "      <th>8411</th>\n",
       "      <td>16.413752</td>\n",
       "      <td>84</td>\n",
       "      <td>Metro-Goldwyn-Mayer (MGM)</td>\n",
       "    </tr>\n",
       "    <tr>\n",
       "      <th>2</th>\n",
       "      <td>18.857807</td>\n",
       "      <td>62</td>\n",
       "      <td>Walt Disney Pictures</td>\n",
       "    </tr>\n",
       "    <tr>\n",
       "      <th>3172</th>\n",
       "      <td>18.064469</td>\n",
       "      <td>18</td>\n",
       "      <td>Blumhouse Productions</td>\n",
       "    </tr>\n",
       "  </tbody>\n",
       "</table>\n",
       "</div>"
      ],
      "text/plain": [
       "        revenue  counts                       name\n",
       "4     17.381079     161         Paramount Pictures\n",
       "60    17.000037      44             United Artists\n",
       "8411  16.413752      84  Metro-Goldwyn-Mayer (MGM)\n",
       "2     18.857807      62       Walt Disney Pictures\n",
       "3172  18.064469      18      Blumhouse Productions"
      ]
     },
     "execution_count": 47,
     "metadata": {},
     "output_type": "execute_result"
    }
   ],
   "source": [
    "paol['name'] = paol.index.map(prod_names)\n",
    "paol.head()                  "
   ]
  },
  {
   "cell_type": "code",
   "execution_count": 48,
   "metadata": {},
   "outputs": [],
   "source": [
    "paol.to_csv('production_companies_short.csv')"
   ]
  }
 ],
 "metadata": {
  "kernelspec": {
   "display_name": "Python 3",
   "language": "python",
   "name": "python3"
  },
  "language_info": {
   "codemirror_mode": {
    "name": "ipython",
    "version": 3
   },
   "file_extension": ".py",
   "mimetype": "text/x-python",
   "name": "python",
   "nbconvert_exporter": "python",
   "pygments_lexer": "ipython3",
   "version": "3.6.7"
  }
 },
 "nbformat": 4,
 "nbformat_minor": 2
}
